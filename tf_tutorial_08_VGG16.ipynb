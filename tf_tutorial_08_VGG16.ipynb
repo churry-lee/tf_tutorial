{
  "nbformat": 4,
  "nbformat_minor": 0,
  "metadata": {
    "colab": {
      "name": "tf_tutorial_08_VGG16.ipynb",
      "provenance": [],
      "collapsed_sections": [],
      "authorship_tag": "ABX9TyNMJ0LKBg1akMG1L4+uIjbi",
      "include_colab_link": true
    },
    "kernelspec": {
      "name": "python3",
      "display_name": "Python 3"
    },
    "language_info": {
      "name": "python"
    },
    "accelerator": "GPU"
  },
  "cells": [
    {
      "cell_type": "markdown",
      "metadata": {
        "id": "view-in-github",
        "colab_type": "text"
      },
      "source": [
        "<a href=\"https://colab.research.google.com/github/churry75/tf_tutorial/blob/master/tf_tutorial_08_VGG16.ipynb\" target=\"_parent\"><img src=\"https://colab.research.google.com/assets/colab-badge.svg\" alt=\"Open In Colab\"/></a>"
      ]
    },
    {
      "cell_type": "markdown",
      "metadata": {
        "id": "fIz-r9_OGJzq"
      },
      "source": [
        "## VGG 16 Model"
      ]
    },
    {
      "cell_type": "code",
      "metadata": {
        "id": "ONbib3xm0_dy"
      },
      "source": [
        "_input = keras.layers.Input(shape=[224, 224, 3])"
      ],
      "execution_count": null,
      "outputs": []
    },
    {
      "cell_type": "code",
      "metadata": {
        "id": "jqNAmELN1J73"
      },
      "source": [
        "conv_1 = keras.layers.Conv2D(filters=64, kernel_size=3, \n",
        "                             padding='same', activation='relu')(_input)\n",
        "conv_1 = keras.layers.Conv2D(filters=64, kernel_size=3, \n",
        "                             padding='same', activation='relu')(conv_1)\n",
        "conv_1 = keras.layers.MaxPool2D(pool_size=2, strides=2, padding='same')(conv_1)"
      ],
      "execution_count": null,
      "outputs": []
    },
    {
      "cell_type": "code",
      "metadata": {
        "id": "z5c6g78_3d4l"
      },
      "source": [
        "conv_2 = keras.layers.Conv2D(filters=128, kernel_size=3, \n",
        "                             padding='same', activation='relu')(conv_1)\n",
        "conv_2 = keras.layers.Conv2D(filters=128, kernel_size=3, \n",
        "                             padding='same', activation='relu')(conv_2)\n",
        "conv_2 = keras.layers.MaxPool2D(pool_size=2, strides=2, padding='same')(conv_2)"
      ],
      "execution_count": null,
      "outputs": []
    },
    {
      "cell_type": "code",
      "metadata": {
        "id": "9NNHWNNk4ECo"
      },
      "source": [
        "conv_3 = keras.layers.Conv2D(filters=256, kernel_size=3, \n",
        "                             padding='same', activation='relu')(conv_2)\n",
        "conv_3 = keras.layers.Conv2D(filters=256, kernel_size=3, \n",
        "                             padding='same', activation='relu')(conv_3)\n",
        "conv_3 = keras.layers.Conv2D(filters=256, kernel_size=3,\n",
        "                             padding='same', activation='relu')(conv_3)\n",
        "conv_3 = keras.layers.MaxPool2D(pool_size=2, strides=2, padding='same')(conv_3)"
      ],
      "execution_count": null,
      "outputs": []
    },
    {
      "cell_type": "code",
      "metadata": {
        "id": "FSW3duwI4xS0"
      },
      "source": [
        "conv_4 = keras.layers.Conv2D(filters=512, kernel_size=3,\n",
        "                             padding='same', activation='relu')(conv_3)\n",
        "conv_4 = keras.layers.Conv2D(filters=512, kernel_size=3,\n",
        "                             padding='same', activation='relu')(conv_4)\n",
        "conv_4 = keras.layers.Conv2D(filters=512, kernel_size=3,\n",
        "                             padding='same', activation='relu')(conv_4)\n",
        "conv_4 = keras.layers.MaxPool2D(pool_size=2, strides=2, padding='same')(conv_4)"
      ],
      "execution_count": null,
      "outputs": []
    },
    {
      "cell_type": "code",
      "metadata": {
        "id": "deG7Y6Tp44ke"
      },
      "source": [
        "conv_5 = keras.layers.Conv2D(filters=512, kernel_size=3,\n",
        "                             padding='same', activation='relu')(conv_4)\n",
        "conv_5 = keras.layers.Conv2D(filters=512, kernel_size=3,\n",
        "                             padding='same', activation='relu')(conv_5)\n",
        "conv_5 = keras.layers.Conv2D(filters=512, kernel_size=3,\n",
        "                             padding='same', activation='relu')(conv_5)\n",
        "conv_5 = keras.layers.MaxPool2D(pool_size=2, strides=2, padding='same')(conv_5)"
      ],
      "execution_count": null,
      "outputs": []
    },
    {
      "cell_type": "code",
      "metadata": {
        "id": "WfLAITi35XWp"
      },
      "source": [
        "flatten_1 = keras.layers.Flatten()(conv_5)\n",
        "dense_1 = keras.layers.Dense(units=4096, activation='relu')(flatten_1)\n",
        "dense_2 = keras.layers.Dense(units=4096, activation='relu')(dense_1)\n",
        "_output = keras.layers.Dense(units=1000, activation='softmax')(dense_2)"
      ],
      "execution_count": null,
      "outputs": []
    },
    {
      "cell_type": "code",
      "metadata": {
        "id": "NHw66NO88T6u",
        "colab": {
          "base_uri": "https://localhost:8080/"
        },
        "outputId": "d56b2913-909b-4865-88c3-649d69d75c84"
      },
      "source": [
        "model = keras.Model(inputs=_input, outputs=_output)\n",
        "model.summary()"
      ],
      "execution_count": null,
      "outputs": [
        {
          "output_type": "stream",
          "text": [
            "Model: \"model\"\n",
            "_________________________________________________________________\n",
            "Layer (type)                 Output Shape              Param #   \n",
            "=================================================================\n",
            "input_1 (InputLayer)         [(None, 224, 224, 3)]     0         \n",
            "_________________________________________________________________\n",
            "conv2d (Conv2D)              (None, 224, 224, 64)      1792      \n",
            "_________________________________________________________________\n",
            "conv2d_1 (Conv2D)            (None, 224, 224, 64)      36928     \n",
            "_________________________________________________________________\n",
            "max_pooling2d (MaxPooling2D) (None, 112, 112, 64)      0         \n",
            "_________________________________________________________________\n",
            "conv2d_2 (Conv2D)            (None, 112, 112, 128)     73856     \n",
            "_________________________________________________________________\n",
            "conv2d_3 (Conv2D)            (None, 112, 112, 128)     147584    \n",
            "_________________________________________________________________\n",
            "max_pooling2d_1 (MaxPooling2 (None, 56, 56, 128)       0         \n",
            "_________________________________________________________________\n",
            "conv2d_4 (Conv2D)            (None, 56, 56, 256)       295168    \n",
            "_________________________________________________________________\n",
            "conv2d_5 (Conv2D)            (None, 56, 56, 256)       590080    \n",
            "_________________________________________________________________\n",
            "conv2d_6 (Conv2D)            (None, 56, 56, 256)       590080    \n",
            "_________________________________________________________________\n",
            "max_pooling2d_2 (MaxPooling2 (None, 28, 28, 256)       0         \n",
            "_________________________________________________________________\n",
            "conv2d_7 (Conv2D)            (None, 28, 28, 512)       1180160   \n",
            "_________________________________________________________________\n",
            "conv2d_8 (Conv2D)            (None, 28, 28, 512)       2359808   \n",
            "_________________________________________________________________\n",
            "conv2d_9 (Conv2D)            (None, 28, 28, 512)       2359808   \n",
            "_________________________________________________________________\n",
            "max_pooling2d_3 (MaxPooling2 (None, 14, 14, 512)       0         \n",
            "_________________________________________________________________\n",
            "conv2d_10 (Conv2D)           (None, 14, 14, 512)       2359808   \n",
            "_________________________________________________________________\n",
            "conv2d_11 (Conv2D)           (None, 14, 14, 512)       2359808   \n",
            "_________________________________________________________________\n",
            "conv2d_12 (Conv2D)           (None, 14, 14, 512)       2359808   \n",
            "_________________________________________________________________\n",
            "max_pooling2d_4 (MaxPooling2 (None, 7, 7, 512)         0         \n",
            "_________________________________________________________________\n",
            "flatten (Flatten)            (None, 25088)             0         \n",
            "_________________________________________________________________\n",
            "dense (Dense)                (None, 4096)              102764544 \n",
            "_________________________________________________________________\n",
            "dense_1 (Dense)              (None, 4096)              16781312  \n",
            "_________________________________________________________________\n",
            "dense_2 (Dense)              (None, 1000)              4097000   \n",
            "=================================================================\n",
            "Total params: 138,357,544\n",
            "Trainable params: 138,357,544\n",
            "Non-trainable params: 0\n",
            "_________________________________________________________________\n"
          ],
          "name": "stdout"
        }
      ]
    }
  ]
}