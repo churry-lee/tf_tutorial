{
  "nbformat": 4,
  "nbformat_minor": 0,
  "metadata": {
    "colab": {
      "name": "tf_tutorial_10_CNN_classfication.ipynb",
      "provenance": [],
      "collapsed_sections": [],
      "authorship_tag": "ABX9TyNA5QQWXyn4riYNHJ85EMIX",
      "include_colab_link": true
    },
    "kernelspec": {
      "name": "python3",
      "display_name": "Python 3"
    },
    "language_info": {
      "name": "python"
    },
    "accelerator": "GPU",
    "widgets": {
      "application/vnd.jupyter.widget-state+json": {
        "3910c8e959b44b02a0b1f869491ac5c8": {
          "model_module": "@jupyter-widgets/controls",
          "model_name": "HBoxModel",
          "state": {
            "_view_name": "HBoxView",
            "_dom_classes": [],
            "_model_name": "HBoxModel",
            "_view_module": "@jupyter-widgets/controls",
            "_model_module_version": "1.5.0",
            "_view_count": null,
            "_view_module_version": "1.5.0",
            "box_style": "",
            "layout": "IPY_MODEL_076c83d399d846de9bd59f4671b0f8ae",
            "_model_module": "@jupyter-widgets/controls",
            "children": [
              "IPY_MODEL_0e0bdc44bf92492eac4a061d60978a24",
              "IPY_MODEL_9f1d6b5fb8604087a7bea19ea821cb89"
            ]
          }
        },
        "076c83d399d846de9bd59f4671b0f8ae": {
          "model_module": "@jupyter-widgets/base",
          "model_name": "LayoutModel",
          "state": {
            "_view_name": "LayoutView",
            "grid_template_rows": null,
            "right": null,
            "justify_content": null,
            "_view_module": "@jupyter-widgets/base",
            "overflow": null,
            "_model_module_version": "1.2.0",
            "_view_count": null,
            "flex_flow": null,
            "width": null,
            "min_width": null,
            "border": null,
            "align_items": null,
            "bottom": null,
            "_model_module": "@jupyter-widgets/base",
            "top": null,
            "grid_column": null,
            "overflow_y": null,
            "overflow_x": null,
            "grid_auto_flow": null,
            "grid_area": null,
            "grid_template_columns": null,
            "flex": null,
            "_model_name": "LayoutModel",
            "justify_items": null,
            "grid_row": null,
            "max_height": null,
            "align_content": null,
            "visibility": null,
            "align_self": null,
            "height": null,
            "min_height": null,
            "padding": null,
            "grid_auto_rows": null,
            "grid_gap": null,
            "max_width": null,
            "order": null,
            "_view_module_version": "1.2.0",
            "grid_template_areas": null,
            "object_position": null,
            "object_fit": null,
            "grid_auto_columns": null,
            "margin": null,
            "display": null,
            "left": null
          }
        },
        "0e0bdc44bf92492eac4a061d60978a24": {
          "model_module": "@jupyter-widgets/controls",
          "model_name": "FloatProgressModel",
          "state": {
            "_view_name": "ProgressView",
            "style": "IPY_MODEL_359df1b95d6145819d900cba0484d79f",
            "_dom_classes": [],
            "description": "Dl Completed...: 100%",
            "_model_name": "FloatProgressModel",
            "bar_style": "success",
            "max": 1,
            "_view_module": "@jupyter-widgets/controls",
            "_model_module_version": "1.5.0",
            "value": 1,
            "_view_count": null,
            "_view_module_version": "1.5.0",
            "orientation": "horizontal",
            "min": 0,
            "description_tooltip": null,
            "_model_module": "@jupyter-widgets/controls",
            "layout": "IPY_MODEL_839326488e074abe908edfcd316d28c4"
          }
        },
        "9f1d6b5fb8604087a7bea19ea821cb89": {
          "model_module": "@jupyter-widgets/controls",
          "model_name": "HTMLModel",
          "state": {
            "_view_name": "HTMLView",
            "style": "IPY_MODEL_b4983e9ddc0045838dc4b417431103df",
            "_dom_classes": [],
            "description": "",
            "_model_name": "HTMLModel",
            "placeholder": "​",
            "_view_module": "@jupyter-widgets/controls",
            "_model_module_version": "1.5.0",
            "value": " 1/1 [00:04&lt;00:00,  4.89s/ url]",
            "_view_count": null,
            "_view_module_version": "1.5.0",
            "description_tooltip": null,
            "_model_module": "@jupyter-widgets/controls",
            "layout": "IPY_MODEL_7434c2e2ac9f4034b13497c267a029b5"
          }
        },
        "359df1b95d6145819d900cba0484d79f": {
          "model_module": "@jupyter-widgets/controls",
          "model_name": "ProgressStyleModel",
          "state": {
            "_view_name": "StyleView",
            "_model_name": "ProgressStyleModel",
            "description_width": "initial",
            "_view_module": "@jupyter-widgets/base",
            "_model_module_version": "1.5.0",
            "_view_count": null,
            "_view_module_version": "1.2.0",
            "bar_color": null,
            "_model_module": "@jupyter-widgets/controls"
          }
        },
        "839326488e074abe908edfcd316d28c4": {
          "model_module": "@jupyter-widgets/base",
          "model_name": "LayoutModel",
          "state": {
            "_view_name": "LayoutView",
            "grid_template_rows": null,
            "right": null,
            "justify_content": null,
            "_view_module": "@jupyter-widgets/base",
            "overflow": null,
            "_model_module_version": "1.2.0",
            "_view_count": null,
            "flex_flow": null,
            "width": null,
            "min_width": null,
            "border": null,
            "align_items": null,
            "bottom": null,
            "_model_module": "@jupyter-widgets/base",
            "top": null,
            "grid_column": null,
            "overflow_y": null,
            "overflow_x": null,
            "grid_auto_flow": null,
            "grid_area": null,
            "grid_template_columns": null,
            "flex": null,
            "_model_name": "LayoutModel",
            "justify_items": null,
            "grid_row": null,
            "max_height": null,
            "align_content": null,
            "visibility": null,
            "align_self": null,
            "height": null,
            "min_height": null,
            "padding": null,
            "grid_auto_rows": null,
            "grid_gap": null,
            "max_width": null,
            "order": null,
            "_view_module_version": "1.2.0",
            "grid_template_areas": null,
            "object_position": null,
            "object_fit": null,
            "grid_auto_columns": null,
            "margin": null,
            "display": null,
            "left": null
          }
        },
        "b4983e9ddc0045838dc4b417431103df": {
          "model_module": "@jupyter-widgets/controls",
          "model_name": "DescriptionStyleModel",
          "state": {
            "_view_name": "StyleView",
            "_model_name": "DescriptionStyleModel",
            "description_width": "",
            "_view_module": "@jupyter-widgets/base",
            "_model_module_version": "1.5.0",
            "_view_count": null,
            "_view_module_version": "1.2.0",
            "_model_module": "@jupyter-widgets/controls"
          }
        },
        "7434c2e2ac9f4034b13497c267a029b5": {
          "model_module": "@jupyter-widgets/base",
          "model_name": "LayoutModel",
          "state": {
            "_view_name": "LayoutView",
            "grid_template_rows": null,
            "right": null,
            "justify_content": null,
            "_view_module": "@jupyter-widgets/base",
            "overflow": null,
            "_model_module_version": "1.2.0",
            "_view_count": null,
            "flex_flow": null,
            "width": null,
            "min_width": null,
            "border": null,
            "align_items": null,
            "bottom": null,
            "_model_module": "@jupyter-widgets/base",
            "top": null,
            "grid_column": null,
            "overflow_y": null,
            "overflow_x": null,
            "grid_auto_flow": null,
            "grid_area": null,
            "grid_template_columns": null,
            "flex": null,
            "_model_name": "LayoutModel",
            "justify_items": null,
            "grid_row": null,
            "max_height": null,
            "align_content": null,
            "visibility": null,
            "align_self": null,
            "height": null,
            "min_height": null,
            "padding": null,
            "grid_auto_rows": null,
            "grid_gap": null,
            "max_width": null,
            "order": null,
            "_view_module_version": "1.2.0",
            "grid_template_areas": null,
            "object_position": null,
            "object_fit": null,
            "grid_auto_columns": null,
            "margin": null,
            "display": null,
            "left": null
          }
        },
        "1d77805a1e264d9da8d5aa544d6cd8a7": {
          "model_module": "@jupyter-widgets/controls",
          "model_name": "HBoxModel",
          "state": {
            "_view_name": "HBoxView",
            "_dom_classes": [],
            "_model_name": "HBoxModel",
            "_view_module": "@jupyter-widgets/controls",
            "_model_module_version": "1.5.0",
            "_view_count": null,
            "_view_module_version": "1.5.0",
            "box_style": "",
            "layout": "IPY_MODEL_68a0147b7d334cb792592b0cc306b7ae",
            "_model_module": "@jupyter-widgets/controls",
            "children": [
              "IPY_MODEL_6c3ed68ea0ff4b8db85caa62decb37a4",
              "IPY_MODEL_d24fb6a4e7874e6f991883a1d72d7611"
            ]
          }
        },
        "68a0147b7d334cb792592b0cc306b7ae": {
          "model_module": "@jupyter-widgets/base",
          "model_name": "LayoutModel",
          "state": {
            "_view_name": "LayoutView",
            "grid_template_rows": null,
            "right": null,
            "justify_content": null,
            "_view_module": "@jupyter-widgets/base",
            "overflow": null,
            "_model_module_version": "1.2.0",
            "_view_count": null,
            "flex_flow": null,
            "width": null,
            "min_width": null,
            "border": null,
            "align_items": null,
            "bottom": null,
            "_model_module": "@jupyter-widgets/base",
            "top": null,
            "grid_column": null,
            "overflow_y": null,
            "overflow_x": null,
            "grid_auto_flow": null,
            "grid_area": null,
            "grid_template_columns": null,
            "flex": null,
            "_model_name": "LayoutModel",
            "justify_items": null,
            "grid_row": null,
            "max_height": null,
            "align_content": null,
            "visibility": null,
            "align_self": null,
            "height": null,
            "min_height": null,
            "padding": null,
            "grid_auto_rows": null,
            "grid_gap": null,
            "max_width": null,
            "order": null,
            "_view_module_version": "1.2.0",
            "grid_template_areas": null,
            "object_position": null,
            "object_fit": null,
            "grid_auto_columns": null,
            "margin": null,
            "display": null,
            "left": null
          }
        },
        "6c3ed68ea0ff4b8db85caa62decb37a4": {
          "model_module": "@jupyter-widgets/controls",
          "model_name": "FloatProgressModel",
          "state": {
            "_view_name": "ProgressView",
            "style": "IPY_MODEL_1b719d92a3784071ad04d21417f4f271",
            "_dom_classes": [],
            "description": "Dl Size...: 100%",
            "_model_name": "FloatProgressModel",
            "bar_style": "success",
            "max": 1,
            "_view_module": "@jupyter-widgets/controls",
            "_model_module_version": "1.5.0",
            "value": 1,
            "_view_count": null,
            "_view_module_version": "1.5.0",
            "orientation": "horizontal",
            "min": 0,
            "description_tooltip": null,
            "_model_module": "@jupyter-widgets/controls",
            "layout": "IPY_MODEL_a17bc137f1aa4087b935b1e0d520637c"
          }
        },
        "d24fb6a4e7874e6f991883a1d72d7611": {
          "model_module": "@jupyter-widgets/controls",
          "model_name": "HTMLModel",
          "state": {
            "_view_name": "HTMLView",
            "style": "IPY_MODEL_3d39785c1991430ab76de5acb3f1f0d3",
            "_dom_classes": [],
            "description": "",
            "_model_name": "HTMLModel",
            "placeholder": "​",
            "_view_module": "@jupyter-widgets/controls",
            "_model_module_version": "1.5.0",
            "value": " 162/162 [00:04&lt;00:00, 33.35 MiB/s]",
            "_view_count": null,
            "_view_module_version": "1.5.0",
            "description_tooltip": null,
            "_model_module": "@jupyter-widgets/controls",
            "layout": "IPY_MODEL_8c2a1fb31e9741339fb168f4e5f4ec1c"
          }
        },
        "1b719d92a3784071ad04d21417f4f271": {
          "model_module": "@jupyter-widgets/controls",
          "model_name": "ProgressStyleModel",
          "state": {
            "_view_name": "StyleView",
            "_model_name": "ProgressStyleModel",
            "description_width": "initial",
            "_view_module": "@jupyter-widgets/base",
            "_model_module_version": "1.5.0",
            "_view_count": null,
            "_view_module_version": "1.2.0",
            "bar_color": null,
            "_model_module": "@jupyter-widgets/controls"
          }
        },
        "a17bc137f1aa4087b935b1e0d520637c": {
          "model_module": "@jupyter-widgets/base",
          "model_name": "LayoutModel",
          "state": {
            "_view_name": "LayoutView",
            "grid_template_rows": null,
            "right": null,
            "justify_content": null,
            "_view_module": "@jupyter-widgets/base",
            "overflow": null,
            "_model_module_version": "1.2.0",
            "_view_count": null,
            "flex_flow": null,
            "width": null,
            "min_width": null,
            "border": null,
            "align_items": null,
            "bottom": null,
            "_model_module": "@jupyter-widgets/base",
            "top": null,
            "grid_column": null,
            "overflow_y": null,
            "overflow_x": null,
            "grid_auto_flow": null,
            "grid_area": null,
            "grid_template_columns": null,
            "flex": null,
            "_model_name": "LayoutModel",
            "justify_items": null,
            "grid_row": null,
            "max_height": null,
            "align_content": null,
            "visibility": null,
            "align_self": null,
            "height": null,
            "min_height": null,
            "padding": null,
            "grid_auto_rows": null,
            "grid_gap": null,
            "max_width": null,
            "order": null,
            "_view_module_version": "1.2.0",
            "grid_template_areas": null,
            "object_position": null,
            "object_fit": null,
            "grid_auto_columns": null,
            "margin": null,
            "display": null,
            "left": null
          }
        },
        "3d39785c1991430ab76de5acb3f1f0d3": {
          "model_module": "@jupyter-widgets/controls",
          "model_name": "DescriptionStyleModel",
          "state": {
            "_view_name": "StyleView",
            "_model_name": "DescriptionStyleModel",
            "description_width": "",
            "_view_module": "@jupyter-widgets/base",
            "_model_module_version": "1.5.0",
            "_view_count": null,
            "_view_module_version": "1.2.0",
            "_model_module": "@jupyter-widgets/controls"
          }
        },
        "8c2a1fb31e9741339fb168f4e5f4ec1c": {
          "model_module": "@jupyter-widgets/base",
          "model_name": "LayoutModel",
          "state": {
            "_view_name": "LayoutView",
            "grid_template_rows": null,
            "right": null,
            "justify_content": null,
            "_view_module": "@jupyter-widgets/base",
            "overflow": null,
            "_model_module_version": "1.2.0",
            "_view_count": null,
            "flex_flow": null,
            "width": null,
            "min_width": null,
            "border": null,
            "align_items": null,
            "bottom": null,
            "_model_module": "@jupyter-widgets/base",
            "top": null,
            "grid_column": null,
            "overflow_y": null,
            "overflow_x": null,
            "grid_auto_flow": null,
            "grid_area": null,
            "grid_template_columns": null,
            "flex": null,
            "_model_name": "LayoutModel",
            "justify_items": null,
            "grid_row": null,
            "max_height": null,
            "align_content": null,
            "visibility": null,
            "align_self": null,
            "height": null,
            "min_height": null,
            "padding": null,
            "grid_auto_rows": null,
            "grid_gap": null,
            "max_width": null,
            "order": null,
            "_view_module_version": "1.2.0",
            "grid_template_areas": null,
            "object_position": null,
            "object_fit": null,
            "grid_auto_columns": null,
            "margin": null,
            "display": null,
            "left": null
          }
        },
        "d086d5679e7c4eb8a4a91fbb6e2e34f8": {
          "model_module": "@jupyter-widgets/controls",
          "model_name": "HBoxModel",
          "state": {
            "_view_name": "HBoxView",
            "_dom_classes": [],
            "_model_name": "HBoxModel",
            "_view_module": "@jupyter-widgets/controls",
            "_model_module_version": "1.5.0",
            "_view_count": null,
            "_view_module_version": "1.5.0",
            "box_style": "",
            "layout": "IPY_MODEL_c9671be6657b4dc78afcc8ef1dfeb9f2",
            "_model_module": "@jupyter-widgets/controls",
            "children": [
              "IPY_MODEL_c9e36686876046e090bc1ea740b5ab8b",
              "IPY_MODEL_7b13cb84a85b4ae6afc80a2b7a4dd625"
            ]
          }
        },
        "c9671be6657b4dc78afcc8ef1dfeb9f2": {
          "model_module": "@jupyter-widgets/base",
          "model_name": "LayoutModel",
          "state": {
            "_view_name": "LayoutView",
            "grid_template_rows": null,
            "right": null,
            "justify_content": null,
            "_view_module": "@jupyter-widgets/base",
            "overflow": null,
            "_model_module_version": "1.2.0",
            "_view_count": null,
            "flex_flow": null,
            "width": null,
            "min_width": null,
            "border": null,
            "align_items": null,
            "bottom": null,
            "_model_module": "@jupyter-widgets/base",
            "top": null,
            "grid_column": null,
            "overflow_y": null,
            "overflow_x": null,
            "grid_auto_flow": null,
            "grid_area": null,
            "grid_template_columns": null,
            "flex": null,
            "_model_name": "LayoutModel",
            "justify_items": null,
            "grid_row": null,
            "max_height": null,
            "align_content": null,
            "visibility": null,
            "align_self": null,
            "height": null,
            "min_height": null,
            "padding": null,
            "grid_auto_rows": null,
            "grid_gap": null,
            "max_width": null,
            "order": null,
            "_view_module_version": "1.2.0",
            "grid_template_areas": null,
            "object_position": null,
            "object_fit": null,
            "grid_auto_columns": null,
            "margin": null,
            "display": null,
            "left": null
          }
        },
        "c9e36686876046e090bc1ea740b5ab8b": {
          "model_module": "@jupyter-widgets/controls",
          "model_name": "FloatProgressModel",
          "state": {
            "_view_name": "ProgressView",
            "style": "IPY_MODEL_34bad36589714f09926d5cc7063311b1",
            "_dom_classes": [],
            "description": "Extraction completed...: 100%",
            "_model_name": "FloatProgressModel",
            "bar_style": "success",
            "max": 1,
            "_view_module": "@jupyter-widgets/controls",
            "_model_module_version": "1.5.0",
            "value": 1,
            "_view_count": null,
            "_view_module_version": "1.5.0",
            "orientation": "horizontal",
            "min": 0,
            "description_tooltip": null,
            "_model_module": "@jupyter-widgets/controls",
            "layout": "IPY_MODEL_9ff07bebb53642439e8f04ab6ebed8e9"
          }
        },
        "7b13cb84a85b4ae6afc80a2b7a4dd625": {
          "model_module": "@jupyter-widgets/controls",
          "model_name": "HTMLModel",
          "state": {
            "_view_name": "HTMLView",
            "style": "IPY_MODEL_e56f69bff6574de4bef06b564b74d6f0",
            "_dom_classes": [],
            "description": "",
            "_model_name": "HTMLModel",
            "placeholder": "​",
            "_view_module": "@jupyter-widgets/controls",
            "_model_module_version": "1.5.0",
            "value": " 1/1 [00:04&lt;00:00,  4.80s/ file]",
            "_view_count": null,
            "_view_module_version": "1.5.0",
            "description_tooltip": null,
            "_model_module": "@jupyter-widgets/controls",
            "layout": "IPY_MODEL_ecd69c7411164eb1a6d5eeca7df1e2b4"
          }
        },
        "34bad36589714f09926d5cc7063311b1": {
          "model_module": "@jupyter-widgets/controls",
          "model_name": "ProgressStyleModel",
          "state": {
            "_view_name": "StyleView",
            "_model_name": "ProgressStyleModel",
            "description_width": "initial",
            "_view_module": "@jupyter-widgets/base",
            "_model_module_version": "1.5.0",
            "_view_count": null,
            "_view_module_version": "1.2.0",
            "bar_color": null,
            "_model_module": "@jupyter-widgets/controls"
          }
        },
        "9ff07bebb53642439e8f04ab6ebed8e9": {
          "model_module": "@jupyter-widgets/base",
          "model_name": "LayoutModel",
          "state": {
            "_view_name": "LayoutView",
            "grid_template_rows": null,
            "right": null,
            "justify_content": null,
            "_view_module": "@jupyter-widgets/base",
            "overflow": null,
            "_model_module_version": "1.2.0",
            "_view_count": null,
            "flex_flow": null,
            "width": null,
            "min_width": null,
            "border": null,
            "align_items": null,
            "bottom": null,
            "_model_module": "@jupyter-widgets/base",
            "top": null,
            "grid_column": null,
            "overflow_y": null,
            "overflow_x": null,
            "grid_auto_flow": null,
            "grid_area": null,
            "grid_template_columns": null,
            "flex": null,
            "_model_name": "LayoutModel",
            "justify_items": null,
            "grid_row": null,
            "max_height": null,
            "align_content": null,
            "visibility": null,
            "align_self": null,
            "height": null,
            "min_height": null,
            "padding": null,
            "grid_auto_rows": null,
            "grid_gap": null,
            "max_width": null,
            "order": null,
            "_view_module_version": "1.2.0",
            "grid_template_areas": null,
            "object_position": null,
            "object_fit": null,
            "grid_auto_columns": null,
            "margin": null,
            "display": null,
            "left": null
          }
        },
        "e56f69bff6574de4bef06b564b74d6f0": {
          "model_module": "@jupyter-widgets/controls",
          "model_name": "DescriptionStyleModel",
          "state": {
            "_view_name": "StyleView",
            "_model_name": "DescriptionStyleModel",
            "description_width": "",
            "_view_module": "@jupyter-widgets/base",
            "_model_module_version": "1.5.0",
            "_view_count": null,
            "_view_module_version": "1.2.0",
            "_model_module": "@jupyter-widgets/controls"
          }
        },
        "ecd69c7411164eb1a6d5eeca7df1e2b4": {
          "model_module": "@jupyter-widgets/base",
          "model_name": "LayoutModel",
          "state": {
            "_view_name": "LayoutView",
            "grid_template_rows": null,
            "right": null,
            "justify_content": null,
            "_view_module": "@jupyter-widgets/base",
            "overflow": null,
            "_model_module_version": "1.2.0",
            "_view_count": null,
            "flex_flow": null,
            "width": null,
            "min_width": null,
            "border": null,
            "align_items": null,
            "bottom": null,
            "_model_module": "@jupyter-widgets/base",
            "top": null,
            "grid_column": null,
            "overflow_y": null,
            "overflow_x": null,
            "grid_auto_flow": null,
            "grid_area": null,
            "grid_template_columns": null,
            "flex": null,
            "_model_name": "LayoutModel",
            "justify_items": null,
            "grid_row": null,
            "max_height": null,
            "align_content": null,
            "visibility": null,
            "align_self": null,
            "height": null,
            "min_height": null,
            "padding": null,
            "grid_auto_rows": null,
            "grid_gap": null,
            "max_width": null,
            "order": null,
            "_view_module_version": "1.2.0",
            "grid_template_areas": null,
            "object_position": null,
            "object_fit": null,
            "grid_auto_columns": null,
            "margin": null,
            "display": null,
            "left": null
          }
        },
        "efa20b2629e04bd58db337516273fa24": {
          "model_module": "@jupyter-widgets/controls",
          "model_name": "HBoxModel",
          "state": {
            "_view_name": "HBoxView",
            "_dom_classes": [],
            "_model_name": "HBoxModel",
            "_view_module": "@jupyter-widgets/controls",
            "_model_module_version": "1.5.0",
            "_view_count": null,
            "_view_module_version": "1.5.0",
            "box_style": "",
            "layout": "IPY_MODEL_ed35fae3c9b5403cad38b515cb6394eb",
            "_model_module": "@jupyter-widgets/controls",
            "children": [
              "IPY_MODEL_cdd406fb8ab04012ada17b1248376ecf",
              "IPY_MODEL_fa21bf2d0f914832b2122979416e7e13"
            ]
          }
        },
        "ed35fae3c9b5403cad38b515cb6394eb": {
          "model_module": "@jupyter-widgets/base",
          "model_name": "LayoutModel",
          "state": {
            "_view_name": "LayoutView",
            "grid_template_rows": null,
            "right": null,
            "justify_content": null,
            "_view_module": "@jupyter-widgets/base",
            "overflow": null,
            "_model_module_version": "1.2.0",
            "_view_count": null,
            "flex_flow": null,
            "width": null,
            "min_width": null,
            "border": null,
            "align_items": null,
            "bottom": null,
            "_model_module": "@jupyter-widgets/base",
            "top": null,
            "grid_column": null,
            "overflow_y": null,
            "overflow_x": null,
            "grid_auto_flow": null,
            "grid_area": null,
            "grid_template_columns": null,
            "flex": null,
            "_model_name": "LayoutModel",
            "justify_items": null,
            "grid_row": null,
            "max_height": null,
            "align_content": null,
            "visibility": null,
            "align_self": null,
            "height": null,
            "min_height": null,
            "padding": null,
            "grid_auto_rows": null,
            "grid_gap": null,
            "max_width": null,
            "order": null,
            "_view_module_version": "1.2.0",
            "grid_template_areas": null,
            "object_position": null,
            "object_fit": null,
            "grid_auto_columns": null,
            "margin": null,
            "display": null,
            "left": null
          }
        },
        "cdd406fb8ab04012ada17b1248376ecf": {
          "model_module": "@jupyter-widgets/controls",
          "model_name": "FloatProgressModel",
          "state": {
            "_view_name": "ProgressView",
            "style": "IPY_MODEL_6acbdd4194fe4c859a6a440c79eb64a8",
            "_dom_classes": [],
            "description": "",
            "_model_name": "FloatProgressModel",
            "bar_style": "info",
            "max": 1,
            "_view_module": "@jupyter-widgets/controls",
            "_model_module_version": "1.5.0",
            "value": 1,
            "_view_count": null,
            "_view_module_version": "1.5.0",
            "orientation": "horizontal",
            "min": 0,
            "description_tooltip": null,
            "_model_module": "@jupyter-widgets/controls",
            "layout": "IPY_MODEL_a3b5ef64599c449c889cd99656c6e530"
          }
        },
        "fa21bf2d0f914832b2122979416e7e13": {
          "model_module": "@jupyter-widgets/controls",
          "model_name": "HTMLModel",
          "state": {
            "_view_name": "HTMLView",
            "style": "IPY_MODEL_0fd2001062334245a0aa5f89190c664a",
            "_dom_classes": [],
            "description": "",
            "_model_name": "HTMLModel",
            "placeholder": "​",
            "_view_module": "@jupyter-widgets/controls",
            "_model_module_version": "1.5.0",
            "value": " 50000/0 [00:32&lt;00:00, 1811.73 examples/s]",
            "_view_count": null,
            "_view_module_version": "1.5.0",
            "description_tooltip": null,
            "_model_module": "@jupyter-widgets/controls",
            "layout": "IPY_MODEL_d288c21e08e243d4b99b6ea07d72724e"
          }
        },
        "6acbdd4194fe4c859a6a440c79eb64a8": {
          "model_module": "@jupyter-widgets/controls",
          "model_name": "ProgressStyleModel",
          "state": {
            "_view_name": "StyleView",
            "_model_name": "ProgressStyleModel",
            "description_width": "initial",
            "_view_module": "@jupyter-widgets/base",
            "_model_module_version": "1.5.0",
            "_view_count": null,
            "_view_module_version": "1.2.0",
            "bar_color": null,
            "_model_module": "@jupyter-widgets/controls"
          }
        },
        "a3b5ef64599c449c889cd99656c6e530": {
          "model_module": "@jupyter-widgets/base",
          "model_name": "LayoutModel",
          "state": {
            "_view_name": "LayoutView",
            "grid_template_rows": null,
            "right": null,
            "justify_content": null,
            "_view_module": "@jupyter-widgets/base",
            "overflow": null,
            "_model_module_version": "1.2.0",
            "_view_count": null,
            "flex_flow": null,
            "width": null,
            "min_width": null,
            "border": null,
            "align_items": null,
            "bottom": null,
            "_model_module": "@jupyter-widgets/base",
            "top": null,
            "grid_column": null,
            "overflow_y": null,
            "overflow_x": null,
            "grid_auto_flow": null,
            "grid_area": null,
            "grid_template_columns": null,
            "flex": null,
            "_model_name": "LayoutModel",
            "justify_items": null,
            "grid_row": null,
            "max_height": null,
            "align_content": null,
            "visibility": null,
            "align_self": null,
            "height": null,
            "min_height": null,
            "padding": null,
            "grid_auto_rows": null,
            "grid_gap": null,
            "max_width": null,
            "order": null,
            "_view_module_version": "1.2.0",
            "grid_template_areas": null,
            "object_position": null,
            "object_fit": null,
            "grid_auto_columns": null,
            "margin": null,
            "display": null,
            "left": null
          }
        },
        "0fd2001062334245a0aa5f89190c664a": {
          "model_module": "@jupyter-widgets/controls",
          "model_name": "DescriptionStyleModel",
          "state": {
            "_view_name": "StyleView",
            "_model_name": "DescriptionStyleModel",
            "description_width": "",
            "_view_module": "@jupyter-widgets/base",
            "_model_module_version": "1.5.0",
            "_view_count": null,
            "_view_module_version": "1.2.0",
            "_model_module": "@jupyter-widgets/controls"
          }
        },
        "d288c21e08e243d4b99b6ea07d72724e": {
          "model_module": "@jupyter-widgets/base",
          "model_name": "LayoutModel",
          "state": {
            "_view_name": "LayoutView",
            "grid_template_rows": null,
            "right": null,
            "justify_content": null,
            "_view_module": "@jupyter-widgets/base",
            "overflow": null,
            "_model_module_version": "1.2.0",
            "_view_count": null,
            "flex_flow": null,
            "width": null,
            "min_width": null,
            "border": null,
            "align_items": null,
            "bottom": null,
            "_model_module": "@jupyter-widgets/base",
            "top": null,
            "grid_column": null,
            "overflow_y": null,
            "overflow_x": null,
            "grid_auto_flow": null,
            "grid_area": null,
            "grid_template_columns": null,
            "flex": null,
            "_model_name": "LayoutModel",
            "justify_items": null,
            "grid_row": null,
            "max_height": null,
            "align_content": null,
            "visibility": null,
            "align_self": null,
            "height": null,
            "min_height": null,
            "padding": null,
            "grid_auto_rows": null,
            "grid_gap": null,
            "max_width": null,
            "order": null,
            "_view_module_version": "1.2.0",
            "grid_template_areas": null,
            "object_position": null,
            "object_fit": null,
            "grid_auto_columns": null,
            "margin": null,
            "display": null,
            "left": null
          }
        },
        "cede2a3f68bc43048e5d1cf827801a54": {
          "model_module": "@jupyter-widgets/controls",
          "model_name": "HBoxModel",
          "state": {
            "_view_name": "HBoxView",
            "_dom_classes": [],
            "_model_name": "HBoxModel",
            "_view_module": "@jupyter-widgets/controls",
            "_model_module_version": "1.5.0",
            "_view_count": null,
            "_view_module_version": "1.5.0",
            "box_style": "",
            "layout": "IPY_MODEL_59318c33529c46128ec0ff875171e064",
            "_model_module": "@jupyter-widgets/controls",
            "children": [
              "IPY_MODEL_94911576a8034f8493eab40afa0fd0f6",
              "IPY_MODEL_650592574f61447babd0922f67c4c1e0"
            ]
          }
        },
        "59318c33529c46128ec0ff875171e064": {
          "model_module": "@jupyter-widgets/base",
          "model_name": "LayoutModel",
          "state": {
            "_view_name": "LayoutView",
            "grid_template_rows": null,
            "right": null,
            "justify_content": null,
            "_view_module": "@jupyter-widgets/base",
            "overflow": null,
            "_model_module_version": "1.2.0",
            "_view_count": null,
            "flex_flow": null,
            "width": null,
            "min_width": null,
            "border": null,
            "align_items": null,
            "bottom": null,
            "_model_module": "@jupyter-widgets/base",
            "top": null,
            "grid_column": null,
            "overflow_y": null,
            "overflow_x": null,
            "grid_auto_flow": null,
            "grid_area": null,
            "grid_template_columns": null,
            "flex": null,
            "_model_name": "LayoutModel",
            "justify_items": null,
            "grid_row": null,
            "max_height": null,
            "align_content": null,
            "visibility": null,
            "align_self": null,
            "height": null,
            "min_height": null,
            "padding": null,
            "grid_auto_rows": null,
            "grid_gap": null,
            "max_width": null,
            "order": null,
            "_view_module_version": "1.2.0",
            "grid_template_areas": null,
            "object_position": null,
            "object_fit": null,
            "grid_auto_columns": null,
            "margin": null,
            "display": null,
            "left": null
          }
        },
        "94911576a8034f8493eab40afa0fd0f6": {
          "model_module": "@jupyter-widgets/controls",
          "model_name": "FloatProgressModel",
          "state": {
            "_view_name": "ProgressView",
            "style": "IPY_MODEL_e21f8df1b3924150ab05dfa08896ca05",
            "_dom_classes": [],
            "description": " 87%",
            "_model_name": "FloatProgressModel",
            "bar_style": "danger",
            "max": 50000,
            "_view_module": "@jupyter-widgets/controls",
            "_model_module_version": "1.5.0",
            "value": 43296,
            "_view_count": null,
            "_view_module_version": "1.5.0",
            "orientation": "horizontal",
            "min": 0,
            "description_tooltip": null,
            "_model_module": "@jupyter-widgets/controls",
            "layout": "IPY_MODEL_8289de8792f2434785c5f5f7a8f79727"
          }
        },
        "650592574f61447babd0922f67c4c1e0": {
          "model_module": "@jupyter-widgets/controls",
          "model_name": "HTMLModel",
          "state": {
            "_view_name": "HTMLView",
            "style": "IPY_MODEL_e6f40d546dbc45b694498493847bcdd7",
            "_dom_classes": [],
            "description": "",
            "_model_name": "HTMLModel",
            "placeholder": "​",
            "_view_module": "@jupyter-widgets/controls",
            "_model_module_version": "1.5.0",
            "value": " 43296/50000 [00:02&lt;00:00, 77543.36 examples/s]",
            "_view_count": null,
            "_view_module_version": "1.5.0",
            "description_tooltip": null,
            "_model_module": "@jupyter-widgets/controls",
            "layout": "IPY_MODEL_60f5672d4e074a09ad4d05257f5c44a8"
          }
        },
        "e21f8df1b3924150ab05dfa08896ca05": {
          "model_module": "@jupyter-widgets/controls",
          "model_name": "ProgressStyleModel",
          "state": {
            "_view_name": "StyleView",
            "_model_name": "ProgressStyleModel",
            "description_width": "initial",
            "_view_module": "@jupyter-widgets/base",
            "_model_module_version": "1.5.0",
            "_view_count": null,
            "_view_module_version": "1.2.0",
            "bar_color": null,
            "_model_module": "@jupyter-widgets/controls"
          }
        },
        "8289de8792f2434785c5f5f7a8f79727": {
          "model_module": "@jupyter-widgets/base",
          "model_name": "LayoutModel",
          "state": {
            "_view_name": "LayoutView",
            "grid_template_rows": null,
            "right": null,
            "justify_content": null,
            "_view_module": "@jupyter-widgets/base",
            "overflow": null,
            "_model_module_version": "1.2.0",
            "_view_count": null,
            "flex_flow": null,
            "width": null,
            "min_width": null,
            "border": null,
            "align_items": null,
            "bottom": null,
            "_model_module": "@jupyter-widgets/base",
            "top": null,
            "grid_column": null,
            "overflow_y": null,
            "overflow_x": null,
            "grid_auto_flow": null,
            "grid_area": null,
            "grid_template_columns": null,
            "flex": null,
            "_model_name": "LayoutModel",
            "justify_items": null,
            "grid_row": null,
            "max_height": null,
            "align_content": null,
            "visibility": null,
            "align_self": null,
            "height": null,
            "min_height": null,
            "padding": null,
            "grid_auto_rows": null,
            "grid_gap": null,
            "max_width": null,
            "order": null,
            "_view_module_version": "1.2.0",
            "grid_template_areas": null,
            "object_position": null,
            "object_fit": null,
            "grid_auto_columns": null,
            "margin": null,
            "display": null,
            "left": null
          }
        },
        "e6f40d546dbc45b694498493847bcdd7": {
          "model_module": "@jupyter-widgets/controls",
          "model_name": "DescriptionStyleModel",
          "state": {
            "_view_name": "StyleView",
            "_model_name": "DescriptionStyleModel",
            "description_width": "",
            "_view_module": "@jupyter-widgets/base",
            "_model_module_version": "1.5.0",
            "_view_count": null,
            "_view_module_version": "1.2.0",
            "_model_module": "@jupyter-widgets/controls"
          }
        },
        "60f5672d4e074a09ad4d05257f5c44a8": {
          "model_module": "@jupyter-widgets/base",
          "model_name": "LayoutModel",
          "state": {
            "_view_name": "LayoutView",
            "grid_template_rows": null,
            "right": null,
            "justify_content": null,
            "_view_module": "@jupyter-widgets/base",
            "overflow": null,
            "_model_module_version": "1.2.0",
            "_view_count": null,
            "flex_flow": null,
            "width": null,
            "min_width": null,
            "border": null,
            "align_items": null,
            "bottom": null,
            "_model_module": "@jupyter-widgets/base",
            "top": null,
            "grid_column": null,
            "overflow_y": null,
            "overflow_x": null,
            "grid_auto_flow": null,
            "grid_area": null,
            "grid_template_columns": null,
            "flex": null,
            "_model_name": "LayoutModel",
            "justify_items": null,
            "grid_row": null,
            "max_height": null,
            "align_content": null,
            "visibility": null,
            "align_self": null,
            "height": null,
            "min_height": null,
            "padding": null,
            "grid_auto_rows": null,
            "grid_gap": null,
            "max_width": null,
            "order": null,
            "_view_module_version": "1.2.0",
            "grid_template_areas": null,
            "object_position": null,
            "object_fit": null,
            "grid_auto_columns": null,
            "margin": null,
            "display": null,
            "left": null
          }
        },
        "d17c41dd69de474ebc2ec2534956589d": {
          "model_module": "@jupyter-widgets/controls",
          "model_name": "HBoxModel",
          "state": {
            "_view_name": "HBoxView",
            "_dom_classes": [],
            "_model_name": "HBoxModel",
            "_view_module": "@jupyter-widgets/controls",
            "_model_module_version": "1.5.0",
            "_view_count": null,
            "_view_module_version": "1.5.0",
            "box_style": "",
            "layout": "IPY_MODEL_8cc0d2dc2c0342aaaa266c0b956d8408",
            "_model_module": "@jupyter-widgets/controls",
            "children": [
              "IPY_MODEL_a22a2666acdf4e3da7f7e6010c05e571",
              "IPY_MODEL_068ba3da76cd4583b9d83abed4d24e60"
            ]
          }
        },
        "8cc0d2dc2c0342aaaa266c0b956d8408": {
          "model_module": "@jupyter-widgets/base",
          "model_name": "LayoutModel",
          "state": {
            "_view_name": "LayoutView",
            "grid_template_rows": null,
            "right": null,
            "justify_content": null,
            "_view_module": "@jupyter-widgets/base",
            "overflow": null,
            "_model_module_version": "1.2.0",
            "_view_count": null,
            "flex_flow": null,
            "width": null,
            "min_width": null,
            "border": null,
            "align_items": null,
            "bottom": null,
            "_model_module": "@jupyter-widgets/base",
            "top": null,
            "grid_column": null,
            "overflow_y": null,
            "overflow_x": null,
            "grid_auto_flow": null,
            "grid_area": null,
            "grid_template_columns": null,
            "flex": null,
            "_model_name": "LayoutModel",
            "justify_items": null,
            "grid_row": null,
            "max_height": null,
            "align_content": null,
            "visibility": null,
            "align_self": null,
            "height": null,
            "min_height": null,
            "padding": null,
            "grid_auto_rows": null,
            "grid_gap": null,
            "max_width": null,
            "order": null,
            "_view_module_version": "1.2.0",
            "grid_template_areas": null,
            "object_position": null,
            "object_fit": null,
            "grid_auto_columns": null,
            "margin": null,
            "display": null,
            "left": null
          }
        },
        "a22a2666acdf4e3da7f7e6010c05e571": {
          "model_module": "@jupyter-widgets/controls",
          "model_name": "FloatProgressModel",
          "state": {
            "_view_name": "ProgressView",
            "style": "IPY_MODEL_a9016bdd5af14ded805e30f54ba187ed",
            "_dom_classes": [],
            "description": "",
            "_model_name": "FloatProgressModel",
            "bar_style": "info",
            "max": 1,
            "_view_module": "@jupyter-widgets/controls",
            "_model_module_version": "1.5.0",
            "value": 1,
            "_view_count": null,
            "_view_module_version": "1.5.0",
            "orientation": "horizontal",
            "min": 0,
            "description_tooltip": null,
            "_model_module": "@jupyter-widgets/controls",
            "layout": "IPY_MODEL_3feebc61522b48a4a9c8ee0b2eaf6814"
          }
        },
        "068ba3da76cd4583b9d83abed4d24e60": {
          "model_module": "@jupyter-widgets/controls",
          "model_name": "HTMLModel",
          "state": {
            "_view_name": "HTMLView",
            "style": "IPY_MODEL_52776969e524492b834fa838a9f504ee",
            "_dom_classes": [],
            "description": "",
            "_model_name": "HTMLModel",
            "placeholder": "​",
            "_view_module": "@jupyter-widgets/controls",
            "_model_module_version": "1.5.0",
            "value": " 10000/0 [00:05&lt;00:00, 1795.69 examples/s]",
            "_view_count": null,
            "_view_module_version": "1.5.0",
            "description_tooltip": null,
            "_model_module": "@jupyter-widgets/controls",
            "layout": "IPY_MODEL_d920d60f4fb849b89125f9b12452e3f7"
          }
        },
        "a9016bdd5af14ded805e30f54ba187ed": {
          "model_module": "@jupyter-widgets/controls",
          "model_name": "ProgressStyleModel",
          "state": {
            "_view_name": "StyleView",
            "_model_name": "ProgressStyleModel",
            "description_width": "initial",
            "_view_module": "@jupyter-widgets/base",
            "_model_module_version": "1.5.0",
            "_view_count": null,
            "_view_module_version": "1.2.0",
            "bar_color": null,
            "_model_module": "@jupyter-widgets/controls"
          }
        },
        "3feebc61522b48a4a9c8ee0b2eaf6814": {
          "model_module": "@jupyter-widgets/base",
          "model_name": "LayoutModel",
          "state": {
            "_view_name": "LayoutView",
            "grid_template_rows": null,
            "right": null,
            "justify_content": null,
            "_view_module": "@jupyter-widgets/base",
            "overflow": null,
            "_model_module_version": "1.2.0",
            "_view_count": null,
            "flex_flow": null,
            "width": null,
            "min_width": null,
            "border": null,
            "align_items": null,
            "bottom": null,
            "_model_module": "@jupyter-widgets/base",
            "top": null,
            "grid_column": null,
            "overflow_y": null,
            "overflow_x": null,
            "grid_auto_flow": null,
            "grid_area": null,
            "grid_template_columns": null,
            "flex": null,
            "_model_name": "LayoutModel",
            "justify_items": null,
            "grid_row": null,
            "max_height": null,
            "align_content": null,
            "visibility": null,
            "align_self": null,
            "height": null,
            "min_height": null,
            "padding": null,
            "grid_auto_rows": null,
            "grid_gap": null,
            "max_width": null,
            "order": null,
            "_view_module_version": "1.2.0",
            "grid_template_areas": null,
            "object_position": null,
            "object_fit": null,
            "grid_auto_columns": null,
            "margin": null,
            "display": null,
            "left": null
          }
        },
        "52776969e524492b834fa838a9f504ee": {
          "model_module": "@jupyter-widgets/controls",
          "model_name": "DescriptionStyleModel",
          "state": {
            "_view_name": "StyleView",
            "_model_name": "DescriptionStyleModel",
            "description_width": "",
            "_view_module": "@jupyter-widgets/base",
            "_model_module_version": "1.5.0",
            "_view_count": null,
            "_view_module_version": "1.2.0",
            "_model_module": "@jupyter-widgets/controls"
          }
        },
        "d920d60f4fb849b89125f9b12452e3f7": {
          "model_module": "@jupyter-widgets/base",
          "model_name": "LayoutModel",
          "state": {
            "_view_name": "LayoutView",
            "grid_template_rows": null,
            "right": null,
            "justify_content": null,
            "_view_module": "@jupyter-widgets/base",
            "overflow": null,
            "_model_module_version": "1.2.0",
            "_view_count": null,
            "flex_flow": null,
            "width": null,
            "min_width": null,
            "border": null,
            "align_items": null,
            "bottom": null,
            "_model_module": "@jupyter-widgets/base",
            "top": null,
            "grid_column": null,
            "overflow_y": null,
            "overflow_x": null,
            "grid_auto_flow": null,
            "grid_area": null,
            "grid_template_columns": null,
            "flex": null,
            "_model_name": "LayoutModel",
            "justify_items": null,
            "grid_row": null,
            "max_height": null,
            "align_content": null,
            "visibility": null,
            "align_self": null,
            "height": null,
            "min_height": null,
            "padding": null,
            "grid_auto_rows": null,
            "grid_gap": null,
            "max_width": null,
            "order": null,
            "_view_module_version": "1.2.0",
            "grid_template_areas": null,
            "object_position": null,
            "object_fit": null,
            "grid_auto_columns": null,
            "margin": null,
            "display": null,
            "left": null
          }
        },
        "7a910c3cc62d415ea983f31304b2ab42": {
          "model_module": "@jupyter-widgets/controls",
          "model_name": "HBoxModel",
          "state": {
            "_view_name": "HBoxView",
            "_dom_classes": [],
            "_model_name": "HBoxModel",
            "_view_module": "@jupyter-widgets/controls",
            "_model_module_version": "1.5.0",
            "_view_count": null,
            "_view_module_version": "1.5.0",
            "box_style": "",
            "layout": "IPY_MODEL_c8e81e72d0eb488eb8a504ef1454a6d5",
            "_model_module": "@jupyter-widgets/controls",
            "children": [
              "IPY_MODEL_13f99ce85fac41f29057ef80b13b3564",
              "IPY_MODEL_3653f1f439eb46e18672b0ef6d1847a2"
            ]
          }
        },
        "c8e81e72d0eb488eb8a504ef1454a6d5": {
          "model_module": "@jupyter-widgets/base",
          "model_name": "LayoutModel",
          "state": {
            "_view_name": "LayoutView",
            "grid_template_rows": null,
            "right": null,
            "justify_content": null,
            "_view_module": "@jupyter-widgets/base",
            "overflow": null,
            "_model_module_version": "1.2.0",
            "_view_count": null,
            "flex_flow": null,
            "width": null,
            "min_width": null,
            "border": null,
            "align_items": null,
            "bottom": null,
            "_model_module": "@jupyter-widgets/base",
            "top": null,
            "grid_column": null,
            "overflow_y": null,
            "overflow_x": null,
            "grid_auto_flow": null,
            "grid_area": null,
            "grid_template_columns": null,
            "flex": null,
            "_model_name": "LayoutModel",
            "justify_items": null,
            "grid_row": null,
            "max_height": null,
            "align_content": null,
            "visibility": null,
            "align_self": null,
            "height": null,
            "min_height": null,
            "padding": null,
            "grid_auto_rows": null,
            "grid_gap": null,
            "max_width": null,
            "order": null,
            "_view_module_version": "1.2.0",
            "grid_template_areas": null,
            "object_position": null,
            "object_fit": null,
            "grid_auto_columns": null,
            "margin": null,
            "display": null,
            "left": null
          }
        },
        "13f99ce85fac41f29057ef80b13b3564": {
          "model_module": "@jupyter-widgets/controls",
          "model_name": "FloatProgressModel",
          "state": {
            "_view_name": "ProgressView",
            "style": "IPY_MODEL_c20baa114fed4e69b6e1c47fe2101b2e",
            "_dom_classes": [],
            "description": "  0%",
            "_model_name": "FloatProgressModel",
            "bar_style": "danger",
            "max": 10000,
            "_view_module": "@jupyter-widgets/controls",
            "_model_module_version": "1.5.0",
            "value": 0,
            "_view_count": null,
            "_view_module_version": "1.5.0",
            "orientation": "horizontal",
            "min": 0,
            "description_tooltip": null,
            "_model_module": "@jupyter-widgets/controls",
            "layout": "IPY_MODEL_45d9fc82996e4b099316bee6e0f813e4"
          }
        },
        "3653f1f439eb46e18672b0ef6d1847a2": {
          "model_module": "@jupyter-widgets/controls",
          "model_name": "HTMLModel",
          "state": {
            "_view_name": "HTMLView",
            "style": "IPY_MODEL_384206b9193b498c8463a0180b5be48d",
            "_dom_classes": [],
            "description": "",
            "_model_name": "HTMLModel",
            "placeholder": "​",
            "_view_module": "@jupyter-widgets/controls",
            "_model_module_version": "1.5.0",
            "value": " 0/10000 [00:00&lt;?, ? examples/s]",
            "_view_count": null,
            "_view_module_version": "1.5.0",
            "description_tooltip": null,
            "_model_module": "@jupyter-widgets/controls",
            "layout": "IPY_MODEL_6169a62380444c23970dc67a0249fef7"
          }
        },
        "c20baa114fed4e69b6e1c47fe2101b2e": {
          "model_module": "@jupyter-widgets/controls",
          "model_name": "ProgressStyleModel",
          "state": {
            "_view_name": "StyleView",
            "_model_name": "ProgressStyleModel",
            "description_width": "initial",
            "_view_module": "@jupyter-widgets/base",
            "_model_module_version": "1.5.0",
            "_view_count": null,
            "_view_module_version": "1.2.0",
            "bar_color": null,
            "_model_module": "@jupyter-widgets/controls"
          }
        },
        "45d9fc82996e4b099316bee6e0f813e4": {
          "model_module": "@jupyter-widgets/base",
          "model_name": "LayoutModel",
          "state": {
            "_view_name": "LayoutView",
            "grid_template_rows": null,
            "right": null,
            "justify_content": null,
            "_view_module": "@jupyter-widgets/base",
            "overflow": null,
            "_model_module_version": "1.2.0",
            "_view_count": null,
            "flex_flow": null,
            "width": null,
            "min_width": null,
            "border": null,
            "align_items": null,
            "bottom": null,
            "_model_module": "@jupyter-widgets/base",
            "top": null,
            "grid_column": null,
            "overflow_y": null,
            "overflow_x": null,
            "grid_auto_flow": null,
            "grid_area": null,
            "grid_template_columns": null,
            "flex": null,
            "_model_name": "LayoutModel",
            "justify_items": null,
            "grid_row": null,
            "max_height": null,
            "align_content": null,
            "visibility": null,
            "align_self": null,
            "height": null,
            "min_height": null,
            "padding": null,
            "grid_auto_rows": null,
            "grid_gap": null,
            "max_width": null,
            "order": null,
            "_view_module_version": "1.2.0",
            "grid_template_areas": null,
            "object_position": null,
            "object_fit": null,
            "grid_auto_columns": null,
            "margin": null,
            "display": null,
            "left": null
          }
        },
        "384206b9193b498c8463a0180b5be48d": {
          "model_module": "@jupyter-widgets/controls",
          "model_name": "DescriptionStyleModel",
          "state": {
            "_view_name": "StyleView",
            "_model_name": "DescriptionStyleModel",
            "description_width": "",
            "_view_module": "@jupyter-widgets/base",
            "_model_module_version": "1.5.0",
            "_view_count": null,
            "_view_module_version": "1.2.0",
            "_model_module": "@jupyter-widgets/controls"
          }
        },
        "6169a62380444c23970dc67a0249fef7": {
          "model_module": "@jupyter-widgets/base",
          "model_name": "LayoutModel",
          "state": {
            "_view_name": "LayoutView",
            "grid_template_rows": null,
            "right": null,
            "justify_content": null,
            "_view_module": "@jupyter-widgets/base",
            "overflow": null,
            "_model_module_version": "1.2.0",
            "_view_count": null,
            "flex_flow": null,
            "width": null,
            "min_width": null,
            "border": null,
            "align_items": null,
            "bottom": null,
            "_model_module": "@jupyter-widgets/base",
            "top": null,
            "grid_column": null,
            "overflow_y": null,
            "overflow_x": null,
            "grid_auto_flow": null,
            "grid_area": null,
            "grid_template_columns": null,
            "flex": null,
            "_model_name": "LayoutModel",
            "justify_items": null,
            "grid_row": null,
            "max_height": null,
            "align_content": null,
            "visibility": null,
            "align_self": null,
            "height": null,
            "min_height": null,
            "padding": null,
            "grid_auto_rows": null,
            "grid_gap": null,
            "max_width": null,
            "order": null,
            "_view_module_version": "1.2.0",
            "grid_template_areas": null,
            "object_position": null,
            "object_fit": null,
            "grid_auto_columns": null,
            "margin": null,
            "display": null,
            "left": null
          }
        }
      }
    }
  },
  "cells": [
    {
      "cell_type": "markdown",
      "metadata": {
        "id": "view-in-github",
        "colab_type": "text"
      },
      "source": [
        "<a href=\"https://colab.research.google.com/github/churry75/tf_tutorial/blob/master/tf_tutorial_10_CNN_classfication.ipynb\" target=\"_parent\"><img src=\"https://colab.research.google.com/assets/colab-badge.svg\" alt=\"Open In Colab\"/></a>"
      ]
    },
    {
      "cell_type": "markdown",
      "metadata": {
        "id": "ZXiei7pkyud5"
      },
      "source": [
        "# 간단한 CNN 이미지 분류 모델 구현"
      ]
    },
    {
      "cell_type": "markdown",
      "metadata": {
        "id": "XKm9yByPz6cU"
      },
      "source": [
        "## 필요한 라이브러리 import"
      ]
    },
    {
      "cell_type": "code",
      "metadata": {
        "id": "3o6c7GbKzKec"
      },
      "source": [
        "import tensorflow as tf\n",
        "import tensorflow_datasets as tfds\n",
        "from tensorflow import keras\n",
        "import numpy as np\n",
        "import matplotlib.pyplot as plt\n",
        "import pandas as pd"
      ],
      "execution_count": 1,
      "outputs": []
    },
    {
      "cell_type": "markdown",
      "metadata": {
        "id": "1DWbUpQQzzHN"
      },
      "source": [
        "## 데이터셋 로드\n",
        "- CIFAR-10 데이터셋 로드"
      ]
    },
    {
      "cell_type": "code",
      "metadata": {
        "colab": {
          "base_uri": "https://localhost:8080/",
          "height": 347,
          "referenced_widgets": [
            "3910c8e959b44b02a0b1f869491ac5c8",
            "076c83d399d846de9bd59f4671b0f8ae",
            "0e0bdc44bf92492eac4a061d60978a24",
            "9f1d6b5fb8604087a7bea19ea821cb89",
            "359df1b95d6145819d900cba0484d79f",
            "839326488e074abe908edfcd316d28c4",
            "b4983e9ddc0045838dc4b417431103df",
            "7434c2e2ac9f4034b13497c267a029b5",
            "1d77805a1e264d9da8d5aa544d6cd8a7",
            "68a0147b7d334cb792592b0cc306b7ae",
            "6c3ed68ea0ff4b8db85caa62decb37a4",
            "d24fb6a4e7874e6f991883a1d72d7611",
            "1b719d92a3784071ad04d21417f4f271",
            "a17bc137f1aa4087b935b1e0d520637c",
            "3d39785c1991430ab76de5acb3f1f0d3",
            "8c2a1fb31e9741339fb168f4e5f4ec1c",
            "d086d5679e7c4eb8a4a91fbb6e2e34f8",
            "c9671be6657b4dc78afcc8ef1dfeb9f2",
            "c9e36686876046e090bc1ea740b5ab8b",
            "7b13cb84a85b4ae6afc80a2b7a4dd625",
            "34bad36589714f09926d5cc7063311b1",
            "9ff07bebb53642439e8f04ab6ebed8e9",
            "e56f69bff6574de4bef06b564b74d6f0",
            "ecd69c7411164eb1a6d5eeca7df1e2b4",
            "efa20b2629e04bd58db337516273fa24",
            "ed35fae3c9b5403cad38b515cb6394eb",
            "cdd406fb8ab04012ada17b1248376ecf",
            "fa21bf2d0f914832b2122979416e7e13",
            "6acbdd4194fe4c859a6a440c79eb64a8",
            "a3b5ef64599c449c889cd99656c6e530",
            "0fd2001062334245a0aa5f89190c664a",
            "d288c21e08e243d4b99b6ea07d72724e",
            "cede2a3f68bc43048e5d1cf827801a54",
            "59318c33529c46128ec0ff875171e064",
            "94911576a8034f8493eab40afa0fd0f6",
            "650592574f61447babd0922f67c4c1e0",
            "e21f8df1b3924150ab05dfa08896ca05",
            "8289de8792f2434785c5f5f7a8f79727",
            "e6f40d546dbc45b694498493847bcdd7",
            "60f5672d4e074a09ad4d05257f5c44a8",
            "d17c41dd69de474ebc2ec2534956589d",
            "8cc0d2dc2c0342aaaa266c0b956d8408",
            "a22a2666acdf4e3da7f7e6010c05e571",
            "068ba3da76cd4583b9d83abed4d24e60",
            "a9016bdd5af14ded805e30f54ba187ed",
            "3feebc61522b48a4a9c8ee0b2eaf6814",
            "52776969e524492b834fa838a9f504ee",
            "d920d60f4fb849b89125f9b12452e3f7",
            "7a910c3cc62d415ea983f31304b2ab42",
            "c8e81e72d0eb488eb8a504ef1454a6d5",
            "13f99ce85fac41f29057ef80b13b3564",
            "3653f1f439eb46e18672b0ef6d1847a2",
            "c20baa114fed4e69b6e1c47fe2101b2e",
            "45d9fc82996e4b099316bee6e0f813e4",
            "384206b9193b498c8463a0180b5be48d",
            "6169a62380444c23970dc67a0249fef7"
          ]
        },
        "id": "vQm9ihCx0An-",
        "outputId": "6c1d3d9a-02da-412a-ab7c-917603ec533f"
      },
      "source": [
        "(train_sets, valid_sets, test_sets), info = tfds.load(name='cifar10', split=['train[:85%]', 'train[85%:]', 'test'], with_info=True)"
      ],
      "execution_count": 2,
      "outputs": [
        {
          "output_type": "stream",
          "text": [
            "\u001b[1mDownloading and preparing dataset cifar10/3.0.2 (download: 162.17 MiB, generated: 132.40 MiB, total: 294.58 MiB) to /root/tensorflow_datasets/cifar10/3.0.2...\u001b[0m\n"
          ],
          "name": "stdout"
        },
        {
          "output_type": "display_data",
          "data": {
            "application/vnd.jupyter.widget-view+json": {
              "model_id": "3910c8e959b44b02a0b1f869491ac5c8",
              "version_minor": 0,
              "version_major": 2
            },
            "text/plain": [
              "HBox(children=(FloatProgress(value=1.0, bar_style='info', description='Dl Completed...', max=1.0, style=Progre…"
            ]
          },
          "metadata": {
            "tags": []
          }
        },
        {
          "output_type": "display_data",
          "data": {
            "application/vnd.jupyter.widget-view+json": {
              "model_id": "1d77805a1e264d9da8d5aa544d6cd8a7",
              "version_minor": 0,
              "version_major": 2
            },
            "text/plain": [
              "HBox(children=(FloatProgress(value=1.0, bar_style='info', description='Dl Size...', max=1.0, style=ProgressSty…"
            ]
          },
          "metadata": {
            "tags": []
          }
        },
        {
          "output_type": "display_data",
          "data": {
            "application/vnd.jupyter.widget-view+json": {
              "model_id": "d086d5679e7c4eb8a4a91fbb6e2e34f8",
              "version_minor": 0,
              "version_major": 2
            },
            "text/plain": [
              "HBox(children=(FloatProgress(value=1.0, bar_style='info', description='Extraction completed...', max=1.0, styl…"
            ]
          },
          "metadata": {
            "tags": []
          }
        },
        {
          "output_type": "stream",
          "text": [
            "\n",
            "\n",
            "\n",
            "\n",
            "\n",
            "\n"
          ],
          "name": "stdout"
        },
        {
          "output_type": "display_data",
          "data": {
            "application/vnd.jupyter.widget-view+json": {
              "model_id": "efa20b2629e04bd58db337516273fa24",
              "version_minor": 0,
              "version_major": 2
            },
            "text/plain": [
              "HBox(children=(FloatProgress(value=1.0, bar_style='info', max=1.0), HTML(value='')))"
            ]
          },
          "metadata": {
            "tags": []
          }
        },
        {
          "output_type": "stream",
          "text": [
            "\rShuffling and writing examples to /root/tensorflow_datasets/cifar10/3.0.2.incomplete1KR7MF/cifar10-train.tfrecord\n"
          ],
          "name": "stdout"
        },
        {
          "output_type": "display_data",
          "data": {
            "application/vnd.jupyter.widget-view+json": {
              "model_id": "cede2a3f68bc43048e5d1cf827801a54",
              "version_minor": 0,
              "version_major": 2
            },
            "text/plain": [
              "HBox(children=(FloatProgress(value=0.0, max=50000.0), HTML(value='')))"
            ]
          },
          "metadata": {
            "tags": []
          }
        },
        {
          "output_type": "display_data",
          "data": {
            "application/vnd.jupyter.widget-view+json": {
              "model_id": "d17c41dd69de474ebc2ec2534956589d",
              "version_minor": 0,
              "version_major": 2
            },
            "text/plain": [
              "HBox(children=(FloatProgress(value=1.0, bar_style='info', max=1.0), HTML(value='')))"
            ]
          },
          "metadata": {
            "tags": []
          }
        },
        {
          "output_type": "stream",
          "text": [
            "\rShuffling and writing examples to /root/tensorflow_datasets/cifar10/3.0.2.incomplete1KR7MF/cifar10-test.tfrecord\n"
          ],
          "name": "stdout"
        },
        {
          "output_type": "display_data",
          "data": {
            "application/vnd.jupyter.widget-view+json": {
              "model_id": "7a910c3cc62d415ea983f31304b2ab42",
              "version_minor": 0,
              "version_major": 2
            },
            "text/plain": [
              "HBox(children=(FloatProgress(value=0.0, max=10000.0), HTML(value='')))"
            ]
          },
          "metadata": {
            "tags": []
          }
        },
        {
          "output_type": "stream",
          "text": [
            "\u001b[1mDataset cifar10 downloaded and prepared to /root/tensorflow_datasets/cifar10/3.0.2. Subsequent calls will reuse this data.\u001b[0m\n",
            "\r"
          ],
          "name": "stdout"
        }
      ]
    },
    {
      "cell_type": "code",
      "metadata": {
        "id": "2MJhy2c60TTO",
        "colab": {
          "base_uri": "https://localhost:8080/"
        },
        "outputId": "4ef7f7f4-abe0-44f2-b4b9-9817b68228d0"
      },
      "source": [
        "class_names = info.features['label'].names\n",
        "class_names"
      ],
      "execution_count": 24,
      "outputs": [
        {
          "output_type": "execute_result",
          "data": {
            "text/plain": [
              "['airplane',\n",
              " 'automobile',\n",
              " 'bird',\n",
              " 'cat',\n",
              " 'deer',\n",
              " 'dog',\n",
              " 'frog',\n",
              " 'horse',\n",
              " 'ship',\n",
              " 'truck']"
            ]
          },
          "metadata": {
            "tags": []
          },
          "execution_count": 24
        }
      ]
    },
    {
      "cell_type": "code",
      "metadata": {
        "id": "HiHzBSyj3WK1"
      },
      "source": [
        "def preprocessing(item):\n",
        "    images = item['image']\n",
        "    images = tf.cast(images, tf.float32) / 255.0\n",
        "    labels = item['label']\n",
        "    return images, labels"
      ],
      "execution_count": 4,
      "outputs": []
    },
    {
      "cell_type": "code",
      "metadata": {
        "id": "mnlHZb1j0-hM"
      },
      "source": [
        "train_sets = train_sets.map(preprocessing).shuffle(10000).batch(128).prefetch(1)\n",
        "valid_sets = valid_sets.map(preprocessing).shuffle(10000).batch(128).prefetch(1)\n",
        "test_sets = test_sets.map(preprocessing).shuffle(10000).batch(128).prefetch(1)"
      ],
      "execution_count": 5,
      "outputs": []
    },
    {
      "cell_type": "markdown",
      "metadata": {
        "id": "nV7aD-Wq3itQ"
      },
      "source": [
        "## 모델 생성\n",
        "- 함수형 API를 사용하여 모델 생성"
      ]
    },
    {
      "cell_type": "code",
      "metadata": {
        "id": "vlGZy-t64CA2"
      },
      "source": [
        "_input = keras.layers.Input(shape=(32, 32, 3))\n",
        "x = keras.layers.Conv2D(filters=64, kernel_size=(3, 3), padding='same', activation='relu')(_input)\n",
        "x = keras.layers.Conv2D(64, 3, padding='same', activation='relu')(x)\n",
        "x = keras.layers.MaxPool2D(pool_size=(2, 2), strides=(2, 2), padding='same')(x)\n",
        "x = keras.layers.Conv2D(128, 3, padding='same', activation='relu')(x)\n",
        "x = keras.layers.Conv2D(128, 3, padding='same', activation='relu')(x)\n",
        "x = keras.layers.MaxPool2D(pool_size=2, strides=2, padding='same')(x)\n",
        "x = keras.layers.Conv2D(256, (3, 3), (1, 1),\n",
        "                        padding='same', activation='relu')(x)\n",
        "x = keras.layers.Conv2D(256, 3,\n",
        "                        padding='same', activation='relu')(x)\n",
        "x = keras.layers.MaxPool2D(pool_size=(2, 2), strides=(2, 2), padding='same')(x)\n",
        "x = keras.layers.Flatten()(x)\n",
        "x = keras.layers.Dense(units=128, activation='relu')(x)\n",
        "x = keras.layers.Dropout(0.5)(x)\n",
        "x = keras.layers.Dense(64, activation='relu')(x)\n",
        "x = keras.layers.Dropout(0.5)(x)\n",
        "_output = keras.layers.Dense(10, activation='softmax')(x)"
      ],
      "execution_count": 6,
      "outputs": []
    },
    {
      "cell_type": "code",
      "metadata": {
        "id": "AM7MU1tG5NxM"
      },
      "source": [
        "model = keras.Model(inputs=_input, outputs=_output)"
      ],
      "execution_count": 7,
      "outputs": []
    },
    {
      "cell_type": "code",
      "metadata": {
        "colab": {
          "base_uri": "https://localhost:8080/"
        },
        "id": "hf0GYGw17M8V",
        "outputId": "d5c7a762-95f9-4456-d9f2-aacd942f0030"
      },
      "source": [
        "model.summary()"
      ],
      "execution_count": 8,
      "outputs": [
        {
          "output_type": "stream",
          "text": [
            "Model: \"model\"\n",
            "_________________________________________________________________\n",
            "Layer (type)                 Output Shape              Param #   \n",
            "=================================================================\n",
            "input_1 (InputLayer)         [(None, 32, 32, 3)]       0         \n",
            "_________________________________________________________________\n",
            "conv2d (Conv2D)              (None, 32, 32, 64)        1792      \n",
            "_________________________________________________________________\n",
            "conv2d_1 (Conv2D)            (None, 32, 32, 64)        36928     \n",
            "_________________________________________________________________\n",
            "max_pooling2d (MaxPooling2D) (None, 16, 16, 64)        0         \n",
            "_________________________________________________________________\n",
            "conv2d_2 (Conv2D)            (None, 16, 16, 128)       73856     \n",
            "_________________________________________________________________\n",
            "conv2d_3 (Conv2D)            (None, 16, 16, 128)       147584    \n",
            "_________________________________________________________________\n",
            "max_pooling2d_1 (MaxPooling2 (None, 8, 8, 128)         0         \n",
            "_________________________________________________________________\n",
            "conv2d_4 (Conv2D)            (None, 8, 8, 256)         295168    \n",
            "_________________________________________________________________\n",
            "conv2d_5 (Conv2D)            (None, 8, 8, 256)         590080    \n",
            "_________________________________________________________________\n",
            "max_pooling2d_2 (MaxPooling2 (None, 4, 4, 256)         0         \n",
            "_________________________________________________________________\n",
            "flatten (Flatten)            (None, 4096)              0         \n",
            "_________________________________________________________________\n",
            "dense (Dense)                (None, 128)               524416    \n",
            "_________________________________________________________________\n",
            "dropout (Dropout)            (None, 128)               0         \n",
            "_________________________________________________________________\n",
            "dense_1 (Dense)              (None, 64)                8256      \n",
            "_________________________________________________________________\n",
            "dropout_1 (Dropout)          (None, 64)                0         \n",
            "_________________________________________________________________\n",
            "dense_2 (Dense)              (None, 10)                650       \n",
            "=================================================================\n",
            "Total params: 1,678,730\n",
            "Trainable params: 1,678,730\n",
            "Non-trainable params: 0\n",
            "_________________________________________________________________\n"
          ],
          "name": "stdout"
        }
      ]
    },
    {
      "cell_type": "markdown",
      "metadata": {
        "id": "Bnqu3vrc7dgI"
      },
      "source": [
        "## 모델 컴파일\n",
        "- 최적화 기법: adam\n",
        "- 손실함수: 교차 엔트로피\n",
        "\n"
      ]
    },
    {
      "cell_type": "code",
      "metadata": {
        "id": "pwMWPcVg8c0X"
      },
      "source": [
        "model.compile(optimizer='adam',\n",
        "              loss='sparse_categorical_crossentropy',\n",
        "              metrics=['accuracy'])"
      ],
      "execution_count": 9,
      "outputs": []
    },
    {
      "cell_type": "markdown",
      "metadata": {
        "id": "YB6CRM8c-IaG"
      },
      "source": [
        "## 모델 훈련"
      ]
    },
    {
      "cell_type": "code",
      "metadata": {
        "colab": {
          "base_uri": "https://localhost:8080/"
        },
        "id": "3EKeZU5Z_IHd",
        "outputId": "87061e89-7bf4-4b96-896d-d889c5e3ac51"
      },
      "source": [
        "histo = model.fit(train_sets, validation_data=valid_sets, epochs=100)"
      ],
      "execution_count": 10,
      "outputs": [
        {
          "output_type": "stream",
          "text": [
            "Epoch 1/100\n",
            "333/333 [==============================] - 44s 31ms/step - loss: 2.0762 - accuracy: 0.2016 - val_loss: 1.7383 - val_accuracy: 0.3409\n",
            "Epoch 2/100\n",
            "333/333 [==============================] - 9s 25ms/step - loss: 1.6480 - accuracy: 0.3782 - val_loss: 1.4732 - val_accuracy: 0.4776\n",
            "Epoch 3/100\n",
            "333/333 [==============================] - 9s 25ms/step - loss: 1.4200 - accuracy: 0.4838 - val_loss: 1.1519 - val_accuracy: 0.5884\n",
            "Epoch 4/100\n",
            "333/333 [==============================] - 9s 26ms/step - loss: 1.2335 - accuracy: 0.5640 - val_loss: 1.3116 - val_accuracy: 0.5539\n",
            "Epoch 5/100\n",
            "333/333 [==============================] - 9s 26ms/step - loss: 1.0977 - accuracy: 0.6192 - val_loss: 1.0192 - val_accuracy: 0.6331\n",
            "Epoch 6/100\n",
            "333/333 [==============================] - 9s 26ms/step - loss: 0.9982 - accuracy: 0.6581 - val_loss: 0.8726 - val_accuracy: 0.6963\n",
            "Epoch 7/100\n",
            "333/333 [==============================] - 9s 26ms/step - loss: 0.8849 - accuracy: 0.7014 - val_loss: 0.8295 - val_accuracy: 0.7145\n",
            "Epoch 8/100\n",
            "333/333 [==============================] - 9s 26ms/step - loss: 0.8031 - accuracy: 0.7301 - val_loss: 0.9119 - val_accuracy: 0.6901\n",
            "Epoch 9/100\n",
            "333/333 [==============================] - 9s 26ms/step - loss: 0.7390 - accuracy: 0.7525 - val_loss: 0.7793 - val_accuracy: 0.7341\n",
            "Epoch 10/100\n",
            "333/333 [==============================] - 9s 26ms/step - loss: 0.6759 - accuracy: 0.7760 - val_loss: 0.7671 - val_accuracy: 0.7504\n",
            "Epoch 11/100\n",
            "333/333 [==============================] - 9s 27ms/step - loss: 0.5947 - accuracy: 0.8036 - val_loss: 0.7653 - val_accuracy: 0.7565\n",
            "Epoch 12/100\n",
            "333/333 [==============================] - 9s 26ms/step - loss: 0.5463 - accuracy: 0.8184 - val_loss: 0.7552 - val_accuracy: 0.7659\n",
            "Epoch 13/100\n",
            "333/333 [==============================] - 9s 26ms/step - loss: 0.4809 - accuracy: 0.8404 - val_loss: 0.7533 - val_accuracy: 0.7676\n",
            "Epoch 14/100\n",
            "333/333 [==============================] - 9s 26ms/step - loss: 0.4396 - accuracy: 0.8560 - val_loss: 0.9197 - val_accuracy: 0.7353\n",
            "Epoch 15/100\n",
            "333/333 [==============================] - 9s 26ms/step - loss: 0.5077 - accuracy: 0.8345 - val_loss: 0.7689 - val_accuracy: 0.7781\n",
            "Epoch 16/100\n",
            "333/333 [==============================] - 9s 26ms/step - loss: 0.3746 - accuracy: 0.8758 - val_loss: 0.8425 - val_accuracy: 0.7719\n",
            "Epoch 17/100\n",
            "333/333 [==============================] - 9s 26ms/step - loss: 0.3380 - accuracy: 0.8876 - val_loss: 0.8604 - val_accuracy: 0.7775\n",
            "Epoch 18/100\n",
            "333/333 [==============================] - 9s 26ms/step - loss: 0.3153 - accuracy: 0.8973 - val_loss: 0.9226 - val_accuracy: 0.7681\n",
            "Epoch 19/100\n",
            "333/333 [==============================] - 9s 26ms/step - loss: 0.2944 - accuracy: 0.9049 - val_loss: 0.9112 - val_accuracy: 0.7849\n",
            "Epoch 20/100\n",
            "333/333 [==============================] - 9s 27ms/step - loss: 0.2749 - accuracy: 0.9095 - val_loss: 0.9892 - val_accuracy: 0.7709\n",
            "Epoch 21/100\n",
            "333/333 [==============================] - 9s 26ms/step - loss: 0.2473 - accuracy: 0.9201 - val_loss: 0.9278 - val_accuracy: 0.7761\n",
            "Epoch 22/100\n",
            "333/333 [==============================] - 9s 26ms/step - loss: 0.2401 - accuracy: 0.9246 - val_loss: 1.0310 - val_accuracy: 0.7759\n",
            "Epoch 23/100\n",
            "333/333 [==============================] - 9s 27ms/step - loss: 0.2157 - accuracy: 0.9297 - val_loss: 1.0424 - val_accuracy: 0.7795\n",
            "Epoch 24/100\n",
            "333/333 [==============================] - 9s 26ms/step - loss: 0.2232 - accuracy: 0.9285 - val_loss: 1.0729 - val_accuracy: 0.7820\n",
            "Epoch 25/100\n",
            "333/333 [==============================] - 9s 26ms/step - loss: 0.2153 - accuracy: 0.9317 - val_loss: 1.1179 - val_accuracy: 0.7712\n",
            "Epoch 26/100\n",
            "333/333 [==============================] - 9s 26ms/step - loss: 0.2428 - accuracy: 0.9229 - val_loss: 1.1034 - val_accuracy: 0.7708\n",
            "Epoch 27/100\n",
            "333/333 [==============================] - 9s 26ms/step - loss: 0.1797 - accuracy: 0.9442 - val_loss: 1.2127 - val_accuracy: 0.7691\n",
            "Epoch 28/100\n",
            "333/333 [==============================] - 9s 26ms/step - loss: 0.1710 - accuracy: 0.9475 - val_loss: 1.1874 - val_accuracy: 0.7619\n",
            "Epoch 29/100\n",
            "333/333 [==============================] - 9s 26ms/step - loss: 0.1886 - accuracy: 0.9408 - val_loss: 1.0886 - val_accuracy: 0.7724\n",
            "Epoch 30/100\n",
            "333/333 [==============================] - 9s 26ms/step - loss: 0.1647 - accuracy: 0.9491 - val_loss: 1.2042 - val_accuracy: 0.7728\n",
            "Epoch 31/100\n",
            "333/333 [==============================] - 9s 26ms/step - loss: 0.1909 - accuracy: 0.9403 - val_loss: 1.2171 - val_accuracy: 0.7733\n",
            "Epoch 32/100\n",
            "333/333 [==============================] - 9s 26ms/step - loss: 0.1366 - accuracy: 0.9567 - val_loss: 1.2577 - val_accuracy: 0.7785\n",
            "Epoch 33/100\n",
            "333/333 [==============================] - 9s 26ms/step - loss: 0.1481 - accuracy: 0.9560 - val_loss: 1.2759 - val_accuracy: 0.7812\n",
            "Epoch 34/100\n",
            "333/333 [==============================] - 9s 26ms/step - loss: 0.1572 - accuracy: 0.9520 - val_loss: 1.3010 - val_accuracy: 0.7725\n",
            "Epoch 35/100\n",
            "333/333 [==============================] - 9s 26ms/step - loss: 0.1362 - accuracy: 0.9589 - val_loss: 1.4592 - val_accuracy: 0.7501\n",
            "Epoch 36/100\n",
            "333/333 [==============================] - 9s 26ms/step - loss: 0.1358 - accuracy: 0.9578 - val_loss: 1.3214 - val_accuracy: 0.7644\n",
            "Epoch 37/100\n",
            "333/333 [==============================] - 9s 26ms/step - loss: 0.1588 - accuracy: 0.9513 - val_loss: 1.2869 - val_accuracy: 0.7836\n",
            "Epoch 38/100\n",
            "333/333 [==============================] - 9s 26ms/step - loss: 0.1221 - accuracy: 0.9613 - val_loss: 1.3882 - val_accuracy: 0.7721\n",
            "Epoch 39/100\n",
            "333/333 [==============================] - 9s 26ms/step - loss: 0.1430 - accuracy: 0.9574 - val_loss: 1.2255 - val_accuracy: 0.7735\n",
            "Epoch 40/100\n",
            "333/333 [==============================] - 9s 26ms/step - loss: 0.1467 - accuracy: 0.9571 - val_loss: 1.2409 - val_accuracy: 0.7775\n",
            "Epoch 41/100\n",
            "333/333 [==============================] - 9s 26ms/step - loss: 0.1130 - accuracy: 0.9665 - val_loss: 1.5274 - val_accuracy: 0.7779\n",
            "Epoch 42/100\n",
            "333/333 [==============================] - 9s 26ms/step - loss: 0.1411 - accuracy: 0.9576 - val_loss: 1.5084 - val_accuracy: 0.7705\n",
            "Epoch 43/100\n",
            "333/333 [==============================] - 9s 26ms/step - loss: 0.1057 - accuracy: 0.9680 - val_loss: 1.4187 - val_accuracy: 0.7773\n",
            "Epoch 44/100\n",
            "333/333 [==============================] - 9s 26ms/step - loss: 0.1017 - accuracy: 0.9698 - val_loss: 1.4963 - val_accuracy: 0.7777\n",
            "Epoch 45/100\n",
            "333/333 [==============================] - 9s 26ms/step - loss: 0.1123 - accuracy: 0.9670 - val_loss: 1.4960 - val_accuracy: 0.7716\n",
            "Epoch 46/100\n",
            "333/333 [==============================] - 9s 26ms/step - loss: 0.1160 - accuracy: 0.9650 - val_loss: 1.3288 - val_accuracy: 0.7747\n",
            "Epoch 47/100\n",
            "333/333 [==============================] - 9s 26ms/step - loss: 0.1338 - accuracy: 0.9617 - val_loss: 1.3474 - val_accuracy: 0.7791\n",
            "Epoch 48/100\n",
            "333/333 [==============================] - 9s 26ms/step - loss: 0.1059 - accuracy: 0.9686 - val_loss: 1.3614 - val_accuracy: 0.7795\n",
            "Epoch 49/100\n",
            "333/333 [==============================] - 9s 26ms/step - loss: 0.1236 - accuracy: 0.9650 - val_loss: 1.3928 - val_accuracy: 0.7672\n",
            "Epoch 50/100\n",
            "333/333 [==============================] - 9s 26ms/step - loss: 0.1029 - accuracy: 0.9689 - val_loss: 1.5851 - val_accuracy: 0.7717\n",
            "Epoch 51/100\n",
            "333/333 [==============================] - 9s 26ms/step - loss: 0.0993 - accuracy: 0.9716 - val_loss: 1.4976 - val_accuracy: 0.7757\n",
            "Epoch 52/100\n",
            "333/333 [==============================] - 9s 26ms/step - loss: 0.1126 - accuracy: 0.9664 - val_loss: 1.5598 - val_accuracy: 0.7745\n",
            "Epoch 53/100\n",
            "333/333 [==============================] - 9s 26ms/step - loss: 0.1105 - accuracy: 0.9675 - val_loss: 1.5170 - val_accuracy: 0.7723\n",
            "Epoch 54/100\n",
            "333/333 [==============================] - 9s 27ms/step - loss: 0.1078 - accuracy: 0.9677 - val_loss: 1.5833 - val_accuracy: 0.7785\n",
            "Epoch 55/100\n",
            "333/333 [==============================] - 9s 26ms/step - loss: 0.0920 - accuracy: 0.9723 - val_loss: 1.4397 - val_accuracy: 0.7769\n",
            "Epoch 56/100\n",
            "333/333 [==============================] - 9s 26ms/step - loss: 0.1051 - accuracy: 0.9691 - val_loss: 1.6326 - val_accuracy: 0.7640\n",
            "Epoch 57/100\n",
            "333/333 [==============================] - 9s 26ms/step - loss: 0.0859 - accuracy: 0.9741 - val_loss: 1.6136 - val_accuracy: 0.7791\n",
            "Epoch 58/100\n",
            "333/333 [==============================] - 9s 26ms/step - loss: 0.1048 - accuracy: 0.9697 - val_loss: 1.5761 - val_accuracy: 0.7803\n",
            "Epoch 59/100\n",
            "333/333 [==============================] - 9s 26ms/step - loss: 0.1021 - accuracy: 0.9712 - val_loss: 1.6985 - val_accuracy: 0.7803\n",
            "Epoch 60/100\n",
            "333/333 [==============================] - 9s 26ms/step - loss: 0.0875 - accuracy: 0.9746 - val_loss: 1.6936 - val_accuracy: 0.7799\n",
            "Epoch 61/100\n",
            "333/333 [==============================] - 9s 26ms/step - loss: 0.1123 - accuracy: 0.9676 - val_loss: 1.4825 - val_accuracy: 0.7745\n",
            "Epoch 62/100\n",
            "333/333 [==============================] - 9s 26ms/step - loss: 0.0984 - accuracy: 0.9714 - val_loss: 1.5550 - val_accuracy: 0.7669\n",
            "Epoch 63/100\n",
            "333/333 [==============================] - 9s 26ms/step - loss: 0.1001 - accuracy: 0.9718 - val_loss: 1.4859 - val_accuracy: 0.7765\n",
            "Epoch 64/100\n",
            "333/333 [==============================] - 9s 26ms/step - loss: 0.0704 - accuracy: 0.9782 - val_loss: 1.8094 - val_accuracy: 0.7789\n",
            "Epoch 65/100\n",
            "333/333 [==============================] - 9s 26ms/step - loss: 0.0949 - accuracy: 0.9736 - val_loss: 1.5709 - val_accuracy: 0.7661\n",
            "Epoch 66/100\n",
            "333/333 [==============================] - 9s 27ms/step - loss: 0.1178 - accuracy: 0.9653 - val_loss: 1.4758 - val_accuracy: 0.7823\n",
            "Epoch 67/100\n",
            "333/333 [==============================] - 9s 26ms/step - loss: 0.0887 - accuracy: 0.9739 - val_loss: 1.5439 - val_accuracy: 0.7704\n",
            "Epoch 68/100\n",
            "333/333 [==============================] - 9s 26ms/step - loss: 0.0678 - accuracy: 0.9800 - val_loss: 1.7321 - val_accuracy: 0.7869\n",
            "Epoch 69/100\n",
            "333/333 [==============================] - 9s 26ms/step - loss: 0.0850 - accuracy: 0.9762 - val_loss: 1.5639 - val_accuracy: 0.7680\n",
            "Epoch 70/100\n",
            "333/333 [==============================] - 9s 26ms/step - loss: 0.0911 - accuracy: 0.9739 - val_loss: 1.5729 - val_accuracy: 0.7704\n",
            "Epoch 71/100\n",
            "333/333 [==============================] - 9s 26ms/step - loss: 0.0897 - accuracy: 0.9740 - val_loss: 1.5886 - val_accuracy: 0.7785\n",
            "Epoch 72/100\n",
            "333/333 [==============================] - 9s 26ms/step - loss: 0.0808 - accuracy: 0.9772 - val_loss: 1.7545 - val_accuracy: 0.7788\n",
            "Epoch 73/100\n",
            "333/333 [==============================] - 9s 26ms/step - loss: 0.0777 - accuracy: 0.9778 - val_loss: 1.8326 - val_accuracy: 0.7697\n",
            "Epoch 74/100\n",
            "333/333 [==============================] - 9s 26ms/step - loss: 0.0976 - accuracy: 0.9722 - val_loss: 1.6200 - val_accuracy: 0.7765\n",
            "Epoch 75/100\n",
            "333/333 [==============================] - 9s 26ms/step - loss: 0.0874 - accuracy: 0.9742 - val_loss: 1.7185 - val_accuracy: 0.7729\n",
            "Epoch 76/100\n",
            "333/333 [==============================] - 9s 26ms/step - loss: 0.1032 - accuracy: 0.9715 - val_loss: 1.6124 - val_accuracy: 0.7711\n",
            "Epoch 77/100\n",
            "333/333 [==============================] - 9s 26ms/step - loss: 0.0775 - accuracy: 0.9776 - val_loss: 1.7579 - val_accuracy: 0.7752\n",
            "Epoch 78/100\n",
            "333/333 [==============================] - 9s 26ms/step - loss: 0.0776 - accuracy: 0.9779 - val_loss: 1.6810 - val_accuracy: 0.7829\n",
            "Epoch 79/100\n",
            "333/333 [==============================] - 9s 26ms/step - loss: 0.0702 - accuracy: 0.9803 - val_loss: 1.7098 - val_accuracy: 0.7839\n",
            "Epoch 80/100\n",
            "333/333 [==============================] - 9s 26ms/step - loss: 0.0700 - accuracy: 0.9810 - val_loss: 1.8860 - val_accuracy: 0.7643\n",
            "Epoch 81/100\n",
            "333/333 [==============================] - 9s 26ms/step - loss: 0.0830 - accuracy: 0.9763 - val_loss: 1.7554 - val_accuracy: 0.7737\n",
            "Epoch 82/100\n",
            "333/333 [==============================] - 9s 26ms/step - loss: 0.0782 - accuracy: 0.9775 - val_loss: 1.7624 - val_accuracy: 0.7705\n",
            "Epoch 83/100\n",
            "333/333 [==============================] - 9s 26ms/step - loss: 0.1305 - accuracy: 0.9634 - val_loss: 1.6998 - val_accuracy: 0.7812\n",
            "Epoch 84/100\n",
            "333/333 [==============================] - 9s 26ms/step - loss: 0.0953 - accuracy: 0.9730 - val_loss: 1.5842 - val_accuracy: 0.7785\n",
            "Epoch 85/100\n",
            "333/333 [==============================] - 9s 26ms/step - loss: 0.0631 - accuracy: 0.9828 - val_loss: 1.8015 - val_accuracy: 0.7711\n",
            "Epoch 86/100\n",
            "333/333 [==============================] - 9s 26ms/step - loss: 0.0738 - accuracy: 0.9786 - val_loss: 1.8735 - val_accuracy: 0.7848\n",
            "Epoch 87/100\n",
            "333/333 [==============================] - 9s 26ms/step - loss: 0.0735 - accuracy: 0.9791 - val_loss: 1.7888 - val_accuracy: 0.7709\n",
            "Epoch 88/100\n",
            "333/333 [==============================] - 9s 26ms/step - loss: 0.0804 - accuracy: 0.9780 - val_loss: 1.6849 - val_accuracy: 0.7703\n",
            "Epoch 89/100\n",
            "333/333 [==============================] - 9s 26ms/step - loss: 0.0643 - accuracy: 0.9816 - val_loss: 2.0265 - val_accuracy: 0.7661\n",
            "Epoch 90/100\n",
            "333/333 [==============================] - 9s 26ms/step - loss: 0.0811 - accuracy: 0.9769 - val_loss: 1.7404 - val_accuracy: 0.7753\n",
            "Epoch 91/100\n",
            "333/333 [==============================] - 9s 26ms/step - loss: 0.0828 - accuracy: 0.9771 - val_loss: 1.8480 - val_accuracy: 0.7720\n",
            "Epoch 92/100\n",
            "333/333 [==============================] - 9s 26ms/step - loss: 0.0550 - accuracy: 0.9840 - val_loss: 1.8388 - val_accuracy: 0.7720\n",
            "Epoch 93/100\n",
            "333/333 [==============================] - 9s 26ms/step - loss: 0.0749 - accuracy: 0.9783 - val_loss: 1.8273 - val_accuracy: 0.7777\n",
            "Epoch 94/100\n",
            "333/333 [==============================] - 9s 26ms/step - loss: 0.0591 - accuracy: 0.9828 - val_loss: 1.9431 - val_accuracy: 0.7737\n",
            "Epoch 95/100\n",
            "333/333 [==============================] - 9s 26ms/step - loss: 0.0776 - accuracy: 0.9786 - val_loss: 1.7772 - val_accuracy: 0.7803\n",
            "Epoch 96/100\n",
            "333/333 [==============================] - 9s 26ms/step - loss: 0.0804 - accuracy: 0.9781 - val_loss: 1.8761 - val_accuracy: 0.7819\n",
            "Epoch 97/100\n",
            "333/333 [==============================] - 9s 26ms/step - loss: 0.0751 - accuracy: 0.9793 - val_loss: 1.7350 - val_accuracy: 0.7621\n",
            "Epoch 98/100\n",
            "333/333 [==============================] - 9s 26ms/step - loss: 0.1528 - accuracy: 0.9582 - val_loss: 1.5944 - val_accuracy: 0.7799\n",
            "Epoch 99/100\n",
            "333/333 [==============================] - 9s 26ms/step - loss: 0.0594 - accuracy: 0.9828 - val_loss: 1.7959 - val_accuracy: 0.7789\n",
            "Epoch 100/100\n",
            "333/333 [==============================] - 9s 26ms/step - loss: 0.0542 - accuracy: 0.9846 - val_loss: 1.8805 - val_accuracy: 0.7807\n"
          ],
          "name": "stdout"
        }
      ]
    },
    {
      "cell_type": "markdown",
      "metadata": {
        "id": "w2X3dYlQjxKE"
      },
      "source": [
        "- 훈련 결과 그래프 시각화"
      ]
    },
    {
      "cell_type": "code",
      "metadata": {
        "colab": {
          "base_uri": "https://localhost:8080/",
          "height": 324
        },
        "id": "IXenJMDS_TbC",
        "outputId": "a080b215-334b-4468-b5cb-e82f6bcf393f"
      },
      "source": [
        "pd.DataFrame(histo.history).plot(figsize=(8, 5))\n",
        "plt.grid(True)\n",
        "plt.gca().set_ylim(0, 1)\n",
        "plt.show()"
      ],
      "execution_count": 13,
      "outputs": [
        {
          "output_type": "display_data",
          "data": {
            "image/png": "[encoded data removed]",
            "text/plain": [
              "<Figure size 576x360 with 1 Axes>"
            ]
          },
          "metadata": {
            "tags": [],
            "needs_background": "light"
          }
        }
      ]
    },
    {
      "cell_type": "markdown",
      "metadata": {
        "id": "jMltySl1j1kp"
      },
      "source": [
        "## 모델 평가"
      ]
    },
    {
      "cell_type": "code",
      "metadata": {
        "colab": {
          "base_uri": "https://localhost:8080/"
        },
        "id": "HDk6HHXeRZMw",
        "outputId": "1243a9d8-c09f-452e-a0c5-0d4ef4d98de9"
      },
      "source": [
        "test_loss, test_acc = model.evaluate(test_sets)"
      ],
      "execution_count": 14,
      "outputs": [
        {
          "output_type": "stream",
          "text": [
            "79/79 [==============================] - 1s 9ms/step - loss: 1.9471 - accuracy: 0.7851\n"
          ],
          "name": "stdout"
        }
      ]
    },
    {
      "cell_type": "markdown",
      "metadata": {
        "id": "O4i_heBOj8mH"
      },
      "source": [
        "## 새로운 이미지로 모델 예측"
      ]
    },
    {
      "cell_type": "code",
      "metadata": {
        "colab": {
          "resources": {
            "http://localhost:8080/nbextensions/google.colab/files.js": {
              "data": "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",
              "ok": true,
              "headers": [
                [
                  "content-type",
                  "application/javascript"
                ]
              ],
              "status": 200,
              "status_text": ""
            }
          },
          "base_uri": "https://localhost:8080/",
          "height": 141
        },
        "id": "iXPSMiYTbxFU",
        "outputId": "edc5d17a-ae72-4d1f-abd9-6ce1759f1c13"
      },
      "source": [
        "from google.colab import files\n",
        "uploaded = files.upload() # 파일 업로드 기능 실행"
      ],
      "execution_count": 63,
      "outputs": [
        {
          "output_type": "display_data",
          "data": {
            "text/html": [
              "\n",
              "     <input type=\"file\" id=\"files-406ccb83-d0ad-4c64-af04-c6c09cddf3ba\" name=\"files[]\" multiple disabled\n",
              "        style=\"border:none\" />\n",
              "     <output id=\"result-406ccb83-d0ad-4c64-af04-c6c09cddf3ba\">\n",
              "      Upload widget is only available when the cell has been executed in the\n",
              "      current browser session. Please rerun this cell to enable.\n",
              "      </output>\n",
              "      <script src=\"/nbextensions/google.colab/files.js\"></script> "
            ],
            "text/plain": [
              "<IPython.core.display.HTML object>"
            ]
          },
          "metadata": {
            "tags": []
          }
        },
        {
          "output_type": "stream",
          "text": [
            "Saving airplane.jpg to airplane (3).jpg\n",
            "Saving dog2.jpg to dog2 (3).jpg\n",
            "Saving frog.jpg to frog (2).jpg\n"
          ],
          "name": "stdout"
        }
      ]
    },
    {
      "cell_type": "code",
      "metadata": {
        "id": "4gxEtG6od6Ko"
      },
      "source": [
        "from IPython.display import Image\n",
        "from keras.preprocessing import image"
      ],
      "execution_count": 65,
      "outputs": []
    },
    {
      "cell_type": "code",
      "metadata": {
        "colab": {
          "base_uri": "https://localhost:8080/",
          "height": 517
        },
        "id": "Uvgpgc9Qa1DV",
        "outputId": "41938f17-565f-4d6c-89dd-d05032b7da46"
      },
      "source": [
        "plt.figure(figsize=(10, 10))\n",
        "index = 0\n",
        "for _file in uploaded.keys():\n",
        "    path = '/content/' + _file\n",
        "    img = image.load_img(path, target_size=(32, 32))\n",
        "\n",
        "    index += 1\n",
        "    plt.subplot(1, 3, index)\n",
        "    plt.imshow(img)\n",
        "    plt.axis('off')\n",
        "    \n",
        "    img_array = image.img_to_array(img)\n",
        "    img_array = tf.expand_dims(img_array, axis=0)\n",
        "    \n",
        "    #images = np.vstack([x])\n",
        "    \n",
        "    predictions = model.predict(img_array)\n",
        "    score = tf.nn.softmax(predictions[0])\n",
        "    print(predictions[0])\n",
        "    print(score)\n",
        "    class_pred = np.argmax(predictions[0])\n",
        "    print(class_pred)\n",
        "    print(class_names[class_pred])\n",
        "\n",
        "    plt.title(\"Class: {}, {:.2f}%\".format(class_names[class_pred], 100 * np.max(score)))\n",
        "plt.show()"
      ],
      "execution_count": 99,
      "outputs": [
        {
          "output_type": "stream",
          "text": [
            "[1. 0. 0. 0. 0. 0. 0. 0. 0. 0.]\n",
            "tf.Tensor(\n",
            "[0.23196931 0.08533675 0.08533675 0.08533675 0.08533675 0.08533675\n",
            " 0.08533675 0.08533675 0.08533675 0.08533675], shape=(10,), dtype=float32)\n",
            "0\n",
            "airplane\n",
            "[0. 0. 0. 0. 0. 1. 0. 0. 0. 0.]\n",
            "tf.Tensor(\n",
            "[0.08533675 0.08533675 0.08533675 0.08533675 0.08533675 0.23196931\n",
            " 0.08533675 0.08533675 0.08533675 0.08533675], shape=(10,), dtype=float32)\n",
            "5\n",
            "dog\n",
            "[0. 0. 0. 1. 0. 0. 0. 0. 0. 0.]\n",
            "tf.Tensor(\n",
            "[0.08533675 0.08533675 0.08533675 0.23196931 0.08533675 0.08533675\n",
            " 0.08533675 0.08533675 0.08533675 0.08533675], shape=(10,), dtype=float32)\n",
            "3\n",
            "cat\n"
          ],
          "name": "stdout"
        },
        {
          "output_type": "display_data",
          "data": {
            "image/png": "[encoded data removed]",
            "text/plain": [
              "<Figure size 720x720 with 3 Axes>"
            ]
          },
          "metadata": {
            "tags": [],
            "needs_background": "light"
          }
        }
      ]
    },
    {
      "cell_type": "markdown",
      "metadata": {
        "id": "QVunrnX2ekN5"
      },
      "source": [
        "## 모델 저장"
      ]
    },
    {
      "cell_type": "code",
      "metadata": {
        "id": "Oh575n1OqAx5"
      },
      "source": [
        "from google.colab import drive\n",
        "drive.mount('/content/gdrive')"
      ],
      "execution_count": null,
      "outputs": []
    },
    {
      "cell_type": "code",
      "metadata": {
        "colab": {
          "base_uri": "https://localhost:8080/"
        },
        "id": "f9GaUV9Rmdpi",
        "outputId": "f33fa460-1b09-4434-87a5-449038c0a6e7"
      },
      "source": [
        "model_all = 'first_model'\n",
        "path1 = F\"/content/gdrive/My Drive/saved_model/my_first_model/{model_all}\"\n",
        "model.save(path1)\n",
        "model_name = 'first_model.h5'\n",
        "path2 = F\"/content/gdrive/My Drive/saved_model/my_first_model/{model_name}\"\n",
        "model.save(path2)"
      ],
      "execution_count": 137,
      "outputs": [
        {
          "output_type": "stream",
          "text": [
            "INFO:tensorflow:Assets written to: /content/gdrive/My Drive/saved_model/my_first_model/first_model/assets\n"
          ],
          "name": "stdout"
        },
        {
          "output_type": "stream",
          "text": [
            "INFO:tensorflow:Assets written to: /content/gdrive/My Drive/saved_model/my_first_model/first_model/assets\n"
          ],
          "name": "stderr"
        }
      ]
    }
  ]
}