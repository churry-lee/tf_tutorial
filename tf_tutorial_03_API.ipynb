{
  "nbformat": 4,
  "nbformat_minor": 0,
  "metadata": {
    "colab": {
      "name": "tf_tutorial_03_API.ipynb",
      "provenance": [],
      "collapsed_sections": [],
      "authorship_tag": "ABX9TyPE8d6BzTce9NEiBRiwwapL",
      "include_colab_link": true
    },
    "kernelspec": {
      "name": "python3",
      "display_name": "Python 3"
    },
    "language_info": {
      "name": "python"
    }
  },
  "cells": [
    {
      "cell_type": "markdown",
      "metadata": {
        "id": "view-in-github",
        "colab_type": "text"
      },
      "source": [
        "<a href=\"https://colab.research.google.com/github/churry75/tf_tutorial/blob/master/tf_tutorial_03_API.ipynb\" target=\"_parent\"><img src=\"https://colab.research.google.com/assets/colab-badge.svg\" alt=\"Open In Colab\"/></a>"
      ]
    },
    {
      "cell_type": "markdown",
      "metadata": {
        "id": "_XcAxSnR7C_n"
      },
      "source": [
        "# Sequential API를 사용하여 회귀용 다층 퍼셉트론 만들기\n",
        "> 핸즈온 머신러닝 2판(한빛미디어)의 내용을 인용하였습니다.\n",
        "\n",
        "- 캘리포니아 주택 가격 데이터셋을 이용하여 회귀 신경만 만들기"
      ]
    },
    {
      "cell_type": "code",
      "metadata": {
        "id": "J9FQz0On7ZS5"
      },
      "source": [
        "from sklearn.datasets import fetch_california_housing\n",
        "from sklearn.model_selection import train_test_split\n",
        "from sklearn.preprocessing import StandardScaler"
      ],
      "execution_count": 4,
      "outputs": []
    },
    {
      "cell_type": "code",
      "metadata": {
        "id": "kImIz84y7q_0"
      },
      "source": [
        "housing = fetch_california_housing()"
      ],
      "execution_count": 5,
      "outputs": []
    },
    {
      "cell_type": "code",
      "metadata": {
        "id": "J1p0SUeb7wts"
      },
      "source": [
        "x_train_full, x_test, y_train_full, y_test = train_test_split(housing.data, housing.target)\n",
        "x_train, x_valid, y_train, y_valid = train_test_split(x_train_full, y_train_full)"
      ],
      "execution_count": 6,
      "outputs": []
    },
    {
      "cell_type": "code",
      "metadata": {
        "id": "Sxq8cLtj8ArB"
      },
      "source": [
        "scaler = StandardScaler()"
      ],
      "execution_count": 7,
      "outputs": []
    },
    {
      "cell_type": "code",
      "metadata": {
        "id": "pTXBRi7a8HBu"
      },
      "source": [
        "x_train = scaler.fit_transform(x_train)\n",
        "x_valid = scaler.transform(x_valid)\n",
        "x_test = scaler.transform(x_test)"
      ],
      "execution_count": 8,
      "outputs": []
    },
    {
      "cell_type": "markdown",
      "metadata": {
        "id": "FbxlzfQb8Pvq"
      },
      "source": [
        "- 분류 문제와의 차이점\n",
        "    - 출력층이 활성화 함수가 없는 하나의 뉴런(하나의 값을 예측하기 때문)을 가진다\n",
        "    - 손실 함수로 평균 제곱 오차(Mean Square Error, MSE)를 사용"
      ]
    },
    {
      "cell_type": "code",
      "metadata": {
        "id": "YnDqkKCQ8i1Q"
      },
      "source": [
        "import tensorflow as tf\n",
        "from tensorflow import keras"
      ],
      "execution_count": 9,
      "outputs": []
    },
    {
      "cell_type": "code",
      "metadata": {
        "id": "Ybp8lsAx8zhw"
      },
      "source": [
        "model = keras.models.Sequential([\n",
        "                                 keras.layers.Dense(30, activation='relu', input_shape=x_train.shape[1:]),\n",
        "                                 keras.layers.Dense(1)\n",
        "])"
      ],
      "execution_count": 10,
      "outputs": []
    },
    {
      "cell_type": "code",
      "metadata": {
        "colab": {
          "base_uri": "https://localhost:8080/"
        },
        "id": "vJqZBKm09IAr",
        "outputId": "8f6b9fa6-887c-4264-85a0-6d918110182f"
      },
      "source": [
        "model.summary()"
      ],
      "execution_count": 11,
      "outputs": [
        {
          "output_type": "stream",
          "text": [
            "Model: \"sequential\"\n",
            "_________________________________________________________________\n",
            "Layer (type)                 Output Shape              Param #   \n",
            "=================================================================\n",
            "dense (Dense)                (None, 30)                270       \n",
            "_________________________________________________________________\n",
            "dense_1 (Dense)              (None, 1)                 31        \n",
            "=================================================================\n",
            "Total params: 301\n",
            "Trainable params: 301\n",
            "Non-trainable params: 0\n",
            "_________________________________________________________________\n"
          ],
          "name": "stdout"
        }
      ]
    },
    {
      "cell_type": "code",
      "metadata": {
        "id": "kr3HIXGr9NrF"
      },
      "source": [
        "model.compile(loss=keras.losses.mean_squared_error,\n",
        "              optimizer=keras.optimizers.SGD(learning_rate=0.01))"
      ],
      "execution_count": 12,
      "outputs": []
    },
    {
      "cell_type": "code",
      "metadata": {
        "colab": {
          "base_uri": "https://localhost:8080/"
        },
        "id": "vNRRWL539hM3",
        "outputId": "25bb32a2-3d02-49dd-f01d-fb6393ab235d"
      },
      "source": [
        "histo = model.fit(x_train, y_train, epochs=30,\n",
        "                  validation_data=(x_valid, y_valid))"
      ],
      "execution_count": 13,
      "outputs": [
        {
          "output_type": "stream",
          "text": [
            "Epoch 1/30\n",
            "363/363 [==============================] - 1s 2ms/step - loss: 1.3454 - val_loss: 0.5703\n",
            "Epoch 2/30\n",
            "363/363 [==============================] - 0s 1ms/step - loss: 0.5870 - val_loss: 0.5180\n",
            "Epoch 3/30\n",
            "363/363 [==============================] - 0s 1ms/step - loss: 0.5430 - val_loss: 0.4512\n",
            "Epoch 4/30\n",
            "363/363 [==============================] - 0s 1ms/step - loss: 0.4753 - val_loss: 0.4330\n",
            "Epoch 5/30\n",
            "363/363 [==============================] - 0s 1ms/step - loss: 0.4293 - val_loss: 0.4251\n",
            "Epoch 6/30\n",
            "363/363 [==============================] - 0s 1ms/step - loss: 0.4225 - val_loss: 0.4163\n",
            "Epoch 7/30\n",
            "363/363 [==============================] - 0s 1ms/step - loss: 0.4053 - val_loss: 0.4307\n",
            "Epoch 8/30\n",
            "363/363 [==============================] - 0s 1ms/step - loss: 0.4031 - val_loss: 0.4044\n",
            "Epoch 9/30\n",
            "363/363 [==============================] - 0s 1ms/step - loss: 0.3982 - val_loss: 0.3992\n",
            "Epoch 10/30\n",
            "363/363 [==============================] - 0s 1ms/step - loss: 0.3999 - val_loss: 0.3992\n",
            "Epoch 11/30\n",
            "363/363 [==============================] - 0s 1ms/step - loss: 0.3844 - val_loss: 0.3970\n",
            "Epoch 12/30\n",
            "363/363 [==============================] - 0s 1ms/step - loss: 0.3885 - val_loss: 0.3943\n",
            "Epoch 13/30\n",
            "363/363 [==============================] - 0s 1ms/step - loss: 0.3791 - val_loss: 0.3920\n",
            "Epoch 14/30\n",
            "363/363 [==============================] - 0s 1ms/step - loss: 0.3760 - val_loss: 0.3904\n",
            "Epoch 15/30\n",
            "363/363 [==============================] - 0s 1ms/step - loss: 0.3854 - val_loss: 0.3887\n",
            "Epoch 16/30\n",
            "363/363 [==============================] - 0s 1ms/step - loss: 0.3896 - val_loss: 0.3887\n",
            "Epoch 17/30\n",
            "363/363 [==============================] - 0s 1ms/step - loss: 0.3712 - val_loss: 0.3850\n",
            "Epoch 18/30\n",
            "363/363 [==============================] - 0s 1ms/step - loss: 0.4010 - val_loss: 0.3827\n",
            "Epoch 19/30\n",
            "363/363 [==============================] - 0s 1ms/step - loss: 0.3802 - val_loss: 0.3801\n",
            "Epoch 20/30\n",
            "363/363 [==============================] - 0s 1ms/step - loss: 0.3806 - val_loss: 0.3778\n",
            "Epoch 21/30\n",
            "363/363 [==============================] - 0s 1ms/step - loss: 0.3747 - val_loss: 0.3771\n",
            "Epoch 22/30\n",
            "363/363 [==============================] - 0s 1ms/step - loss: 0.3634 - val_loss: 0.3746\n",
            "Epoch 23/30\n",
            "363/363 [==============================] - 0s 1ms/step - loss: 0.3651 - val_loss: 0.3730\n",
            "Epoch 24/30\n",
            "363/363 [==============================] - 0s 1ms/step - loss: 0.3548 - val_loss: 0.3727\n",
            "Epoch 25/30\n",
            "363/363 [==============================] - 0s 1ms/step - loss: 0.3543 - val_loss: 0.3670\n",
            "Epoch 26/30\n",
            "363/363 [==============================] - 0s 1ms/step - loss: 0.3501 - val_loss: 0.3692\n",
            "Epoch 27/30\n",
            "363/363 [==============================] - 0s 1ms/step - loss: 0.3597 - val_loss: 0.3670\n",
            "Epoch 28/30\n",
            "363/363 [==============================] - 0s 1ms/step - loss: 0.3616 - val_loss: 0.3691\n",
            "Epoch 29/30\n",
            "363/363 [==============================] - 0s 1ms/step - loss: 0.3673 - val_loss: 0.3641\n",
            "Epoch 30/30\n",
            "363/363 [==============================] - 0s 1ms/step - loss: 0.3543 - val_loss: 0.3645\n"
          ],
          "name": "stdout"
        }
      ]
    },
    {
      "cell_type": "code",
      "metadata": {
        "id": "2MZNJhUR9sB-"
      },
      "source": [
        "import pandas as pd\n",
        "import matplotlib.pyplot as plt"
      ],
      "execution_count": 14,
      "outputs": []
    },
    {
      "cell_type": "code",
      "metadata": {
        "colab": {
          "base_uri": "https://localhost:8080/",
          "height": 320
        },
        "id": "80cnBwQr91ea",
        "outputId": "9673acbc-4ff4-4849-ff95-b4f6e67c1f63"
      },
      "source": [
        "pd.DataFrame(histo.history).plot(figsize=(8, 5))\n",
        "plt.grid(True)\n",
        "plt.gca().set_ylim(0, 1.5)\n",
        "plt.show()"
      ],
      "execution_count": 15,
      "outputs": [
        {
          "output_type": "display_data",
          "data": {
            "image/png": "[encoded data removed]",
            "text/plain": [
              "<Figure size 576x360 with 1 Axes>"
            ]
          },
          "metadata": {
            "tags": [],
            "needs_background": "light"
          }
        }
      ]
    },
    {
      "cell_type": "code",
      "metadata": {
        "colab": {
          "base_uri": "https://localhost:8080/"
        },
        "id": "R-PTUJAr9_l1",
        "outputId": "5a236214-48a7-4071-b01e-8c340e3cd4a4"
      },
      "source": [
        "model.evaluate(x_test, y_test)"
      ],
      "execution_count": 16,
      "outputs": [
        {
          "output_type": "stream",
          "text": [
            "162/162 [==============================] - 0s 843us/step - loss: 0.3660\n"
          ],
          "name": "stdout"
        },
        {
          "output_type": "execute_result",
          "data": {
            "text/plain": [
              "0.36595556139945984"
            ]
          },
          "metadata": {
            "tags": []
          },
          "execution_count": 16
        }
      ]
    },
    {
      "cell_type": "code",
      "metadata": {
        "colab": {
          "base_uri": "https://localhost:8080/"
        },
        "id": "5eQ7Qi4v-O3M",
        "outputId": "187d2de9-bd6a-4020-c4c3-46610e5a6ffb"
      },
      "source": [
        "x_new = x_test[:3]\n",
        "model.predict(x_new)"
      ],
      "execution_count": 17,
      "outputs": [
        {
          "output_type": "execute_result",
          "data": {
            "text/plain": [
              "array([[1.3861332],\n",
              "       [5.1629033],\n",
              "       [2.7701619]], dtype=float32)"
            ]
          },
          "metadata": {
            "tags": []
          },
          "execution_count": 17
        }
      ]
    },
    {
      "cell_type": "markdown",
      "metadata": {
        "id": "AFsp6k5L-VSm"
      },
      "source": [
        "# Functional API를 사용하여 복잡한 모델 만들기\n",
        "- 함수형 API를 사용하면 신경망이 복잡한 패턴과 간단한 패턴을 모두 학습할 수 있는 장점이 있다.\n",
        "- 층을 만들고, 이를 바로 함수처럼 호출하여 변수에 저장하기 때문에 함수형 API 라고 한다."
      ]
    },
    {
      "cell_type": "markdown",
      "metadata": {
        "id": "pILgweFD-m8v"
      },
      "source": [
        "## 하나의 Input을 사용하여 만들기"
      ]
    },
    {
      "cell_type": "code",
      "metadata": {
        "id": "WVQ9Z6H0_f7D"
      },
      "source": [
        "input_ = keras.layers.Input(shape=x_train.shape[1:])\n",
        "hidden1 = keras.layers.Dense(30, activation=keras.activations.relu)(input_)\n",
        "hidden2 = keras.layers.Dense(30, activation='relu')(hidden1)\n",
        "concat = keras.layers.Concatenate()([input_, hidden2])\n",
        "output = keras.layers.Dense(1)(concat)\n",
        "model = keras.Model(inputs=[input_], outputs=[output])"
      ],
      "execution_count": 18,
      "outputs": []
    },
    {
      "cell_type": "code",
      "metadata": {
        "colab": {
          "base_uri": "https://localhost:8080/"
        },
        "id": "r9vU7-AtB-Rb",
        "outputId": "e9a28097-e22b-422f-d038-8848c28a4ee6"
      },
      "source": [
        "model.summary()"
      ],
      "execution_count": 19,
      "outputs": [
        {
          "output_type": "stream",
          "text": [
            "Model: \"model\"\n",
            "__________________________________________________________________________________________________\n",
            "Layer (type)                    Output Shape         Param #     Connected to                     \n",
            "==================================================================================================\n",
            "input_1 (InputLayer)            [(None, 8)]          0                                            \n",
            "__________________________________________________________________________________________________\n",
            "dense_2 (Dense)                 (None, 30)           270         input_1[0][0]                    \n",
            "__________________________________________________________________________________________________\n",
            "dense_3 (Dense)                 (None, 30)           930         dense_2[0][0]                    \n",
            "__________________________________________________________________________________________________\n",
            "concatenate (Concatenate)       (None, 38)           0           input_1[0][0]                    \n",
            "                                                                 dense_3[0][0]                    \n",
            "__________________________________________________________________________________________________\n",
            "dense_4 (Dense)                 (None, 1)            39          concatenate[0][0]                \n",
            "==================================================================================================\n",
            "Total params: 1,239\n",
            "Trainable params: 1,239\n",
            "Non-trainable params: 0\n",
            "__________________________________________________________________________________________________\n"
          ],
          "name": "stdout"
        }
      ]
    },
    {
      "cell_type": "markdown",
      "metadata": {
        "id": "GizRNNlaEBbS"
      },
      "source": [
        "## 두 개의 Input을 사용하여 만들기\n",
        "- 일부 특성은 짧은 경로로, 나머지는 복잡한 경로로 전달할 때 사용"
      ]
    },
    {
      "cell_type": "code",
      "metadata": {
        "id": "Oph13uvECc6j"
      },
      "source": [
        "input_A = keras.layers.Input(shape=[5], name='wide_input')\n",
        "input_B = keras.layers.Input(shape=[6], name='deep_input')\n",
        "hidden1 = keras.layers.Dense(30, activation='relu')(input_B)\n",
        "hidden2 = keras.layers.Dense(30, activation='relu')(hidden1)\n",
        "concat = keras.layers.concatenate([input_A, hidden2])\n",
        "output = keras.layers.Dense(1, name='output')(concat)\n",
        "model = keras.Model(inputs=[input_A, input_B], outputs=[output])"
      ],
      "execution_count": 20,
      "outputs": []
    },
    {
      "cell_type": "code",
      "metadata": {
        "colab": {
          "base_uri": "https://localhost:8080/"
        },
        "id": "IWpt_S_dFyLZ",
        "outputId": "dc3d6a2a-d61d-41b7-b8c4-3f97e9789975"
      },
      "source": [
        "model.summary()"
      ],
      "execution_count": 21,
      "outputs": [
        {
          "output_type": "stream",
          "text": [
            "Model: \"model_1\"\n",
            "__________________________________________________________________________________________________\n",
            "Layer (type)                    Output Shape         Param #     Connected to                     \n",
            "==================================================================================================\n",
            "deep_input (InputLayer)         [(None, 6)]          0                                            \n",
            "__________________________________________________________________________________________________\n",
            "dense_5 (Dense)                 (None, 30)           210         deep_input[0][0]                 \n",
            "__________________________________________________________________________________________________\n",
            "wide_input (InputLayer)         [(None, 5)]          0                                            \n",
            "__________________________________________________________________________________________________\n",
            "dense_6 (Dense)                 (None, 30)           930         dense_5[0][0]                    \n",
            "__________________________________________________________________________________________________\n",
            "concatenate_1 (Concatenate)     (None, 35)           0           wide_input[0][0]                 \n",
            "                                                                 dense_6[0][0]                    \n",
            "__________________________________________________________________________________________________\n",
            "output (Dense)                  (None, 1)            36          concatenate_1[0][0]              \n",
            "==================================================================================================\n",
            "Total params: 1,176\n",
            "Trainable params: 1,176\n",
            "Non-trainable params: 0\n",
            "__________________________________________________________________________________________________\n"
          ],
          "name": "stdout"
        }
      ]
    },
    {
      "cell_type": "code",
      "metadata": {
        "id": "RSudQrD4FZap"
      },
      "source": [
        "model.compile(loss='mse',\n",
        "              optimizer=keras.optimizers.SGD(learning_rate=1e-3))"
      ],
      "execution_count": 22,
      "outputs": []
    },
    {
      "cell_type": "code",
      "metadata": {
        "id": "GHioYMALFxI_"
      },
      "source": [
        "x_train_A, x_train_B = x_train[:, :5], x_train[:, 2:]\n",
        "x_valid_A, x_valid_B = x_valid[:, :5], x_valid[:, 2:]\n",
        "x_test_A, x_test_B = x_test[:, :5], x_test[:, 2:]\n",
        "x_new_A, x_new_B = x_test_A[:3], x_test_B[:3]"
      ],
      "execution_count": 23,
      "outputs": []
    },
    {
      "cell_type": "code",
      "metadata": {
        "colab": {
          "base_uri": "https://localhost:8080/"
        },
        "id": "VOZBW1hdGvEJ",
        "outputId": "52c6aafc-d638-4458-d824-a73b175d3a95"
      },
      "source": [
        "x_train_A.shape, x_train_B.shape"
      ],
      "execution_count": 24,
      "outputs": [
        {
          "output_type": "execute_result",
          "data": {
            "text/plain": [
              "((11610, 5), (11610, 6))"
            ]
          },
          "metadata": {
            "tags": []
          },
          "execution_count": 24
        }
      ]
    },
    {
      "cell_type": "code",
      "metadata": {
        "colab": {
          "base_uri": "https://localhost:8080/"
        },
        "id": "-60K-F6eGu_r",
        "outputId": "d4d0c76b-ddfe-4994-fec5-83a59e4e76f4"
      },
      "source": [
        "x_valid_A.shape, x_valid_B.shape"
      ],
      "execution_count": 25,
      "outputs": [
        {
          "output_type": "execute_result",
          "data": {
            "text/plain": [
              "((3870, 5), (3870, 6))"
            ]
          },
          "metadata": {
            "tags": []
          },
          "execution_count": 25
        }
      ]
    },
    {
      "cell_type": "markdown",
      "metadata": {
        "id": "ZSFu66b6GubW"
      },
      "source": [
        "- 입력값을 전달할 때, 튜플 형태로 전달"
      ]
    },
    {
      "cell_type": "code",
      "metadata": {
        "colab": {
          "base_uri": "https://localhost:8080/"
        },
        "id": "2aVMy9zXGQjP",
        "outputId": "e36ec709-2399-4d43-ab40-92ec570e553e"
      },
      "source": [
        "histo = model.fit((x_train_A, x_train_B), y_train, epochs=20,\n",
        "                  validation_data=((x_valid_A, x_valid_B), y_valid))"
      ],
      "execution_count": 26,
      "outputs": [
        {
          "output_type": "stream",
          "text": [
            "Epoch 1/20\n",
            "363/363 [==============================] - 1s 2ms/step - loss: 2.7520 - val_loss: 0.9681\n",
            "Epoch 2/20\n",
            "363/363 [==============================] - 1s 2ms/step - loss: 0.8925 - val_loss: 0.7902\n",
            "Epoch 3/20\n",
            "363/363 [==============================] - 1s 1ms/step - loss: 0.7497 - val_loss: 0.6993\n",
            "Epoch 4/20\n",
            "363/363 [==============================] - 0s 1ms/step - loss: 0.6463 - val_loss: 0.6426\n",
            "Epoch 5/20\n",
            "363/363 [==============================] - 0s 1ms/step - loss: 0.6214 - val_loss: 0.5996\n",
            "Epoch 6/20\n",
            "363/363 [==============================] - 0s 1ms/step - loss: 0.5631 - val_loss: 0.5698\n",
            "Epoch 7/20\n",
            "363/363 [==============================] - 0s 1ms/step - loss: 0.5514 - val_loss: 0.5465\n",
            "Epoch 8/20\n",
            "363/363 [==============================] - 0s 1ms/step - loss: 0.5568 - val_loss: 0.5306\n",
            "Epoch 9/20\n",
            "363/363 [==============================] - 1s 1ms/step - loss: 0.5175 - val_loss: 0.5194\n",
            "Epoch 10/20\n",
            "363/363 [==============================] - 0s 1ms/step - loss: 0.5223 - val_loss: 0.5077\n",
            "Epoch 11/20\n",
            "363/363 [==============================] - 0s 1ms/step - loss: 0.4984 - val_loss: 0.4983\n",
            "Epoch 12/20\n",
            "363/363 [==============================] - 1s 1ms/step - loss: 0.4745 - val_loss: 0.4916\n",
            "Epoch 13/20\n",
            "363/363 [==============================] - 0s 1ms/step - loss: 0.4767 - val_loss: 0.4849\n",
            "Epoch 14/20\n",
            "363/363 [==============================] - 0s 1ms/step - loss: 0.4695 - val_loss: 0.4788\n",
            "Epoch 15/20\n",
            "363/363 [==============================] - 0s 1ms/step - loss: 0.4782 - val_loss: 0.4737\n",
            "Epoch 16/20\n",
            "363/363 [==============================] - 0s 1ms/step - loss: 0.4656 - val_loss: 0.4709\n",
            "Epoch 17/20\n",
            "363/363 [==============================] - 0s 1ms/step - loss: 0.4714 - val_loss: 0.4667\n",
            "Epoch 18/20\n",
            "363/363 [==============================] - 0s 1ms/step - loss: 0.4645 - val_loss: 0.4624\n",
            "Epoch 19/20\n",
            "363/363 [==============================] - 0s 1ms/step - loss: 0.4450 - val_loss: 0.4587\n",
            "Epoch 20/20\n",
            "363/363 [==============================] - 0s 1ms/step - loss: 0.4720 - val_loss: 0.4562\n"
          ],
          "name": "stdout"
        }
      ]
    },
    {
      "cell_type": "code",
      "metadata": {
        "id": "be4ODZ5LGhVX"
      },
      "source": [
        "import pandas as pd\n",
        "import matplotlib.pyplot as plt"
      ],
      "execution_count": 27,
      "outputs": []
    },
    {
      "cell_type": "code",
      "metadata": {
        "colab": {
          "base_uri": "https://localhost:8080/",
          "height": 320
        },
        "id": "43ut1uXAHONa",
        "outputId": "dd191457-4591-4626-fcdc-3315bbb2a2d1"
      },
      "source": [
        "pd.DataFrame(histo.history).plot(figsize=(8, 5))\n",
        "plt.grid(True)\n",
        "plt.gca().set_ylim(0, 1.5)\n",
        "plt.show()"
      ],
      "execution_count": 28,
      "outputs": [
        {
          "output_type": "display_data",
          "data": {
            "image/png": "[encoded data removed]",
            "text/plain": [
              "<Figure size 576x360 with 1 Axes>"
            ]
          },
          "metadata": {
            "tags": [],
            "needs_background": "light"
          }
        }
      ]
    },
    {
      "cell_type": "code",
      "metadata": {
        "colab": {
          "base_uri": "https://localhost:8080/"
        },
        "id": "swqyORezHSJ0",
        "outputId": "2ca16160-5e99-42a1-a882-3611741cf130"
      },
      "source": [
        "mse_test = model.evaluate((x_test_A, x_test_B), y_test)"
      ],
      "execution_count": 29,
      "outputs": [
        {
          "output_type": "stream",
          "text": [
            "162/162 [==============================] - 0s 851us/step - loss: 0.4542\n"
          ],
          "name": "stdout"
        }
      ]
    },
    {
      "cell_type": "code",
      "metadata": {
        "id": "pS5quVtPHZW9",
        "colab": {
          "base_uri": "https://localhost:8080/"
        },
        "outputId": "5ebd4db2-cdcd-4f5e-85a0-724a5d8d4060"
      },
      "source": [
        "model.predict((x_new_A, x_new_B))"
      ],
      "execution_count": 30,
      "outputs": [
        {
          "output_type": "execute_result",
          "data": {
            "text/plain": [
              "array([[1.4552605],\n",
              "       [5.552653 ],\n",
              "       [3.0442457]], dtype=float32)"
            ]
          },
          "metadata": {
            "tags": []
          },
          "execution_count": 30
        }
      ]
    },
    {
      "cell_type": "markdown",
      "metadata": {
        "id": "4ZkC2oZWvAh-"
      },
      "source": [
        "### 여러 개의 출력이 필요한 경우\n",
        "- 그림에 있는 주요 물체를 분류하고 위치를 알아야 할 때\n",
        "    - 회귀 작업(물체 중심의 좌표와 너비, 높이를 찾기)\n",
        "    - 분류 작업\n",
        "    - 두 작업이 같이 이루어져야하기 때문에 여러 출력이 필요하다.\n",
        "- 동일한 데이터에서 독립적인 여러 작업을 수행할 때\n",
        "    - ex. 얼굴 사진으로 다중 작업 분류(multitask classification)을 수행\n",
        "    - 한 출력은 사람의 얼굴 표정(기쁨, 놀람 등)을 분류\n",
        "    - 다른 출력은 안경을 썻는지 구별\n",
        "- 규제 기법으로 사용하는 경우\n",
        "    - 과대적합을 감소하고 모델의 일반화 성능을 높이도록 훈련에 제약\n",
        "    - 신경망 구조 안에 보조 출력을 추가\n",
        "    - 보조 출력으로 하위 네트워크가 나머지 네트워크에 의존하지 않고 그 자체로 유용한 것을 학습하는지 확인"
      ]
    },
    {
      "cell_type": "markdown",
      "metadata": {
        "id": "FYAtd0DFv_hw"
      },
      "source": [
        "## 보조 출력 추가하기\n",
        "> 출력층 까지는 이전까지의 코드와 동일"
      ]
    },
    {
      "cell_type": "code",
      "metadata": {
        "id": "Ocz_oVvswETy"
      },
      "source": [
        "output = keras.layers.Dense(1, name='main_output')(concat)\n",
        "aux_output = keras.layers.Dense(1, name='aux_output')(hidden2)\n",
        "model = keras.Model(inputs=[input_A, input_B], outputs=[output, aux_output])"
      ],
      "execution_count": 31,
      "outputs": []
    },
    {
      "cell_type": "markdown",
      "metadata": {
        "id": "b9ToOSy6wqg9"
      },
      "source": [
        "- 각 출력은 자신만의 손실함수가 필요하다\n",
        "    - 따라서 모델을 컴파일 할 때 손실의 리스트를 전달해야 한다.\n",
        "        - 하나의 손실을 전달하면 케라스는 모든 출력의 손실 함수가 동일하다고 가정함\n",
        "    - 나열된 손실을 모두 더하여 최종 손실을 구해 훈련에 사용한다.\n",
        "        - 따라서, 주 출력의 손실에 더 많이 가중치를 부여해야함"
      ]
    },
    {
      "cell_type": "code",
      "metadata": {
        "id": "v1LTqmouxaze"
      },
      "source": [
        "model.compile(loss=['mse', 'mse'], loss_weights=[0.9, 0.1], optimizer='sgd')"
      ],
      "execution_count": 32,
      "outputs": []
    },
    {
      "cell_type": "code",
      "metadata": {
        "colab": {
          "base_uri": "https://localhost:8080/"
        },
        "id": "GIvxSgpKxiWA",
        "outputId": "b9e260a3-f17a-4d9f-c9a3-7753e9655d68"
      },
      "source": [
        "histo = model.fit(\n",
        "    [x_train_A, x_train_B], [y_train, y_train], epochs=20,\n",
        "    validation_data=([x_valid_A, x_valid_B], [y_valid, y_valid])\n",
        ")"
      ],
      "execution_count": 33,
      "outputs": [
        {
          "output_type": "stream",
          "text": [
            "Epoch 1/20\n",
            "363/363 [==============================] - 1s 2ms/step - loss: 1.2273 - main_output_loss: 1.0359 - aux_output_loss: 2.9503 - val_loss: 0.5381 - val_main_output_loss: 0.4579 - val_aux_output_loss: 1.2598\n",
            "Epoch 2/20\n",
            "363/363 [==============================] - 1s 2ms/step - loss: 0.5345 - main_output_loss: 0.4561 - aux_output_loss: 1.2399 - val_loss: 0.5085 - val_main_output_loss: 0.4426 - val_aux_output_loss: 1.1019\n",
            "Epoch 3/20\n",
            "363/363 [==============================] - 1s 2ms/step - loss: 0.5135 - main_output_loss: 0.4503 - aux_output_loss: 1.0826 - val_loss: 0.4890 - val_main_output_loss: 0.4389 - val_aux_output_loss: 0.9402\n",
            "Epoch 4/20\n",
            "363/363 [==============================] - 1s 2ms/step - loss: 0.4644 - main_output_loss: 0.4125 - aux_output_loss: 0.9308 - val_loss: 0.4692 - val_main_output_loss: 0.4283 - val_aux_output_loss: 0.8377\n",
            "Epoch 5/20\n",
            "363/363 [==============================] - 1s 2ms/step - loss: 0.5173 - main_output_loss: 0.4786 - aux_output_loss: 0.8657 - val_loss: 0.4636 - val_main_output_loss: 0.4257 - val_aux_output_loss: 0.8056\n",
            "Epoch 6/20\n",
            "363/363 [==============================] - 1s 2ms/step - loss: 0.4725 - main_output_loss: 0.4396 - aux_output_loss: 0.7687 - val_loss: 0.4455 - val_main_output_loss: 0.4165 - val_aux_output_loss: 0.7066\n",
            "Epoch 7/20\n",
            "363/363 [==============================] - 1s 2ms/step - loss: 0.4302 - main_output_loss: 0.4034 - aux_output_loss: 0.6713 - val_loss: 0.4313 - val_main_output_loss: 0.4058 - val_aux_output_loss: 0.6611\n",
            "Epoch 8/20\n",
            "363/363 [==============================] - 1s 2ms/step - loss: 0.4393 - main_output_loss: 0.4149 - aux_output_loss: 0.6584 - val_loss: 0.4228 - val_main_output_loss: 0.3998 - val_aux_output_loss: 0.6292\n",
            "Epoch 9/20\n",
            "363/363 [==============================] - 1s 2ms/step - loss: 0.4209 - main_output_loss: 0.3999 - aux_output_loss: 0.6092 - val_loss: 0.4190 - val_main_output_loss: 0.3976 - val_aux_output_loss: 0.6117\n",
            "Epoch 10/20\n",
            "363/363 [==============================] - 1s 2ms/step - loss: 0.4141 - main_output_loss: 0.3942 - aux_output_loss: 0.5929 - val_loss: 0.4113 - val_main_output_loss: 0.3908 - val_aux_output_loss: 0.5957\n",
            "Epoch 11/20\n",
            "363/363 [==============================] - 1s 2ms/step - loss: 0.4120 - main_output_loss: 0.3932 - aux_output_loss: 0.5808 - val_loss: 0.4892 - val_main_output_loss: 0.4782 - val_aux_output_loss: 0.5881\n",
            "Epoch 12/20\n",
            "363/363 [==============================] - 1s 2ms/step - loss: 0.4330 - main_output_loss: 0.4162 - aux_output_loss: 0.5843 - val_loss: 0.3999 - val_main_output_loss: 0.3799 - val_aux_output_loss: 0.5800\n",
            "Epoch 13/20\n",
            "363/363 [==============================] - 1s 2ms/step - loss: 0.3826 - main_output_loss: 0.3658 - aux_output_loss: 0.5336 - val_loss: 0.3947 - val_main_output_loss: 0.3755 - val_aux_output_loss: 0.5675\n",
            "Epoch 14/20\n",
            "363/363 [==============================] - 1s 2ms/step - loss: 0.3905 - main_output_loss: 0.3727 - aux_output_loss: 0.5511 - val_loss: 0.3899 - val_main_output_loss: 0.3708 - val_aux_output_loss: 0.5620\n",
            "Epoch 15/20\n",
            "363/363 [==============================] - 1s 2ms/step - loss: 0.3917 - main_output_loss: 0.3760 - aux_output_loss: 0.5326 - val_loss: 0.3882 - val_main_output_loss: 0.3697 - val_aux_output_loss: 0.5545\n",
            "Epoch 16/20\n",
            "363/363 [==============================] - 1s 2ms/step - loss: 0.3881 - main_output_loss: 0.3725 - aux_output_loss: 0.5283 - val_loss: 0.3827 - val_main_output_loss: 0.3644 - val_aux_output_loss: 0.5471\n",
            "Epoch 17/20\n",
            "363/363 [==============================] - 1s 2ms/step - loss: 0.3668 - main_output_loss: 0.3512 - aux_output_loss: 0.5068 - val_loss: 0.3811 - val_main_output_loss: 0.3634 - val_aux_output_loss: 0.5396\n",
            "Epoch 18/20\n",
            "363/363 [==============================] - 1s 2ms/step - loss: 0.3729 - main_output_loss: 0.3567 - aux_output_loss: 0.5186 - val_loss: 0.3780 - val_main_output_loss: 0.3607 - val_aux_output_loss: 0.5341\n",
            "Epoch 19/20\n",
            "363/363 [==============================] - 1s 2ms/step - loss: 0.3593 - main_output_loss: 0.3434 - aux_output_loss: 0.5021 - val_loss: 0.3732 - val_main_output_loss: 0.3561 - val_aux_output_loss: 0.5271\n",
            "Epoch 20/20\n",
            "363/363 [==============================] - 1s 2ms/step - loss: 0.3572 - main_output_loss: 0.3423 - aux_output_loss: 0.4910 - val_loss: 0.3748 - val_main_output_loss: 0.3583 - val_aux_output_loss: 0.5231\n"
          ],
          "name": "stdout"
        }
      ]
    },
    {
      "cell_type": "code",
      "metadata": {
        "id": "6kqUpf-xx5tY",
        "colab": {
          "base_uri": "https://localhost:8080/",
          "height": 320
        },
        "outputId": "2ca1761e-195d-4b27-a866-40c9b153af9e"
      },
      "source": [
        "pd.DataFrame(histo.history).plot(figsize=(8, 5))\n",
        "plt.grid(True)\n",
        "plt.gca().set_ylim(0, 1.5)\n",
        "plt.show()"
      ],
      "execution_count": 34,
      "outputs": [
        {
          "output_type": "display_data",
          "data": {
            "image/png": "[encoded data removed]",
            "text/plain": [
              "<Figure size 576x360 with 1 Axes>"
            ]
          },
          "metadata": {
            "tags": [],
            "needs_background": "light"
          }
        }
      ]
    },
    {
      "cell_type": "code",
      "metadata": {
        "colab": {
          "base_uri": "https://localhost:8080/"
        },
        "id": "xh1h3EOcf3Xa",
        "outputId": "eecfb38e-4e0b-4d04-fab6-4cbd4bcf5c53"
      },
      "source": [
        "total_loss, main_loss, aux_loss = model.evaluate(\n",
        "    [x_test_A, x_test_B], [y_test, y_test]\n",
        ")"
      ],
      "execution_count": 35,
      "outputs": [
        {
          "output_type": "stream",
          "text": [
            "162/162 [==============================] - 0s 1ms/step - loss: 0.4108 - main_output_loss: 0.4006 - aux_output_loss: 0.5023\n"
          ],
          "name": "stdout"
        }
      ]
    },
    {
      "cell_type": "code",
      "metadata": {
        "id": "mAjD6f0PgRsA"
      },
      "source": [
        "y_pred_main, y_pred_aux = model.predict([x_new_A, x_new_B])"
      ],
      "execution_count": 37,
      "outputs": []
    },
    {
      "cell_type": "code",
      "metadata": {
        "colab": {
          "base_uri": "https://localhost:8080/"
        },
        "id": "xKRnXbO_gZLi",
        "outputId": "df7b8e84-7a5d-439a-881d-c5ce5520fa80"
      },
      "source": [
        "y_pred_main"
      ],
      "execution_count": 38,
      "outputs": [
        {
          "output_type": "execute_result",
          "data": {
            "text/plain": [
              "array([[1.2973297],\n",
              "       [5.398636 ],\n",
              "       [3.0087276]], dtype=float32)"
            ]
          },
          "metadata": {
            "tags": []
          },
          "execution_count": 38
        }
      ]
    },
    {
      "cell_type": "code",
      "metadata": {
        "colab": {
          "base_uri": "https://localhost:8080/"
        },
        "id": "NzB12vhvgeoK",
        "outputId": "152fdea7-f6fa-42e4-ce4a-3a78cc9776c8"
      },
      "source": [
        "y_pred_aux"
      ],
      "execution_count": 39,
      "outputs": [
        {
          "output_type": "execute_result",
          "data": {
            "text/plain": [
              "array([[1.1727908],\n",
              "       [4.0959883],\n",
              "       [2.8148499]], dtype=float32)"
            ]
          },
          "metadata": {
            "tags": []
          },
          "execution_count": 39
        }
      ]
    },
    {
      "cell_type": "markdown",
      "metadata": {
        "id": "NqdfAdkFgfz8"
      },
      "source": [
        "# 모델 저장과 복원"
      ]
    },
    {
      "cell_type": "code",
      "metadata": {
        "id": "1wRIYZug0-3n"
      },
      "source": [
        "model.save('my_keras_model.h5')"
      ],
      "execution_count": null,
      "outputs": []
    },
    {
      "cell_type": "markdown",
      "metadata": {
        "id": "OmUSlGpN1Ish"
      },
      "source": [
        "- HDF5 포맷 사용\n",
        "- 모든 층의 하이퍼파라미터를 포함하여 모델 구조와 층의 모든 모델 파라미터(연결 가중치와 편향)을 저장\n",
        "- 또한 하이퍼파라미터와 현재 상태를 포함하여 옵티마이저도 저장"
      ]
    },
    {
      "cell_type": "code",
      "metadata": {
        "id": "eZZqsH-O1VuV"
      },
      "source": [
        "model = keras.models.load_model('my_keras_model.h5')"
      ],
      "execution_count": null,
      "outputs": []
    }
  ]
}