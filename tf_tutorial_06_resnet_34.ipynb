{
  "nbformat": 4,
  "nbformat_minor": 0,
  "metadata": {
    "colab": {
      "name": "tf_tutorial_06_resnet-34.ipynb",
      "provenance": [],
      "authorship_tag": "ABX9TyPOGYVkXTXeNq5SxDwkTYPk",
      "include_colab_link": true
    },
    "kernelspec": {
      "display_name": "Python 3",
      "name": "python3"
    },
    "language_info": {
      "name": "python"
    }
  },
  "cells": [
    {
      "cell_type": "markdown",
      "metadata": {
        "id": "view-in-github",
        "colab_type": "text"
      },
      "source": [
        "<a href=\"https://colab.research.google.com/github/churry75/tf_tutorial/blob/master/tf_tutorial_06_resnet_34.ipynb\" target=\"_parent\"><img src=\"https://colab.research.google.com/assets/colab-badge.svg\" alt=\"Open In Colab\"/></a>"
      ]
    },
    {
      "cell_type": "code",
      "metadata": {
        "id": "Yazqe41bclsN"
      },
      "source": [
        "import tensorflow as tf"
      ],
      "execution_count": null,
      "outputs": []
    },
    {
      "cell_type": "markdown",
      "metadata": {
        "id": "C48vbESGhcm0"
      },
      "source": [
        "datasets = tfds.load(name='kitti', shuffle_files=True)\n",
        "kitti_train, kitti_test = datasets['train'], datasets['test']"
      ]
    },
    {
      "cell_type": "code",
      "metadata": {
        "id": "K4i7TUWbiSn-"
      },
      "source": [
        "class ResidualUnit(tf.keras.layers.Layer):\n",
        "    def __init__(self, filters, strides=1, activation=\"relu\", **kwargs):\n",
        "        super().__init__(**kwargs)\n",
        "        self.activation = tf.keras.activations.get(activation)\n",
        "        self.main_layers = [\n",
        "            tf.keras.layers.Conv2D(filters, 3, strides=strides,\n",
        "                                   padding=\"same\", use_bias=False),\n",
        "            tf.keras.layers.BatchNormalization(),\n",
        "            self.activation,\n",
        "            tf.keras.layers.Conv2D(filters, 3, strides=1,\n",
        "                                   padding=\"same\", use_bias=False),\n",
        "            tf.keras.layers.BatchNormalization()\n",
        "        ]\n",
        "        self.skip_layers = []\n",
        "        if strides > 1:\n",
        "            self.skip_layers = [\n",
        "                tf.keras.layers.Conv2D(filters, 1, strides=strides,\n",
        "                                       padding=\"same\", use_bias=False),\n",
        "                tf.keras.layers.BatchNormalization()\n",
        "            ]\n",
        "\n",
        "    def call(self, inputs):\n",
        "        Z = inputs\n",
        "        for layer in self.main_layers:\n",
        "            Z = layer(Z)\n",
        "        skip_Z = inputs\n",
        "        for layer  in self.skip_layers:\n",
        "            skip_Z = layer(skip_Z)\n",
        "        return self.activation(Z + skip_Z)"
      ],
      "execution_count": null,
      "outputs": []
    },
    {
      "cell_type": "code",
      "metadata": {
        "id": "a9kNCVTYAvX5"
      },
      "source": [
        "model = tf.keras.models.Sequential()\n",
        "model.add(tf.keras.layers.Conv2D(64, 7, strides=2, input_shape=[224, 224, 3],\n",
        "                                 padding=\"same\", use_bias=False))\n",
        "model.add(tf.keras.layers.BatchNormalization())\n",
        "model.add(tf.keras.layers.Activation(\"relu\"))\n",
        "model.add(tf.keras.layers.MaxPool2D(pool_size=3, strides=2, padding=\"same\"))\n",
        "prev_filters = 64\n",
        "for filters in [64] * 3 + [128] * 4 + [256] * 6 + [512] * 3:\n",
        "    strides = 1 if filters == prev_filters else 2\n",
        "    model.add(ResidualUnit(filters, strides=strides))\n",
        "    prev_filters = filters\n",
        "model.add(tf.keras.layers.GlobalAvgPool2D())\n",
        "model.add(tf.keras.layers.Flatten())\n",
        "model.add(tf.keras.layers.Dense(10, activation=\"softmax\"))"
      ],
      "execution_count": null,
      "outputs": []
    },
    {
      "cell_type": "code",
      "metadata": {
        "colab": {
          "base_uri": "https://localhost:8080/"
        },
        "id": "QjrtItmbILZw",
        "outputId": "674f58f3-be34-40d1-a9e0-d4662f217e1c"
      },
      "source": [
        "model.summary()"
      ],
      "execution_count": null,
      "outputs": [
        {
          "output_type": "stream",
          "text": [
            "Model: \"sequential\"\n",
            "_________________________________________________________________\n",
            "Layer (type)                 Output Shape              Param #   \n",
            "=================================================================\n",
            "conv2d (Conv2D)              (None, 112, 112, 64)      9408      \n",
            "_________________________________________________________________\n",
            "batch_normalization (BatchNo (None, 112, 112, 64)      256       \n",
            "_________________________________________________________________\n",
            "activation (Activation)      (None, 112, 112, 64)      0         \n",
            "_________________________________________________________________\n",
            "max_pooling2d (MaxPooling2D) (None, 56, 56, 64)        0         \n",
            "_________________________________________________________________\n",
            "residual_unit (ResidualUnit) (None, 56, 56, 64)        74240     \n",
            "_________________________________________________________________\n",
            "residual_unit_1 (ResidualUni (None, 56, 56, 64)        74240     \n",
            "_________________________________________________________________\n",
            "residual_unit_2 (ResidualUni (None, 56, 56, 64)        74240     \n",
            "_________________________________________________________________\n",
            "residual_unit_3 (ResidualUni (None, 28, 28, 128)       230912    \n",
            "_________________________________________________________________\n",
            "residual_unit_4 (ResidualUni (None, 28, 28, 128)       295936    \n",
            "_________________________________________________________________\n",
            "residual_unit_5 (ResidualUni (None, 28, 28, 128)       295936    \n",
            "_________________________________________________________________\n",
            "residual_unit_6 (ResidualUni (None, 28, 28, 128)       295936    \n",
            "_________________________________________________________________\n",
            "residual_unit_7 (ResidualUni (None, 14, 14, 256)       920576    \n",
            "_________________________________________________________________\n",
            "residual_unit_8 (ResidualUni (None, 14, 14, 256)       1181696   \n",
            "_________________________________________________________________\n",
            "residual_unit_9 (ResidualUni (None, 14, 14, 256)       1181696   \n",
            "_________________________________________________________________\n",
            "residual_unit_10 (ResidualUn (None, 14, 14, 256)       1181696   \n",
            "_________________________________________________________________\n",
            "residual_unit_11 (ResidualUn (None, 14, 14, 256)       1181696   \n",
            "_________________________________________________________________\n",
            "residual_unit_12 (ResidualUn (None, 14, 14, 256)       1181696   \n",
            "_________________________________________________________________\n",
            "residual_unit_13 (ResidualUn (None, 7, 7, 512)         3676160   \n",
            "_________________________________________________________________\n",
            "residual_unit_14 (ResidualUn (None, 7, 7, 512)         4722688   \n",
            "_________________________________________________________________\n",
            "residual_unit_15 (ResidualUn (None, 7, 7, 512)         4722688   \n",
            "_________________________________________________________________\n",
            "global_average_pooling2d (Gl (None, 512)               0         \n",
            "_________________________________________________________________\n",
            "flatten (Flatten)            (None, 512)               0         \n",
            "_________________________________________________________________\n",
            "dense (Dense)                (None, 10)                5130      \n",
            "=================================================================\n",
            "Total params: 21,306,826\n",
            "Trainable params: 21,289,802\n",
            "Non-trainable params: 17,024\n",
            "_________________________________________________________________\n"
          ],
          "name": "stdout"
        }
      ]
    }
  ]
}