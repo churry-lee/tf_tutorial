{
  "nbformat": 4,
  "nbformat_minor": 0,
  "metadata": {
    "colab": {
      "name": "tf_tutorial_09_CNN_classfication.ipynb",
      "provenance": [],
      "collapsed_sections": [],
      "authorship_tag": "ABX9TyOthgKkl1t7PqCwjB5ehjKS",
      "include_colab_link": true
    },
    "kernelspec": {
      "name": "python3",
      "display_name": "Python 3"
    },
    "language_info": {
      "name": "python"
    },
    "accelerator": "GPU",
    "widgets": {
      "application/vnd.jupyter.widget-state+json": {
        "ad544124eb02448487ebdbf142800283": {
          "model_module": "@jupyter-widgets/controls",
          "model_name": "HBoxModel",
          "state": {
            "_view_name": "HBoxView",
            "_dom_classes": [],
            "_model_name": "HBoxModel",
            "_view_module": "@jupyter-widgets/controls",
            "_model_module_version": "1.5.0",
            "_view_count": null,
            "_view_module_version": "1.5.0",
            "box_style": "",
            "layout": "IPY_MODEL_4903c479261640de9018fbf989398a6e",
            "_model_module": "@jupyter-widgets/controls",
            "children": [
              "IPY_MODEL_7d8d5760dbe9463caff6967d40db27c8",
              "IPY_MODEL_84feca3040314ca29c8f9e0441d4ea49"
            ]
          }
        },
        "4903c479261640de9018fbf989398a6e": {
          "model_module": "@jupyter-widgets/base",
          "model_name": "LayoutModel",
          "state": {
            "_view_name": "LayoutView",
            "grid_template_rows": null,
            "right": null,
            "justify_content": null,
            "_view_module": "@jupyter-widgets/base",
            "overflow": null,
            "_model_module_version": "1.2.0",
            "_view_count": null,
            "flex_flow": null,
            "width": null,
            "min_width": null,
            "border": null,
            "align_items": null,
            "bottom": null,
            "_model_module": "@jupyter-widgets/base",
            "top": null,
            "grid_column": null,
            "overflow_y": null,
            "overflow_x": null,
            "grid_auto_flow": null,
            "grid_area": null,
            "grid_template_columns": null,
            "flex": null,
            "_model_name": "LayoutModel",
            "justify_items": null,
            "grid_row": null,
            "max_height": null,
            "align_content": null,
            "visibility": null,
            "align_self": null,
            "height": null,
            "min_height": null,
            "padding": null,
            "grid_auto_rows": null,
            "grid_gap": null,
            "max_width": null,
            "order": null,
            "_view_module_version": "1.2.0",
            "grid_template_areas": null,
            "object_position": null,
            "object_fit": null,
            "grid_auto_columns": null,
            "margin": null,
            "display": null,
            "left": null
          }
        },
        "7d8d5760dbe9463caff6967d40db27c8": {
          "model_module": "@jupyter-widgets/controls",
          "model_name": "FloatProgressModel",
          "state": {
            "_view_name": "ProgressView",
            "style": "IPY_MODEL_7042878638974a279854e21c1218607a",
            "_dom_classes": [],
            "description": "Dl Completed...: 100%",
            "_model_name": "FloatProgressModel",
            "bar_style": "success",
            "max": 1,
            "_view_module": "@jupyter-widgets/controls",
            "_model_module_version": "1.5.0",
            "value": 1,
            "_view_count": null,
            "_view_module_version": "1.5.0",
            "orientation": "horizontal",
            "min": 0,
            "description_tooltip": null,
            "_model_module": "@jupyter-widgets/controls",
            "layout": "IPY_MODEL_bd799843eb7b4645904a528b88b92bed"
          }
        },
        "84feca3040314ca29c8f9e0441d4ea49": {
          "model_module": "@jupyter-widgets/controls",
          "model_name": "HTMLModel",
          "state": {
            "_view_name": "HTMLView",
            "style": "IPY_MODEL_1cc73babdc364c53b4ee0395ceabbbc5",
            "_dom_classes": [],
            "description": "",
            "_model_name": "HTMLModel",
            "placeholder": "​",
            "_view_module": "@jupyter-widgets/controls",
            "_model_module_version": "1.5.0",
            "value": " 1/1 [00:06&lt;00:00,  6.57s/ url]",
            "_view_count": null,
            "_view_module_version": "1.5.0",
            "description_tooltip": null,
            "_model_module": "@jupyter-widgets/controls",
            "layout": "IPY_MODEL_c1c0dce023fe45619589c8e6ffdf04d3"
          }
        },
        "7042878638974a279854e21c1218607a": {
          "model_module": "@jupyter-widgets/controls",
          "model_name": "ProgressStyleModel",
          "state": {
            "_view_name": "StyleView",
            "_model_name": "ProgressStyleModel",
            "description_width": "initial",
            "_view_module": "@jupyter-widgets/base",
            "_model_module_version": "1.5.0",
            "_view_count": null,
            "_view_module_version": "1.2.0",
            "bar_color": null,
            "_model_module": "@jupyter-widgets/controls"
          }
        },
        "bd799843eb7b4645904a528b88b92bed": {
          "model_module": "@jupyter-widgets/base",
          "model_name": "LayoutModel",
          "state": {
            "_view_name": "LayoutView",
            "grid_template_rows": null,
            "right": null,
            "justify_content": null,
            "_view_module": "@jupyter-widgets/base",
            "overflow": null,
            "_model_module_version": "1.2.0",
            "_view_count": null,
            "flex_flow": null,
            "width": null,
            "min_width": null,
            "border": null,
            "align_items": null,
            "bottom": null,
            "_model_module": "@jupyter-widgets/base",
            "top": null,
            "grid_column": null,
            "overflow_y": null,
            "overflow_x": null,
            "grid_auto_flow": null,
            "grid_area": null,
            "grid_template_columns": null,
            "flex": null,
            "_model_name": "LayoutModel",
            "justify_items": null,
            "grid_row": null,
            "max_height": null,
            "align_content": null,
            "visibility": null,
            "align_self": null,
            "height": null,
            "min_height": null,
            "padding": null,
            "grid_auto_rows": null,
            "grid_gap": null,
            "max_width": null,
            "order": null,
            "_view_module_version": "1.2.0",
            "grid_template_areas": null,
            "object_position": null,
            "object_fit": null,
            "grid_auto_columns": null,
            "margin": null,
            "display": null,
            "left": null
          }
        },
        "1cc73babdc364c53b4ee0395ceabbbc5": {
          "model_module": "@jupyter-widgets/controls",
          "model_name": "DescriptionStyleModel",
          "state": {
            "_view_name": "StyleView",
            "_model_name": "DescriptionStyleModel",
            "description_width": "",
            "_view_module": "@jupyter-widgets/base",
            "_model_module_version": "1.5.0",
            "_view_count": null,
            "_view_module_version": "1.2.0",
            "_model_module": "@jupyter-widgets/controls"
          }
        },
        "c1c0dce023fe45619589c8e6ffdf04d3": {
          "model_module": "@jupyter-widgets/base",
          "model_name": "LayoutModel",
          "state": {
            "_view_name": "LayoutView",
            "grid_template_rows": null,
            "right": null,
            "justify_content": null,
            "_view_module": "@jupyter-widgets/base",
            "overflow": null,
            "_model_module_version": "1.2.0",
            "_view_count": null,
            "flex_flow": null,
            "width": null,
            "min_width": null,
            "border": null,
            "align_items": null,
            "bottom": null,
            "_model_module": "@jupyter-widgets/base",
            "top": null,
            "grid_column": null,
            "overflow_y": null,
            "overflow_x": null,
            "grid_auto_flow": null,
            "grid_area": null,
            "grid_template_columns": null,
            "flex": null,
            "_model_name": "LayoutModel",
            "justify_items": null,
            "grid_row": null,
            "max_height": null,
            "align_content": null,
            "visibility": null,
            "align_self": null,
            "height": null,
            "min_height": null,
            "padding": null,
            "grid_auto_rows": null,
            "grid_gap": null,
            "max_width": null,
            "order": null,
            "_view_module_version": "1.2.0",
            "grid_template_areas": null,
            "object_position": null,
            "object_fit": null,
            "grid_auto_columns": null,
            "margin": null,
            "display": null,
            "left": null
          }
        },
        "22f20e3645184230a24bea9de58972cb": {
          "model_module": "@jupyter-widgets/controls",
          "model_name": "HBoxModel",
          "state": {
            "_view_name": "HBoxView",
            "_dom_classes": [],
            "_model_name": "HBoxModel",
            "_view_module": "@jupyter-widgets/controls",
            "_model_module_version": "1.5.0",
            "_view_count": null,
            "_view_module_version": "1.5.0",
            "box_style": "",
            "layout": "IPY_MODEL_0f9676096b6847a6aca1995e0a90baf0",
            "_model_module": "@jupyter-widgets/controls",
            "children": [
              "IPY_MODEL_829167271c90456bbee47ade5b7ec077",
              "IPY_MODEL_5ec8532a01ae4268bebf15e42dd22671"
            ]
          }
        },
        "0f9676096b6847a6aca1995e0a90baf0": {
          "model_module": "@jupyter-widgets/base",
          "model_name": "LayoutModel",
          "state": {
            "_view_name": "LayoutView",
            "grid_template_rows": null,
            "right": null,
            "justify_content": null,
            "_view_module": "@jupyter-widgets/base",
            "overflow": null,
            "_model_module_version": "1.2.0",
            "_view_count": null,
            "flex_flow": null,
            "width": null,
            "min_width": null,
            "border": null,
            "align_items": null,
            "bottom": null,
            "_model_module": "@jupyter-widgets/base",
            "top": null,
            "grid_column": null,
            "overflow_y": null,
            "overflow_x": null,
            "grid_auto_flow": null,
            "grid_area": null,
            "grid_template_columns": null,
            "flex": null,
            "_model_name": "LayoutModel",
            "justify_items": null,
            "grid_row": null,
            "max_height": null,
            "align_content": null,
            "visibility": null,
            "align_self": null,
            "height": null,
            "min_height": null,
            "padding": null,
            "grid_auto_rows": null,
            "grid_gap": null,
            "max_width": null,
            "order": null,
            "_view_module_version": "1.2.0",
            "grid_template_areas": null,
            "object_position": null,
            "object_fit": null,
            "grid_auto_columns": null,
            "margin": null,
            "display": null,
            "left": null
          }
        },
        "829167271c90456bbee47ade5b7ec077": {
          "model_module": "@jupyter-widgets/controls",
          "model_name": "FloatProgressModel",
          "state": {
            "_view_name": "ProgressView",
            "style": "IPY_MODEL_e7a875e21efe4e39bb90b4d98b89072c",
            "_dom_classes": [],
            "description": "Dl Size...: 100%",
            "_model_name": "FloatProgressModel",
            "bar_style": "success",
            "max": 1,
            "_view_module": "@jupyter-widgets/controls",
            "_model_module_version": "1.5.0",
            "value": 1,
            "_view_count": null,
            "_view_module_version": "1.5.0",
            "orientation": "horizontal",
            "min": 0,
            "description_tooltip": null,
            "_model_module": "@jupyter-widgets/controls",
            "layout": "IPY_MODEL_a3bd1ef33775470dae5665576d893253"
          }
        },
        "5ec8532a01ae4268bebf15e42dd22671": {
          "model_module": "@jupyter-widgets/controls",
          "model_name": "HTMLModel",
          "state": {
            "_view_name": "HTMLView",
            "style": "IPY_MODEL_2601d1e04bb145138362c9dc428d5d2e",
            "_dom_classes": [],
            "description": "",
            "_model_name": "HTMLModel",
            "placeholder": "​",
            "_view_module": "@jupyter-widgets/controls",
            "_model_module_version": "1.5.0",
            "value": " 162/162 [00:06&lt;00:00, 24.82 MiB/s]",
            "_view_count": null,
            "_view_module_version": "1.5.0",
            "description_tooltip": null,
            "_model_module": "@jupyter-widgets/controls",
            "layout": "IPY_MODEL_bec864d7c70d459199d86a9395a9215a"
          }
        },
        "e7a875e21efe4e39bb90b4d98b89072c": {
          "model_module": "@jupyter-widgets/controls",
          "model_name": "ProgressStyleModel",
          "state": {
            "_view_name": "StyleView",
            "_model_name": "ProgressStyleModel",
            "description_width": "initial",
            "_view_module": "@jupyter-widgets/base",
            "_model_module_version": "1.5.0",
            "_view_count": null,
            "_view_module_version": "1.2.0",
            "bar_color": null,
            "_model_module": "@jupyter-widgets/controls"
          }
        },
        "a3bd1ef33775470dae5665576d893253": {
          "model_module": "@jupyter-widgets/base",
          "model_name": "LayoutModel",
          "state": {
            "_view_name": "LayoutView",
            "grid_template_rows": null,
            "right": null,
            "justify_content": null,
            "_view_module": "@jupyter-widgets/base",
            "overflow": null,
            "_model_module_version": "1.2.0",
            "_view_count": null,
            "flex_flow": null,
            "width": null,
            "min_width": null,
            "border": null,
            "align_items": null,
            "bottom": null,
            "_model_module": "@jupyter-widgets/base",
            "top": null,
            "grid_column": null,
            "overflow_y": null,
            "overflow_x": null,
            "grid_auto_flow": null,
            "grid_area": null,
            "grid_template_columns": null,
            "flex": null,
            "_model_name": "LayoutModel",
            "justify_items": null,
            "grid_row": null,
            "max_height": null,
            "align_content": null,
            "visibility": null,
            "align_self": null,
            "height": null,
            "min_height": null,
            "padding": null,
            "grid_auto_rows": null,
            "grid_gap": null,
            "max_width": null,
            "order": null,
            "_view_module_version": "1.2.0",
            "grid_template_areas": null,
            "object_position": null,
            "object_fit": null,
            "grid_auto_columns": null,
            "margin": null,
            "display": null,
            "left": null
          }
        },
        "2601d1e04bb145138362c9dc428d5d2e": {
          "model_module": "@jupyter-widgets/controls",
          "model_name": "DescriptionStyleModel",
          "state": {
            "_view_name": "StyleView",
            "_model_name": "DescriptionStyleModel",
            "description_width": "",
            "_view_module": "@jupyter-widgets/base",
            "_model_module_version": "1.5.0",
            "_view_count": null,
            "_view_module_version": "1.2.0",
            "_model_module": "@jupyter-widgets/controls"
          }
        },
        "bec864d7c70d459199d86a9395a9215a": {
          "model_module": "@jupyter-widgets/base",
          "model_name": "LayoutModel",
          "state": {
            "_view_name": "LayoutView",
            "grid_template_rows": null,
            "right": null,
            "justify_content": null,
            "_view_module": "@jupyter-widgets/base",
            "overflow": null,
            "_model_module_version": "1.2.0",
            "_view_count": null,
            "flex_flow": null,
            "width": null,
            "min_width": null,
            "border": null,
            "align_items": null,
            "bottom": null,
            "_model_module": "@jupyter-widgets/base",
            "top": null,
            "grid_column": null,
            "overflow_y": null,
            "overflow_x": null,
            "grid_auto_flow": null,
            "grid_area": null,
            "grid_template_columns": null,
            "flex": null,
            "_model_name": "LayoutModel",
            "justify_items": null,
            "grid_row": null,
            "max_height": null,
            "align_content": null,
            "visibility": null,
            "align_self": null,
            "height": null,
            "min_height": null,
            "padding": null,
            "grid_auto_rows": null,
            "grid_gap": null,
            "max_width": null,
            "order": null,
            "_view_module_version": "1.2.0",
            "grid_template_areas": null,
            "object_position": null,
            "object_fit": null,
            "grid_auto_columns": null,
            "margin": null,
            "display": null,
            "left": null
          }
        },
        "bf30574aaa0e4f99b78a22831a9a87a6": {
          "model_module": "@jupyter-widgets/controls",
          "model_name": "HBoxModel",
          "state": {
            "_view_name": "HBoxView",
            "_dom_classes": [],
            "_model_name": "HBoxModel",
            "_view_module": "@jupyter-widgets/controls",
            "_model_module_version": "1.5.0",
            "_view_count": null,
            "_view_module_version": "1.5.0",
            "box_style": "",
            "layout": "IPY_MODEL_c88fcac660af4707aa81dcf39439dae8",
            "_model_module": "@jupyter-widgets/controls",
            "children": [
              "IPY_MODEL_603a8b3f4a9c4ed69e16d196bd9d7624",
              "IPY_MODEL_f92dcfa3eb1045abbc74fbd48b06f2cb"
            ]
          }
        },
        "c88fcac660af4707aa81dcf39439dae8": {
          "model_module": "@jupyter-widgets/base",
          "model_name": "LayoutModel",
          "state": {
            "_view_name": "LayoutView",
            "grid_template_rows": null,
            "right": null,
            "justify_content": null,
            "_view_module": "@jupyter-widgets/base",
            "overflow": null,
            "_model_module_version": "1.2.0",
            "_view_count": null,
            "flex_flow": null,
            "width": null,
            "min_width": null,
            "border": null,
            "align_items": null,
            "bottom": null,
            "_model_module": "@jupyter-widgets/base",
            "top": null,
            "grid_column": null,
            "overflow_y": null,
            "overflow_x": null,
            "grid_auto_flow": null,
            "grid_area": null,
            "grid_template_columns": null,
            "flex": null,
            "_model_name": "LayoutModel",
            "justify_items": null,
            "grid_row": null,
            "max_height": null,
            "align_content": null,
            "visibility": null,
            "align_self": null,
            "height": null,
            "min_height": null,
            "padding": null,
            "grid_auto_rows": null,
            "grid_gap": null,
            "max_width": null,
            "order": null,
            "_view_module_version": "1.2.0",
            "grid_template_areas": null,
            "object_position": null,
            "object_fit": null,
            "grid_auto_columns": null,
            "margin": null,
            "display": null,
            "left": null
          }
        },
        "603a8b3f4a9c4ed69e16d196bd9d7624": {
          "model_module": "@jupyter-widgets/controls",
          "model_name": "FloatProgressModel",
          "state": {
            "_view_name": "ProgressView",
            "style": "IPY_MODEL_24d38b93aa9b4f7d88a024e10c5c6b63",
            "_dom_classes": [],
            "description": "Extraction completed...: 100%",
            "_model_name": "FloatProgressModel",
            "bar_style": "success",
            "max": 1,
            "_view_module": "@jupyter-widgets/controls",
            "_model_module_version": "1.5.0",
            "value": 1,
            "_view_count": null,
            "_view_module_version": "1.5.0",
            "orientation": "horizontal",
            "min": 0,
            "description_tooltip": null,
            "_model_module": "@jupyter-widgets/controls",
            "layout": "IPY_MODEL_8b42e7ce8da844c0b7479b88bed0638a"
          }
        },
        "f92dcfa3eb1045abbc74fbd48b06f2cb": {
          "model_module": "@jupyter-widgets/controls",
          "model_name": "HTMLModel",
          "state": {
            "_view_name": "HTMLView",
            "style": "IPY_MODEL_3189ef49d4ea4e04bd7ffcf6054ad713",
            "_dom_classes": [],
            "description": "",
            "_model_name": "HTMLModel",
            "placeholder": "​",
            "_view_module": "@jupyter-widgets/controls",
            "_model_module_version": "1.5.0",
            "value": " 1/1 [00:06&lt;00:00,  6.48s/ file]",
            "_view_count": null,
            "_view_module_version": "1.5.0",
            "description_tooltip": null,
            "_model_module": "@jupyter-widgets/controls",
            "layout": "IPY_MODEL_b4984f95c9d744da8cd5c9494d42e579"
          }
        },
        "24d38b93aa9b4f7d88a024e10c5c6b63": {
          "model_module": "@jupyter-widgets/controls",
          "model_name": "ProgressStyleModel",
          "state": {
            "_view_name": "StyleView",
            "_model_name": "ProgressStyleModel",
            "description_width": "initial",
            "_view_module": "@jupyter-widgets/base",
            "_model_module_version": "1.5.0",
            "_view_count": null,
            "_view_module_version": "1.2.0",
            "bar_color": null,
            "_model_module": "@jupyter-widgets/controls"
          }
        },
        "8b42e7ce8da844c0b7479b88bed0638a": {
          "model_module": "@jupyter-widgets/base",
          "model_name": "LayoutModel",
          "state": {
            "_view_name": "LayoutView",
            "grid_template_rows": null,
            "right": null,
            "justify_content": null,
            "_view_module": "@jupyter-widgets/base",
            "overflow": null,
            "_model_module_version": "1.2.0",
            "_view_count": null,
            "flex_flow": null,
            "width": null,
            "min_width": null,
            "border": null,
            "align_items": null,
            "bottom": null,
            "_model_module": "@jupyter-widgets/base",
            "top": null,
            "grid_column": null,
            "overflow_y": null,
            "overflow_x": null,
            "grid_auto_flow": null,
            "grid_area": null,
            "grid_template_columns": null,
            "flex": null,
            "_model_name": "LayoutModel",
            "justify_items": null,
            "grid_row": null,
            "max_height": null,
            "align_content": null,
            "visibility": null,
            "align_self": null,
            "height": null,
            "min_height": null,
            "padding": null,
            "grid_auto_rows": null,
            "grid_gap": null,
            "max_width": null,
            "order": null,
            "_view_module_version": "1.2.0",
            "grid_template_areas": null,
            "object_position": null,
            "object_fit": null,
            "grid_auto_columns": null,
            "margin": null,
            "display": null,
            "left": null
          }
        },
        "3189ef49d4ea4e04bd7ffcf6054ad713": {
          "model_module": "@jupyter-widgets/controls",
          "model_name": "DescriptionStyleModel",
          "state": {
            "_view_name": "StyleView",
            "_model_name": "DescriptionStyleModel",
            "description_width": "",
            "_view_module": "@jupyter-widgets/base",
            "_model_module_version": "1.5.0",
            "_view_count": null,
            "_view_module_version": "1.2.0",
            "_model_module": "@jupyter-widgets/controls"
          }
        },
        "b4984f95c9d744da8cd5c9494d42e579": {
          "model_module": "@jupyter-widgets/base",
          "model_name": "LayoutModel",
          "state": {
            "_view_name": "LayoutView",
            "grid_template_rows": null,
            "right": null,
            "justify_content": null,
            "_view_module": "@jupyter-widgets/base",
            "overflow": null,
            "_model_module_version": "1.2.0",
            "_view_count": null,
            "flex_flow": null,
            "width": null,
            "min_width": null,
            "border": null,
            "align_items": null,
            "bottom": null,
            "_model_module": "@jupyter-widgets/base",
            "top": null,
            "grid_column": null,
            "overflow_y": null,
            "overflow_x": null,
            "grid_auto_flow": null,
            "grid_area": null,
            "grid_template_columns": null,
            "flex": null,
            "_model_name": "LayoutModel",
            "justify_items": null,
            "grid_row": null,
            "max_height": null,
            "align_content": null,
            "visibility": null,
            "align_self": null,
            "height": null,
            "min_height": null,
            "padding": null,
            "grid_auto_rows": null,
            "grid_gap": null,
            "max_width": null,
            "order": null,
            "_view_module_version": "1.2.0",
            "grid_template_areas": null,
            "object_position": null,
            "object_fit": null,
            "grid_auto_columns": null,
            "margin": null,
            "display": null,
            "left": null
          }
        },
        "7a36ae4f84f747efb2b879b2ce0392b4": {
          "model_module": "@jupyter-widgets/controls",
          "model_name": "HBoxModel",
          "state": {
            "_view_name": "HBoxView",
            "_dom_classes": [],
            "_model_name": "HBoxModel",
            "_view_module": "@jupyter-widgets/controls",
            "_model_module_version": "1.5.0",
            "_view_count": null,
            "_view_module_version": "1.5.0",
            "box_style": "",
            "layout": "IPY_MODEL_82efea5a706e4f68821a2c776fa8d75e",
            "_model_module": "@jupyter-widgets/controls",
            "children": [
              "IPY_MODEL_7185003368c549bcbb0f42a504572e4c",
              "IPY_MODEL_e541b954da8b4d6cae001c428f3d6ef8"
            ]
          }
        },
        "82efea5a706e4f68821a2c776fa8d75e": {
          "model_module": "@jupyter-widgets/base",
          "model_name": "LayoutModel",
          "state": {
            "_view_name": "LayoutView",
            "grid_template_rows": null,
            "right": null,
            "justify_content": null,
            "_view_module": "@jupyter-widgets/base",
            "overflow": null,
            "_model_module_version": "1.2.0",
            "_view_count": null,
            "flex_flow": null,
            "width": null,
            "min_width": null,
            "border": null,
            "align_items": null,
            "bottom": null,
            "_model_module": "@jupyter-widgets/base",
            "top": null,
            "grid_column": null,
            "overflow_y": null,
            "overflow_x": null,
            "grid_auto_flow": null,
            "grid_area": null,
            "grid_template_columns": null,
            "flex": null,
            "_model_name": "LayoutModel",
            "justify_items": null,
            "grid_row": null,
            "max_height": null,
            "align_content": null,
            "visibility": null,
            "align_self": null,
            "height": null,
            "min_height": null,
            "padding": null,
            "grid_auto_rows": null,
            "grid_gap": null,
            "max_width": null,
            "order": null,
            "_view_module_version": "1.2.0",
            "grid_template_areas": null,
            "object_position": null,
            "object_fit": null,
            "grid_auto_columns": null,
            "margin": null,
            "display": null,
            "left": null
          }
        },
        "7185003368c549bcbb0f42a504572e4c": {
          "model_module": "@jupyter-widgets/controls",
          "model_name": "FloatProgressModel",
          "state": {
            "_view_name": "ProgressView",
            "style": "IPY_MODEL_e502a2769e23475ab3aa5420b676ffa4",
            "_dom_classes": [],
            "description": "",
            "_model_name": "FloatProgressModel",
            "bar_style": "info",
            "max": 1,
            "_view_module": "@jupyter-widgets/controls",
            "_model_module_version": "1.5.0",
            "value": 1,
            "_view_count": null,
            "_view_module_version": "1.5.0",
            "orientation": "horizontal",
            "min": 0,
            "description_tooltip": null,
            "_model_module": "@jupyter-widgets/controls",
            "layout": "IPY_MODEL_370068ff73734010afbb446fd05f0121"
          }
        },
        "e541b954da8b4d6cae001c428f3d6ef8": {
          "model_module": "@jupyter-widgets/controls",
          "model_name": "HTMLModel",
          "state": {
            "_view_name": "HTMLView",
            "style": "IPY_MODEL_dafba00948f241009bad187a2ef32749",
            "_dom_classes": [],
            "description": "",
            "_model_name": "HTMLModel",
            "placeholder": "​",
            "_view_module": "@jupyter-widgets/controls",
            "_model_module_version": "1.5.0",
            "value": " 50000/0 [00:33&lt;00:00, 1848.10 examples/s]",
            "_view_count": null,
            "_view_module_version": "1.5.0",
            "description_tooltip": null,
            "_model_module": "@jupyter-widgets/controls",
            "layout": "IPY_MODEL_6a2ff5dee38342588cc79c6f55f161fd"
          }
        },
        "e502a2769e23475ab3aa5420b676ffa4": {
          "model_module": "@jupyter-widgets/controls",
          "model_name": "ProgressStyleModel",
          "state": {
            "_view_name": "StyleView",
            "_model_name": "ProgressStyleModel",
            "description_width": "initial",
            "_view_module": "@jupyter-widgets/base",
            "_model_module_version": "1.5.0",
            "_view_count": null,
            "_view_module_version": "1.2.0",
            "bar_color": null,
            "_model_module": "@jupyter-widgets/controls"
          }
        },
        "370068ff73734010afbb446fd05f0121": {
          "model_module": "@jupyter-widgets/base",
          "model_name": "LayoutModel",
          "state": {
            "_view_name": "LayoutView",
            "grid_template_rows": null,
            "right": null,
            "justify_content": null,
            "_view_module": "@jupyter-widgets/base",
            "overflow": null,
            "_model_module_version": "1.2.0",
            "_view_count": null,
            "flex_flow": null,
            "width": null,
            "min_width": null,
            "border": null,
            "align_items": null,
            "bottom": null,
            "_model_module": "@jupyter-widgets/base",
            "top": null,
            "grid_column": null,
            "overflow_y": null,
            "overflow_x": null,
            "grid_auto_flow": null,
            "grid_area": null,
            "grid_template_columns": null,
            "flex": null,
            "_model_name": "LayoutModel",
            "justify_items": null,
            "grid_row": null,
            "max_height": null,
            "align_content": null,
            "visibility": null,
            "align_self": null,
            "height": null,
            "min_height": null,
            "padding": null,
            "grid_auto_rows": null,
            "grid_gap": null,
            "max_width": null,
            "order": null,
            "_view_module_version": "1.2.0",
            "grid_template_areas": null,
            "object_position": null,
            "object_fit": null,
            "grid_auto_columns": null,
            "margin": null,
            "display": null,
            "left": null
          }
        },
        "dafba00948f241009bad187a2ef32749": {
          "model_module": "@jupyter-widgets/controls",
          "model_name": "DescriptionStyleModel",
          "state": {
            "_view_name": "StyleView",
            "_model_name": "DescriptionStyleModel",
            "description_width": "",
            "_view_module": "@jupyter-widgets/base",
            "_model_module_version": "1.5.0",
            "_view_count": null,
            "_view_module_version": "1.2.0",
            "_model_module": "@jupyter-widgets/controls"
          }
        },
        "6a2ff5dee38342588cc79c6f55f161fd": {
          "model_module": "@jupyter-widgets/base",
          "model_name": "LayoutModel",
          "state": {
            "_view_name": "LayoutView",
            "grid_template_rows": null,
            "right": null,
            "justify_content": null,
            "_view_module": "@jupyter-widgets/base",
            "overflow": null,
            "_model_module_version": "1.2.0",
            "_view_count": null,
            "flex_flow": null,
            "width": null,
            "min_width": null,
            "border": null,
            "align_items": null,
            "bottom": null,
            "_model_module": "@jupyter-widgets/base",
            "top": null,
            "grid_column": null,
            "overflow_y": null,
            "overflow_x": null,
            "grid_auto_flow": null,
            "grid_area": null,
            "grid_template_columns": null,
            "flex": null,
            "_model_name": "LayoutModel",
            "justify_items": null,
            "grid_row": null,
            "max_height": null,
            "align_content": null,
            "visibility": null,
            "align_self": null,
            "height": null,
            "min_height": null,
            "padding": null,
            "grid_auto_rows": null,
            "grid_gap": null,
            "max_width": null,
            "order": null,
            "_view_module_version": "1.2.0",
            "grid_template_areas": null,
            "object_position": null,
            "object_fit": null,
            "grid_auto_columns": null,
            "margin": null,
            "display": null,
            "left": null
          }
        },
        "085ae77070cd4eceb96211d2c0bf62c0": {
          "model_module": "@jupyter-widgets/controls",
          "model_name": "HBoxModel",
          "state": {
            "_view_name": "HBoxView",
            "_dom_classes": [],
            "_model_name": "HBoxModel",
            "_view_module": "@jupyter-widgets/controls",
            "_model_module_version": "1.5.0",
            "_view_count": null,
            "_view_module_version": "1.5.0",
            "box_style": "",
            "layout": "IPY_MODEL_c66a4c53cbb0463ca4a57a700b9e6a50",
            "_model_module": "@jupyter-widgets/controls",
            "children": [
              "IPY_MODEL_b72f02cb4d0f42c28201dd4fa654c175",
              "IPY_MODEL_a666f69058354ff0aa49699b645c4a64"
            ]
          }
        },
        "c66a4c53cbb0463ca4a57a700b9e6a50": {
          "model_module": "@jupyter-widgets/base",
          "model_name": "LayoutModel",
          "state": {
            "_view_name": "LayoutView",
            "grid_template_rows": null,
            "right": null,
            "justify_content": null,
            "_view_module": "@jupyter-widgets/base",
            "overflow": null,
            "_model_module_version": "1.2.0",
            "_view_count": null,
            "flex_flow": null,
            "width": null,
            "min_width": null,
            "border": null,
            "align_items": null,
            "bottom": null,
            "_model_module": "@jupyter-widgets/base",
            "top": null,
            "grid_column": null,
            "overflow_y": null,
            "overflow_x": null,
            "grid_auto_flow": null,
            "grid_area": null,
            "grid_template_columns": null,
            "flex": null,
            "_model_name": "LayoutModel",
            "justify_items": null,
            "grid_row": null,
            "max_height": null,
            "align_content": null,
            "visibility": null,
            "align_self": null,
            "height": null,
            "min_height": null,
            "padding": null,
            "grid_auto_rows": null,
            "grid_gap": null,
            "max_width": null,
            "order": null,
            "_view_module_version": "1.2.0",
            "grid_template_areas": null,
            "object_position": null,
            "object_fit": null,
            "grid_auto_columns": null,
            "margin": null,
            "display": null,
            "left": null
          }
        },
        "b72f02cb4d0f42c28201dd4fa654c175": {
          "model_module": "@jupyter-widgets/controls",
          "model_name": "FloatProgressModel",
          "state": {
            "_view_name": "ProgressView",
            "style": "IPY_MODEL_316d458e10964fde86d91c6128601470",
            "_dom_classes": [],
            "description": " 84%",
            "_model_name": "FloatProgressModel",
            "bar_style": "danger",
            "max": 50000,
            "_view_module": "@jupyter-widgets/controls",
            "_model_module_version": "1.5.0",
            "value": 41868,
            "_view_count": null,
            "_view_module_version": "1.5.0",
            "orientation": "horizontal",
            "min": 0,
            "description_tooltip": null,
            "_model_module": "@jupyter-widgets/controls",
            "layout": "IPY_MODEL_07a92fc8a64a424aba40d3a593455e9a"
          }
        },
        "a666f69058354ff0aa49699b645c4a64": {
          "model_module": "@jupyter-widgets/controls",
          "model_name": "HTMLModel",
          "state": {
            "_view_name": "HTMLView",
            "style": "IPY_MODEL_046adf73a19044df81121927a4b8ab34",
            "_dom_classes": [],
            "description": "",
            "_model_name": "HTMLModel",
            "placeholder": "​",
            "_view_module": "@jupyter-widgets/controls",
            "_model_module_version": "1.5.0",
            "value": " 41868/50000 [00:00&lt;00:00, 53948.39 examples/s]",
            "_view_count": null,
            "_view_module_version": "1.5.0",
            "description_tooltip": null,
            "_model_module": "@jupyter-widgets/controls",
            "layout": "IPY_MODEL_7972c0de00f54b829130d2256625337e"
          }
        },
        "316d458e10964fde86d91c6128601470": {
          "model_module": "@jupyter-widgets/controls",
          "model_name": "ProgressStyleModel",
          "state": {
            "_view_name": "StyleView",
            "_model_name": "ProgressStyleModel",
            "description_width": "initial",
            "_view_module": "@jupyter-widgets/base",
            "_model_module_version": "1.5.0",
            "_view_count": null,
            "_view_module_version": "1.2.0",
            "bar_color": null,
            "_model_module": "@jupyter-widgets/controls"
          }
        },
        "07a92fc8a64a424aba40d3a593455e9a": {
          "model_module": "@jupyter-widgets/base",
          "model_name": "LayoutModel",
          "state": {
            "_view_name": "LayoutView",
            "grid_template_rows": null,
            "right": null,
            "justify_content": null,
            "_view_module": "@jupyter-widgets/base",
            "overflow": null,
            "_model_module_version": "1.2.0",
            "_view_count": null,
            "flex_flow": null,
            "width": null,
            "min_width": null,
            "border": null,
            "align_items": null,
            "bottom": null,
            "_model_module": "@jupyter-widgets/base",
            "top": null,
            "grid_column": null,
            "overflow_y": null,
            "overflow_x": null,
            "grid_auto_flow": null,
            "grid_area": null,
            "grid_template_columns": null,
            "flex": null,
            "_model_name": "LayoutModel",
            "justify_items": null,
            "grid_row": null,
            "max_height": null,
            "align_content": null,
            "visibility": null,
            "align_self": null,
            "height": null,
            "min_height": null,
            "padding": null,
            "grid_auto_rows": null,
            "grid_gap": null,
            "max_width": null,
            "order": null,
            "_view_module_version": "1.2.0",
            "grid_template_areas": null,
            "object_position": null,
            "object_fit": null,
            "grid_auto_columns": null,
            "margin": null,
            "display": null,
            "left": null
          }
        },
        "046adf73a19044df81121927a4b8ab34": {
          "model_module": "@jupyter-widgets/controls",
          "model_name": "DescriptionStyleModel",
          "state": {
            "_view_name": "StyleView",
            "_model_name": "DescriptionStyleModel",
            "description_width": "",
            "_view_module": "@jupyter-widgets/base",
            "_model_module_version": "1.5.0",
            "_view_count": null,
            "_view_module_version": "1.2.0",
            "_model_module": "@jupyter-widgets/controls"
          }
        },
        "7972c0de00f54b829130d2256625337e": {
          "model_module": "@jupyter-widgets/base",
          "model_name": "LayoutModel",
          "state": {
            "_view_name": "LayoutView",
            "grid_template_rows": null,
            "right": null,
            "justify_content": null,
            "_view_module": "@jupyter-widgets/base",
            "overflow": null,
            "_model_module_version": "1.2.0",
            "_view_count": null,
            "flex_flow": null,
            "width": null,
            "min_width": null,
            "border": null,
            "align_items": null,
            "bottom": null,
            "_model_module": "@jupyter-widgets/base",
            "top": null,
            "grid_column": null,
            "overflow_y": null,
            "overflow_x": null,
            "grid_auto_flow": null,
            "grid_area": null,
            "grid_template_columns": null,
            "flex": null,
            "_model_name": "LayoutModel",
            "justify_items": null,
            "grid_row": null,
            "max_height": null,
            "align_content": null,
            "visibility": null,
            "align_self": null,
            "height": null,
            "min_height": null,
            "padding": null,
            "grid_auto_rows": null,
            "grid_gap": null,
            "max_width": null,
            "order": null,
            "_view_module_version": "1.2.0",
            "grid_template_areas": null,
            "object_position": null,
            "object_fit": null,
            "grid_auto_columns": null,
            "margin": null,
            "display": null,
            "left": null
          }
        },
        "fa26c55a6c87423c95159803daa7833c": {
          "model_module": "@jupyter-widgets/controls",
          "model_name": "HBoxModel",
          "state": {
            "_view_name": "HBoxView",
            "_dom_classes": [],
            "_model_name": "HBoxModel",
            "_view_module": "@jupyter-widgets/controls",
            "_model_module_version": "1.5.0",
            "_view_count": null,
            "_view_module_version": "1.5.0",
            "box_style": "",
            "layout": "IPY_MODEL_8cbbc7f8b8a845aba390a85278252bb7",
            "_model_module": "@jupyter-widgets/controls",
            "children": [
              "IPY_MODEL_c4efcafc35a349b7a6b75d60281ef665",
              "IPY_MODEL_4f20a4dddab545779da188d36152ba59"
            ]
          }
        },
        "8cbbc7f8b8a845aba390a85278252bb7": {
          "model_module": "@jupyter-widgets/base",
          "model_name": "LayoutModel",
          "state": {
            "_view_name": "LayoutView",
            "grid_template_rows": null,
            "right": null,
            "justify_content": null,
            "_view_module": "@jupyter-widgets/base",
            "overflow": null,
            "_model_module_version": "1.2.0",
            "_view_count": null,
            "flex_flow": null,
            "width": null,
            "min_width": null,
            "border": null,
            "align_items": null,
            "bottom": null,
            "_model_module": "@jupyter-widgets/base",
            "top": null,
            "grid_column": null,
            "overflow_y": null,
            "overflow_x": null,
            "grid_auto_flow": null,
            "grid_area": null,
            "grid_template_columns": null,
            "flex": null,
            "_model_name": "LayoutModel",
            "justify_items": null,
            "grid_row": null,
            "max_height": null,
            "align_content": null,
            "visibility": null,
            "align_self": null,
            "height": null,
            "min_height": null,
            "padding": null,
            "grid_auto_rows": null,
            "grid_gap": null,
            "max_width": null,
            "order": null,
            "_view_module_version": "1.2.0",
            "grid_template_areas": null,
            "object_position": null,
            "object_fit": null,
            "grid_auto_columns": null,
            "margin": null,
            "display": null,
            "left": null
          }
        },
        "c4efcafc35a349b7a6b75d60281ef665": {
          "model_module": "@jupyter-widgets/controls",
          "model_name": "FloatProgressModel",
          "state": {
            "_view_name": "ProgressView",
            "style": "IPY_MODEL_3dbd5e5c7368416b9ceeb73645c8f33d",
            "_dom_classes": [],
            "description": "",
            "_model_name": "FloatProgressModel",
            "bar_style": "info",
            "max": 1,
            "_view_module": "@jupyter-widgets/controls",
            "_model_module_version": "1.5.0",
            "value": 1,
            "_view_count": null,
            "_view_module_version": "1.5.0",
            "orientation": "horizontal",
            "min": 0,
            "description_tooltip": null,
            "_model_module": "@jupyter-widgets/controls",
            "layout": "IPY_MODEL_5bb8d6d19e8d424187bf42b18747f08e"
          }
        },
        "4f20a4dddab545779da188d36152ba59": {
          "model_module": "@jupyter-widgets/controls",
          "model_name": "HTMLModel",
          "state": {
            "_view_name": "HTMLView",
            "style": "IPY_MODEL_0a425cd2a7294e2e867d5a9ff1958409",
            "_dom_classes": [],
            "description": "",
            "_model_name": "HTMLModel",
            "placeholder": "​",
            "_view_module": "@jupyter-widgets/controls",
            "_model_module_version": "1.5.0",
            "value": " 10000/0 [00:05&lt;00:00, 1842.78 examples/s]",
            "_view_count": null,
            "_view_module_version": "1.5.0",
            "description_tooltip": null,
            "_model_module": "@jupyter-widgets/controls",
            "layout": "IPY_MODEL_02311b60e64e4178aaf55051e619bbe5"
          }
        },
        "3dbd5e5c7368416b9ceeb73645c8f33d": {
          "model_module": "@jupyter-widgets/controls",
          "model_name": "ProgressStyleModel",
          "state": {
            "_view_name": "StyleView",
            "_model_name": "ProgressStyleModel",
            "description_width": "initial",
            "_view_module": "@jupyter-widgets/base",
            "_model_module_version": "1.5.0",
            "_view_count": null,
            "_view_module_version": "1.2.0",
            "bar_color": null,
            "_model_module": "@jupyter-widgets/controls"
          }
        },
        "5bb8d6d19e8d424187bf42b18747f08e": {
          "model_module": "@jupyter-widgets/base",
          "model_name": "LayoutModel",
          "state": {
            "_view_name": "LayoutView",
            "grid_template_rows": null,
            "right": null,
            "justify_content": null,
            "_view_module": "@jupyter-widgets/base",
            "overflow": null,
            "_model_module_version": "1.2.0",
            "_view_count": null,
            "flex_flow": null,
            "width": null,
            "min_width": null,
            "border": null,
            "align_items": null,
            "bottom": null,
            "_model_module": "@jupyter-widgets/base",
            "top": null,
            "grid_column": null,
            "overflow_y": null,
            "overflow_x": null,
            "grid_auto_flow": null,
            "grid_area": null,
            "grid_template_columns": null,
            "flex": null,
            "_model_name": "LayoutModel",
            "justify_items": null,
            "grid_row": null,
            "max_height": null,
            "align_content": null,
            "visibility": null,
            "align_self": null,
            "height": null,
            "min_height": null,
            "padding": null,
            "grid_auto_rows": null,
            "grid_gap": null,
            "max_width": null,
            "order": null,
            "_view_module_version": "1.2.0",
            "grid_template_areas": null,
            "object_position": null,
            "object_fit": null,
            "grid_auto_columns": null,
            "margin": null,
            "display": null,
            "left": null
          }
        },
        "0a425cd2a7294e2e867d5a9ff1958409": {
          "model_module": "@jupyter-widgets/controls",
          "model_name": "DescriptionStyleModel",
          "state": {
            "_view_name": "StyleView",
            "_model_name": "DescriptionStyleModel",
            "description_width": "",
            "_view_module": "@jupyter-widgets/base",
            "_model_module_version": "1.5.0",
            "_view_count": null,
            "_view_module_version": "1.2.0",
            "_model_module": "@jupyter-widgets/controls"
          }
        },
        "02311b60e64e4178aaf55051e619bbe5": {
          "model_module": "@jupyter-widgets/base",
          "model_name": "LayoutModel",
          "state": {
            "_view_name": "LayoutView",
            "grid_template_rows": null,
            "right": null,
            "justify_content": null,
            "_view_module": "@jupyter-widgets/base",
            "overflow": null,
            "_model_module_version": "1.2.0",
            "_view_count": null,
            "flex_flow": null,
            "width": null,
            "min_width": null,
            "border": null,
            "align_items": null,
            "bottom": null,
            "_model_module": "@jupyter-widgets/base",
            "top": null,
            "grid_column": null,
            "overflow_y": null,
            "overflow_x": null,
            "grid_auto_flow": null,
            "grid_area": null,
            "grid_template_columns": null,
            "flex": null,
            "_model_name": "LayoutModel",
            "justify_items": null,
            "grid_row": null,
            "max_height": null,
            "align_content": null,
            "visibility": null,
            "align_self": null,
            "height": null,
            "min_height": null,
            "padding": null,
            "grid_auto_rows": null,
            "grid_gap": null,
            "max_width": null,
            "order": null,
            "_view_module_version": "1.2.0",
            "grid_template_areas": null,
            "object_position": null,
            "object_fit": null,
            "grid_auto_columns": null,
            "margin": null,
            "display": null,
            "left": null
          }
        },
        "b1563545143f4f59a8ec4eed20fc99d3": {
          "model_module": "@jupyter-widgets/controls",
          "model_name": "HBoxModel",
          "state": {
            "_view_name": "HBoxView",
            "_dom_classes": [],
            "_model_name": "HBoxModel",
            "_view_module": "@jupyter-widgets/controls",
            "_model_module_version": "1.5.0",
            "_view_count": null,
            "_view_module_version": "1.5.0",
            "box_style": "",
            "layout": "IPY_MODEL_44c5ae69e4a340de88a37d8cf3cbc322",
            "_model_module": "@jupyter-widgets/controls",
            "children": [
              "IPY_MODEL_f53f6e5894194dd990d3db509b5567c2",
              "IPY_MODEL_de56e6db6a33482c8bbda0949148891f"
            ]
          }
        },
        "44c5ae69e4a340de88a37d8cf3cbc322": {
          "model_module": "@jupyter-widgets/base",
          "model_name": "LayoutModel",
          "state": {
            "_view_name": "LayoutView",
            "grid_template_rows": null,
            "right": null,
            "justify_content": null,
            "_view_module": "@jupyter-widgets/base",
            "overflow": null,
            "_model_module_version": "1.2.0",
            "_view_count": null,
            "flex_flow": null,
            "width": null,
            "min_width": null,
            "border": null,
            "align_items": null,
            "bottom": null,
            "_model_module": "@jupyter-widgets/base",
            "top": null,
            "grid_column": null,
            "overflow_y": null,
            "overflow_x": null,
            "grid_auto_flow": null,
            "grid_area": null,
            "grid_template_columns": null,
            "flex": null,
            "_model_name": "LayoutModel",
            "justify_items": null,
            "grid_row": null,
            "max_height": null,
            "align_content": null,
            "visibility": null,
            "align_self": null,
            "height": null,
            "min_height": null,
            "padding": null,
            "grid_auto_rows": null,
            "grid_gap": null,
            "max_width": null,
            "order": null,
            "_view_module_version": "1.2.0",
            "grid_template_areas": null,
            "object_position": null,
            "object_fit": null,
            "grid_auto_columns": null,
            "margin": null,
            "display": null,
            "left": null
          }
        },
        "f53f6e5894194dd990d3db509b5567c2": {
          "model_module": "@jupyter-widgets/controls",
          "model_name": "FloatProgressModel",
          "state": {
            "_view_name": "ProgressView",
            "style": "IPY_MODEL_af3523bea7b147098abbe1ce42e98d62",
            "_dom_classes": [],
            "description": " 72%",
            "_model_name": "FloatProgressModel",
            "bar_style": "danger",
            "max": 10000,
            "_view_module": "@jupyter-widgets/controls",
            "_model_module_version": "1.5.0",
            "value": 7206,
            "_view_count": null,
            "_view_module_version": "1.5.0",
            "orientation": "horizontal",
            "min": 0,
            "description_tooltip": null,
            "_model_module": "@jupyter-widgets/controls",
            "layout": "IPY_MODEL_ebf1b19e0821449a8d1bb536e1f16570"
          }
        },
        "de56e6db6a33482c8bbda0949148891f": {
          "model_module": "@jupyter-widgets/controls",
          "model_name": "HTMLModel",
          "state": {
            "_view_name": "HTMLView",
            "style": "IPY_MODEL_3bde7d36bbd541e581bd43c8ae67a151",
            "_dom_classes": [],
            "description": "",
            "_model_name": "HTMLModel",
            "placeholder": "​",
            "_view_module": "@jupyter-widgets/controls",
            "_model_module_version": "1.5.0",
            "value": " 7206/10000 [00:00&lt;00:00, 72058.01 examples/s]",
            "_view_count": null,
            "_view_module_version": "1.5.0",
            "description_tooltip": null,
            "_model_module": "@jupyter-widgets/controls",
            "layout": "IPY_MODEL_d1075c51fa8f47b693840ed7e6eeaf1d"
          }
        },
        "af3523bea7b147098abbe1ce42e98d62": {
          "model_module": "@jupyter-widgets/controls",
          "model_name": "ProgressStyleModel",
          "state": {
            "_view_name": "StyleView",
            "_model_name": "ProgressStyleModel",
            "description_width": "initial",
            "_view_module": "@jupyter-widgets/base",
            "_model_module_version": "1.5.0",
            "_view_count": null,
            "_view_module_version": "1.2.0",
            "bar_color": null,
            "_model_module": "@jupyter-widgets/controls"
          }
        },
        "ebf1b19e0821449a8d1bb536e1f16570": {
          "model_module": "@jupyter-widgets/base",
          "model_name": "LayoutModel",
          "state": {
            "_view_name": "LayoutView",
            "grid_template_rows": null,
            "right": null,
            "justify_content": null,
            "_view_module": "@jupyter-widgets/base",
            "overflow": null,
            "_model_module_version": "1.2.0",
            "_view_count": null,
            "flex_flow": null,
            "width": null,
            "min_width": null,
            "border": null,
            "align_items": null,
            "bottom": null,
            "_model_module": "@jupyter-widgets/base",
            "top": null,
            "grid_column": null,
            "overflow_y": null,
            "overflow_x": null,
            "grid_auto_flow": null,
            "grid_area": null,
            "grid_template_columns": null,
            "flex": null,
            "_model_name": "LayoutModel",
            "justify_items": null,
            "grid_row": null,
            "max_height": null,
            "align_content": null,
            "visibility": null,
            "align_self": null,
            "height": null,
            "min_height": null,
            "padding": null,
            "grid_auto_rows": null,
            "grid_gap": null,
            "max_width": null,
            "order": null,
            "_view_module_version": "1.2.0",
            "grid_template_areas": null,
            "object_position": null,
            "object_fit": null,
            "grid_auto_columns": null,
            "margin": null,
            "display": null,
            "left": null
          }
        },
        "3bde7d36bbd541e581bd43c8ae67a151": {
          "model_module": "@jupyter-widgets/controls",
          "model_name": "DescriptionStyleModel",
          "state": {
            "_view_name": "StyleView",
            "_model_name": "DescriptionStyleModel",
            "description_width": "",
            "_view_module": "@jupyter-widgets/base",
            "_model_module_version": "1.5.0",
            "_view_count": null,
            "_view_module_version": "1.2.0",
            "_model_module": "@jupyter-widgets/controls"
          }
        },
        "d1075c51fa8f47b693840ed7e6eeaf1d": {
          "model_module": "@jupyter-widgets/base",
          "model_name": "LayoutModel",
          "state": {
            "_view_name": "LayoutView",
            "grid_template_rows": null,
            "right": null,
            "justify_content": null,
            "_view_module": "@jupyter-widgets/base",
            "overflow": null,
            "_model_module_version": "1.2.0",
            "_view_count": null,
            "flex_flow": null,
            "width": null,
            "min_width": null,
            "border": null,
            "align_items": null,
            "bottom": null,
            "_model_module": "@jupyter-widgets/base",
            "top": null,
            "grid_column": null,
            "overflow_y": null,
            "overflow_x": null,
            "grid_auto_flow": null,
            "grid_area": null,
            "grid_template_columns": null,
            "flex": null,
            "_model_name": "LayoutModel",
            "justify_items": null,
            "grid_row": null,
            "max_height": null,
            "align_content": null,
            "visibility": null,
            "align_self": null,
            "height": null,
            "min_height": null,
            "padding": null,
            "grid_auto_rows": null,
            "grid_gap": null,
            "max_width": null,
            "order": null,
            "_view_module_version": "1.2.0",
            "grid_template_areas": null,
            "object_position": null,
            "object_fit": null,
            "grid_auto_columns": null,
            "margin": null,
            "display": null,
            "left": null
          }
        }
      }
    }
  },
  "cells": [
    {
      "cell_type": "markdown",
      "metadata": {
        "id": "view-in-github",
        "colab_type": "text"
      },
      "source": [
        "<a href=\"https://colab.research.google.com/github/churry75/tf_tutorial/blob/master/tf_tutorial_09_CNN_classfication.ipynb\" target=\"_parent\"><img src=\"https://colab.research.google.com/assets/colab-badge.svg\" alt=\"Open In Colab\"/></a>"
      ]
    },
    {
      "cell_type": "markdown",
      "metadata": {
        "id": "ZXiei7pkyud5"
      },
      "source": [
        "# 간단한 CNN 이미지 분류 모델 구현"
      ]
    },
    {
      "cell_type": "markdown",
      "metadata": {
        "id": "XKm9yByPz6cU"
      },
      "source": [
        "## 필요한 라이브러리 import"
      ]
    },
    {
      "cell_type": "code",
      "metadata": {
        "id": "3o6c7GbKzKec"
      },
      "source": [
        "import tensorflow as tf\n",
        "import tensorflow_datasets as tfds\n",
        "from tensorflow import keras\n",
        "import numpy as np\n",
        "import matplotlib.pyplot as plt\n",
        "import pandas as pd"
      ],
      "execution_count": null,
      "outputs": []
    },
    {
      "cell_type": "markdown",
      "metadata": {
        "id": "1DWbUpQQzzHN"
      },
      "source": [
        "## 데이터셋 로드\n",
        "- CIFAR-10 데이터셋 로드"
      ]
    },
    {
      "cell_type": "code",
      "metadata": {
        "colab": {
          "base_uri": "https://localhost:8080/",
          "height": 367,
          "referenced_widgets": [
            "ad544124eb02448487ebdbf142800283",
            "4903c479261640de9018fbf989398a6e",
            "7d8d5760dbe9463caff6967d40db27c8",
            "84feca3040314ca29c8f9e0441d4ea49",
            "7042878638974a279854e21c1218607a",
            "bd799843eb7b4645904a528b88b92bed",
            "1cc73babdc364c53b4ee0395ceabbbc5",
            "c1c0dce023fe45619589c8e6ffdf04d3",
            "22f20e3645184230a24bea9de58972cb",
            "0f9676096b6847a6aca1995e0a90baf0",
            "829167271c90456bbee47ade5b7ec077",
            "5ec8532a01ae4268bebf15e42dd22671",
            "e7a875e21efe4e39bb90b4d98b89072c",
            "a3bd1ef33775470dae5665576d893253",
            "2601d1e04bb145138362c9dc428d5d2e",
            "bec864d7c70d459199d86a9395a9215a",
            "bf30574aaa0e4f99b78a22831a9a87a6",
            "c88fcac660af4707aa81dcf39439dae8",
            "603a8b3f4a9c4ed69e16d196bd9d7624",
            "f92dcfa3eb1045abbc74fbd48b06f2cb",
            "24d38b93aa9b4f7d88a024e10c5c6b63",
            "8b42e7ce8da844c0b7479b88bed0638a",
            "3189ef49d4ea4e04bd7ffcf6054ad713",
            "b4984f95c9d744da8cd5c9494d42e579",
            "7a36ae4f84f747efb2b879b2ce0392b4",
            "82efea5a706e4f68821a2c776fa8d75e",
            "7185003368c549bcbb0f42a504572e4c",
            "e541b954da8b4d6cae001c428f3d6ef8",
            "e502a2769e23475ab3aa5420b676ffa4",
            "370068ff73734010afbb446fd05f0121",
            "dafba00948f241009bad187a2ef32749",
            "6a2ff5dee38342588cc79c6f55f161fd",
            "085ae77070cd4eceb96211d2c0bf62c0",
            "c66a4c53cbb0463ca4a57a700b9e6a50",
            "b72f02cb4d0f42c28201dd4fa654c175",
            "a666f69058354ff0aa49699b645c4a64",
            "316d458e10964fde86d91c6128601470",
            "07a92fc8a64a424aba40d3a593455e9a",
            "046adf73a19044df81121927a4b8ab34",
            "7972c0de00f54b829130d2256625337e",
            "fa26c55a6c87423c95159803daa7833c",
            "8cbbc7f8b8a845aba390a85278252bb7",
            "c4efcafc35a349b7a6b75d60281ef665",
            "4f20a4dddab545779da188d36152ba59",
            "3dbd5e5c7368416b9ceeb73645c8f33d",
            "5bb8d6d19e8d424187bf42b18747f08e",
            "0a425cd2a7294e2e867d5a9ff1958409",
            "02311b60e64e4178aaf55051e619bbe5",
            "b1563545143f4f59a8ec4eed20fc99d3",
            "44c5ae69e4a340de88a37d8cf3cbc322",
            "f53f6e5894194dd990d3db509b5567c2",
            "de56e6db6a33482c8bbda0949148891f",
            "af3523bea7b147098abbe1ce42e98d62",
            "ebf1b19e0821449a8d1bb536e1f16570",
            "3bde7d36bbd541e581bd43c8ae67a151",
            "d1075c51fa8f47b693840ed7e6eeaf1d"
          ]
        },
        "id": "vQm9ihCx0An-",
        "outputId": "c13ef38d-428d-4c37-bdaf-ed86ea1e5861"
      },
      "source": [
        "(train_sets, valid_sets, test_sets), info = tfds.load(name='cifar10', split=['train[:85%]', 'train[85%:]', 'test'], with_info=True)"
      ],
      "execution_count": null,
      "outputs": [
        {
          "output_type": "stream",
          "text": [
            "\u001b[1mDownloading and preparing dataset cifar10/3.0.2 (download: 162.17 MiB, generated: 132.40 MiB, total: 294.58 MiB) to /root/tensorflow_datasets/cifar10/3.0.2...\u001b[0m\n"
          ],
          "name": "stdout"
        },
        {
          "output_type": "display_data",
          "data": {
            "application/vnd.jupyter.widget-view+json": {
              "model_id": "ad544124eb02448487ebdbf142800283",
              "version_minor": 0,
              "version_major": 2
            },
            "text/plain": [
              "HBox(children=(FloatProgress(value=1.0, bar_style='info', description='Dl Completed...', max=1.0, style=Progre…"
            ]
          },
          "metadata": {
            "tags": []
          }
        },
        {
          "output_type": "display_data",
          "data": {
            "application/vnd.jupyter.widget-view+json": {
              "model_id": "22f20e3645184230a24bea9de58972cb",
              "version_minor": 0,
              "version_major": 2
            },
            "text/plain": [
              "HBox(children=(FloatProgress(value=1.0, bar_style='info', description='Dl Size...', max=1.0, style=ProgressSty…"
            ]
          },
          "metadata": {
            "tags": []
          }
        },
        {
          "output_type": "display_data",
          "data": {
            "application/vnd.jupyter.widget-view+json": {
              "model_id": "bf30574aaa0e4f99b78a22831a9a87a6",
              "version_minor": 0,
              "version_major": 2
            },
            "text/plain": [
              "HBox(children=(FloatProgress(value=1.0, bar_style='info', description='Extraction completed...', max=1.0, styl…"
            ]
          },
          "metadata": {
            "tags": []
          }
        },
        {
          "output_type": "stream",
          "text": [
            "\n",
            "\n",
            "\n",
            "\n",
            "\n",
            "\n"
          ],
          "name": "stdout"
        },
        {
          "output_type": "display_data",
          "data": {
            "application/vnd.jupyter.widget-view+json": {
              "model_id": "7a36ae4f84f747efb2b879b2ce0392b4",
              "version_minor": 0,
              "version_major": 2
            },
            "text/plain": [
              "HBox(children=(FloatProgress(value=1.0, bar_style='info', max=1.0), HTML(value='')))"
            ]
          },
          "metadata": {
            "tags": []
          }
        },
        {
          "output_type": "stream",
          "text": [
            "\rShuffling and writing examples to /root/tensorflow_datasets/cifar10/3.0.2.incompletePAO4CD/cifar10-train.tfrecord\n"
          ],
          "name": "stdout"
        },
        {
          "output_type": "display_data",
          "data": {
            "application/vnd.jupyter.widget-view+json": {
              "model_id": "085ae77070cd4eceb96211d2c0bf62c0",
              "version_minor": 0,
              "version_major": 2
            },
            "text/plain": [
              "HBox(children=(FloatProgress(value=0.0, max=50000.0), HTML(value='')))"
            ]
          },
          "metadata": {
            "tags": []
          }
        },
        {
          "output_type": "stream",
          "text": [
            "\r"
          ],
          "name": "stdout"
        },
        {
          "output_type": "display_data",
          "data": {
            "application/vnd.jupyter.widget-view+json": {
              "model_id": "fa26c55a6c87423c95159803daa7833c",
              "version_minor": 0,
              "version_major": 2
            },
            "text/plain": [
              "HBox(children=(FloatProgress(value=1.0, bar_style='info', max=1.0), HTML(value='')))"
            ]
          },
          "metadata": {
            "tags": []
          }
        },
        {
          "output_type": "stream",
          "text": [
            "\rShuffling and writing examples to /root/tensorflow_datasets/cifar10/3.0.2.incompletePAO4CD/cifar10-test.tfrecord\n"
          ],
          "name": "stdout"
        },
        {
          "output_type": "display_data",
          "data": {
            "application/vnd.jupyter.widget-view+json": {
              "model_id": "b1563545143f4f59a8ec4eed20fc99d3",
              "version_minor": 0,
              "version_major": 2
            },
            "text/plain": [
              "HBox(children=(FloatProgress(value=0.0, max=10000.0), HTML(value='')))"
            ]
          },
          "metadata": {
            "tags": []
          }
        },
        {
          "output_type": "stream",
          "text": [
            "\u001b[1mDataset cifar10 downloaded and prepared to /root/tensorflow_datasets/cifar10/3.0.2. Subsequent calls will reuse this data.\u001b[0m\n",
            "\r"
          ],
          "name": "stdout"
        }
      ]
    },
    {
      "cell_type": "code",
      "metadata": {
        "id": "2MJhy2c60TTO"
      },
      "source": [
        "class_names = info.features['label'].names"
      ],
      "execution_count": null,
      "outputs": []
    },
    {
      "cell_type": "code",
      "metadata": {
        "id": "HiHzBSyj3WK1"
      },
      "source": [
        "def preprocessing(item):\n",
        "    images = item['image']\n",
        "    images = tf.cast(images, tf.float32) / 255.0\n",
        "    labels = item['label']\n",
        "    return images, labels"
      ],
      "execution_count": null,
      "outputs": []
    },
    {
      "cell_type": "code",
      "metadata": {
        "id": "mnlHZb1j0-hM"
      },
      "source": [
        "train_sets = train_sets.map(preprocessing).shuffle(10000).batch(128).prefetch(1)\n",
        "valid_sets = valid_sets.map(preprocessing).shuffle(10000).batch(128).prefetch(1)\n",
        "test_sets = test_sets.map(preprocessing).shuffle(10000).batch(128).prefetch(1)"
      ],
      "execution_count": null,
      "outputs": []
    },
    {
      "cell_type": "markdown",
      "metadata": {
        "id": "nV7aD-Wq3itQ"
      },
      "source": [
        "## 모델 생성\n",
        "- 함수형 API를 사용하여 모델 생성"
      ]
    },
    {
      "cell_type": "code",
      "metadata": {
        "id": "vlGZy-t64CA2"
      },
      "source": [
        "_input = keras.layers.Input(shape=(32, 32, 3))\n",
        "x = keras.layers.Conv2D(filters=64, kernel_size=(3, 3), padding='same', activation='relu')(_input)\n",
        "x = keras.layers.Conv2D(64, 3, padding='same', activation='relu')(x)\n",
        "x = keras.layers.MaxPool2D(pool_size=(2, 2), strides=(2, 2), padding='same')(x)\n",
        "x = keras.layers.Conv2D(128, 3, padding='same', activation='relu')(x)\n",
        "x = keras.layers.Conv2D(128, 3, padding='same', activation='relu')(x)\n",
        "x = keras.layers.MaxPool2D(pool_size=2, strides=2, padding='same')(x)\n",
        "x = keras.layers.Conv2D(256, (3, 3), (1, 1),\n",
        "                        padding='same', activation='relu')(x)\n",
        "x = keras.layers.Conv2D(256, 3,\n",
        "                        padding='same', activation='relu')(x)\n",
        "x = keras.layers.MaxPool2D(pool_size=(2, 2), strides=(2, 2), padding='same')(x)\n",
        "x = keras.layers.Flatten()(x)\n",
        "x = keras.layers.Dense(units=128, activation='relu')(x)\n",
        "x = keras.layers.Dropout(0.5)(x)\n",
        "x = keras.layers.Dense(64, activation='relu')(x)\n",
        "x = keras.layers.Dropout(0.5)(x)\n",
        "_output = keras.layers.Dense(10, activation='softmax')(x)"
      ],
      "execution_count": null,
      "outputs": []
    },
    {
      "cell_type": "code",
      "metadata": {
        "id": "AM7MU1tG5NxM"
      },
      "source": [
        "model = keras.Model(inputs=_input, outputs=_output)"
      ],
      "execution_count": null,
      "outputs": []
    },
    {
      "cell_type": "code",
      "metadata": {
        "colab": {
          "base_uri": "https://localhost:8080/"
        },
        "id": "hf0GYGw17M8V",
        "outputId": "c09cc74f-5716-4500-8593-4e5b8b94b040"
      },
      "source": [
        "model.summary()"
      ],
      "execution_count": null,
      "outputs": [
        {
          "output_type": "stream",
          "text": [
            "Model: \"model_3\"\n",
            "_________________________________________________________________\n",
            "Layer (type)                 Output Shape              Param #   \n",
            "=================================================================\n",
            "input_4 (InputLayer)         [(None, 32, 32, 3)]       0         \n",
            "_________________________________________________________________\n",
            "conv2d_16 (Conv2D)           (None, 32, 32, 64)        1792      \n",
            "_________________________________________________________________\n",
            "conv2d_17 (Conv2D)           (None, 32, 32, 64)        36928     \n",
            "_________________________________________________________________\n",
            "max_pooling2d_9 (MaxPooling2 (None, 16, 16, 64)        0         \n",
            "_________________________________________________________________\n",
            "conv2d_18 (Conv2D)           (None, 16, 16, 128)       73856     \n",
            "_________________________________________________________________\n",
            "conv2d_19 (Conv2D)           (None, 16, 16, 128)       147584    \n",
            "_________________________________________________________________\n",
            "max_pooling2d_10 (MaxPooling (None, 8, 8, 128)         0         \n",
            "_________________________________________________________________\n",
            "conv2d_20 (Conv2D)           (None, 8, 8, 256)         295168    \n",
            "_________________________________________________________________\n",
            "conv2d_21 (Conv2D)           (None, 8, 8, 256)         590080    \n",
            "_________________________________________________________________\n",
            "max_pooling2d_11 (MaxPooling (None, 4, 4, 256)         0         \n",
            "_________________________________________________________________\n",
            "flatten_3 (Flatten)          (None, 4096)              0         \n",
            "_________________________________________________________________\n",
            "dense_9 (Dense)              (None, 128)               524416    \n",
            "_________________________________________________________________\n",
            "dropout_6 (Dropout)          (None, 128)               0         \n",
            "_________________________________________________________________\n",
            "dense_10 (Dense)             (None, 64)                8256      \n",
            "_________________________________________________________________\n",
            "dropout_7 (Dropout)          (None, 64)                0         \n",
            "_________________________________________________________________\n",
            "dense_11 (Dense)             (None, 10)                650       \n",
            "=================================================================\n",
            "Total params: 1,678,730\n",
            "Trainable params: 1,678,730\n",
            "Non-trainable params: 0\n",
            "_________________________________________________________________\n"
          ],
          "name": "stdout"
        }
      ]
    },
    {
      "cell_type": "markdown",
      "metadata": {
        "id": "Bnqu3vrc7dgI"
      },
      "source": [
        "## 모델 컴파일\n",
        "- 최적화 기법: 확률적 경사 하강법\n",
        "- 손실함수: 교차 엔트로피\n",
        "\n"
      ]
    },
    {
      "cell_type": "code",
      "metadata": {
        "id": "pwMWPcVg8c0X"
      },
      "source": [
        "optimizer = keras.optimizers.SGD(learning_rate=0.01)\n",
        "model.compile(loss='sparse_categorical_crossentropy', optimizer=optimizer,\n",
        "              metrics=['accuracy'])"
      ],
      "execution_count": null,
      "outputs": []
    },
    {
      "cell_type": "markdown",
      "metadata": {
        "id": "YB6CRM8c-IaG"
      },
      "source": [
        "## 모델 훈련"
      ]
    },
    {
      "cell_type": "code",
      "metadata": {
        "colab": {
          "base_uri": "https://localhost:8080/"
        },
        "id": "3EKeZU5Z_IHd",
        "outputId": "f2be601d-d47e-4465-b60a-7b915acbce7a"
      },
      "source": [
        "histo = model.fit(train_sets, validation_data=valid_sets, epochs=100)"
      ],
      "execution_count": null,
      "outputs": [
        {
          "output_type": "stream",
          "text": [
            "Epoch 1/100\n",
            "333/333 [==============================] - 10s 27ms/step - loss: 2.0087 - accuracy: 0.2477 - val_loss: 2.1426 - val_accuracy: 0.2139\n",
            "Epoch 2/100\n",
            "333/333 [==============================] - 9s 27ms/step - loss: 1.9384 - accuracy: 0.2733 - val_loss: 1.8642 - val_accuracy: 0.3289\n",
            "Epoch 3/100\n",
            "333/333 [==============================] - 9s 27ms/step - loss: 1.8816 - accuracy: 0.2953 - val_loss: 1.7404 - val_accuracy: 0.3623\n",
            "Epoch 4/100\n",
            "333/333 [==============================] - 9s 27ms/step - loss: 1.8348 - accuracy: 0.3135 - val_loss: 1.7219 - val_accuracy: 0.3636\n",
            "Epoch 5/100\n",
            "333/333 [==============================] - 9s 27ms/step - loss: 1.7935 - accuracy: 0.3343 - val_loss: 1.7922 - val_accuracy: 0.3417\n",
            "Epoch 6/100\n",
            "333/333 [==============================] - 9s 27ms/step - loss: 1.7494 - accuracy: 0.3542 - val_loss: 1.8674 - val_accuracy: 0.3025\n",
            "Epoch 7/100\n",
            "333/333 [==============================] - 9s 27ms/step - loss: 1.7230 - accuracy: 0.3656 - val_loss: 4.7959 - val_accuracy: 0.1033\n",
            "Epoch 8/100\n",
            "333/333 [==============================] - 9s 27ms/step - loss: 1.7124 - accuracy: 0.3715 - val_loss: 2.0090 - val_accuracy: 0.2813\n",
            "Epoch 9/100\n",
            "333/333 [==============================] - 9s 27ms/step - loss: 1.6541 - accuracy: 0.3896 - val_loss: 1.6336 - val_accuracy: 0.3928\n",
            "Epoch 10/100\n",
            "333/333 [==============================] - 9s 27ms/step - loss: 1.6240 - accuracy: 0.4036 - val_loss: 1.7842 - val_accuracy: 0.3676\n",
            "Epoch 11/100\n",
            "333/333 [==============================] - 9s 27ms/step - loss: 1.6013 - accuracy: 0.4137 - val_loss: 1.8005 - val_accuracy: 0.3748\n",
            "Epoch 12/100\n",
            "333/333 [==============================] - 9s 27ms/step - loss: 1.5737 - accuracy: 0.4246 - val_loss: 2.0029 - val_accuracy: 0.3109\n",
            "Epoch 13/100\n",
            "333/333 [==============================] - 9s 27ms/step - loss: 1.5475 - accuracy: 0.4372 - val_loss: 2.1815 - val_accuracy: 0.2744\n",
            "Epoch 14/100\n",
            "333/333 [==============================] - 9s 27ms/step - loss: 1.5311 - accuracy: 0.4453 - val_loss: 1.5717 - val_accuracy: 0.4221\n",
            "Epoch 15/100\n",
            "333/333 [==============================] - 9s 27ms/step - loss: 1.4953 - accuracy: 0.4547 - val_loss: 1.4081 - val_accuracy: 0.4873\n",
            "Epoch 16/100\n",
            "333/333 [==============================] - 9s 27ms/step - loss: 1.4690 - accuracy: 0.4702 - val_loss: 1.4671 - val_accuracy: 0.4717\n",
            "Epoch 17/100\n",
            "333/333 [==============================] - 9s 27ms/step - loss: 1.4477 - accuracy: 0.4766 - val_loss: 1.7824 - val_accuracy: 0.3952\n",
            "Epoch 18/100\n",
            "333/333 [==============================] - 9s 27ms/step - loss: 1.4327 - accuracy: 0.4875 - val_loss: 1.6944 - val_accuracy: 0.4361\n",
            "Epoch 19/100\n",
            "333/333 [==============================] - 9s 27ms/step - loss: 1.4017 - accuracy: 0.4960 - val_loss: 1.8658 - val_accuracy: 0.4129\n",
            "Epoch 20/100\n",
            "333/333 [==============================] - 9s 27ms/step - loss: 1.3833 - accuracy: 0.5076 - val_loss: 1.5160 - val_accuracy: 0.4548\n",
            "Epoch 21/100\n",
            "333/333 [==============================] - 9s 27ms/step - loss: 1.3540 - accuracy: 0.5171 - val_loss: 1.2277 - val_accuracy: 0.5692\n",
            "Epoch 22/100\n",
            "333/333 [==============================] - 9s 27ms/step - loss: 1.3316 - accuracy: 0.5286 - val_loss: 2.2741 - val_accuracy: 0.2907\n",
            "Epoch 23/100\n",
            "333/333 [==============================] - 9s 27ms/step - loss: 1.3260 - accuracy: 0.5291 - val_loss: 1.3097 - val_accuracy: 0.5397\n",
            "Epoch 24/100\n",
            "333/333 [==============================] - 9s 27ms/step - loss: 1.2882 - accuracy: 0.5448 - val_loss: 1.3140 - val_accuracy: 0.5315\n",
            "Epoch 25/100\n",
            "333/333 [==============================] - 9s 27ms/step - loss: 1.2672 - accuracy: 0.5554 - val_loss: 1.2995 - val_accuracy: 0.5235\n",
            "Epoch 26/100\n",
            "333/333 [==============================] - 9s 27ms/step - loss: 1.2410 - accuracy: 0.5625 - val_loss: 2.2050 - val_accuracy: 0.3860\n",
            "Epoch 27/100\n",
            "333/333 [==============================] - 9s 27ms/step - loss: 1.2311 - accuracy: 0.5701 - val_loss: 1.2986 - val_accuracy: 0.5427\n",
            "Epoch 28/100\n",
            "333/333 [==============================] - 9s 27ms/step - loss: 1.2004 - accuracy: 0.5810 - val_loss: 3.1904 - val_accuracy: 0.3036\n",
            "Epoch 29/100\n",
            "333/333 [==============================] - 9s 27ms/step - loss: 1.2031 - accuracy: 0.5817 - val_loss: 1.7138 - val_accuracy: 0.4509\n",
            "Epoch 30/100\n",
            "333/333 [==============================] - 9s 27ms/step - loss: 1.1535 - accuracy: 0.5982 - val_loss: 1.2806 - val_accuracy: 0.5552\n",
            "Epoch 31/100\n",
            "333/333 [==============================] - 9s 27ms/step - loss: 1.1341 - accuracy: 0.6057 - val_loss: 1.7950 - val_accuracy: 0.4701\n",
            "Epoch 32/100\n",
            "333/333 [==============================] - 9s 27ms/step - loss: 1.1062 - accuracy: 0.6159 - val_loss: 1.6674 - val_accuracy: 0.4185\n",
            "Epoch 33/100\n",
            "333/333 [==============================] - 9s 27ms/step - loss: 1.0999 - accuracy: 0.6191 - val_loss: 1.6743 - val_accuracy: 0.4717\n",
            "Epoch 34/100\n",
            "333/333 [==============================] - 9s 27ms/step - loss: 1.0686 - accuracy: 0.6288 - val_loss: 4.7126 - val_accuracy: 0.3029\n",
            "Epoch 35/100\n",
            "333/333 [==============================] - 9s 27ms/step - loss: 1.1197 - accuracy: 0.6176 - val_loss: 1.2249 - val_accuracy: 0.5703\n",
            "Epoch 36/100\n",
            "333/333 [==============================] - 9s 27ms/step - loss: 1.0172 - accuracy: 0.6499 - val_loss: 1.6666 - val_accuracy: 0.5112\n",
            "Epoch 37/100\n",
            "333/333 [==============================] - 9s 27ms/step - loss: 0.9963 - accuracy: 0.6568 - val_loss: 1.4441 - val_accuracy: 0.5691\n",
            "Epoch 38/100\n",
            "333/333 [==============================] - 9s 27ms/step - loss: 0.9764 - accuracy: 0.6652 - val_loss: 2.2616 - val_accuracy: 0.4081\n",
            "Epoch 39/100\n",
            "333/333 [==============================] - 9s 27ms/step - loss: 0.9801 - accuracy: 0.6635 - val_loss: 1.5121 - val_accuracy: 0.4953\n",
            "Epoch 40/100\n",
            "333/333 [==============================] - 9s 27ms/step - loss: 0.9362 - accuracy: 0.6761 - val_loss: 1.4611 - val_accuracy: 0.5147\n",
            "Epoch 41/100\n",
            "333/333 [==============================] - 9s 27ms/step - loss: 0.9095 - accuracy: 0.6900 - val_loss: 1.6331 - val_accuracy: 0.4939\n",
            "Epoch 42/100\n",
            "333/333 [==============================] - 9s 27ms/step - loss: 0.8932 - accuracy: 0.6928 - val_loss: 1.8413 - val_accuracy: 0.4824\n",
            "Epoch 43/100\n",
            "333/333 [==============================] - 9s 27ms/step - loss: 0.8791 - accuracy: 0.6994 - val_loss: 1.3228 - val_accuracy: 0.5661\n",
            "Epoch 44/100\n",
            "333/333 [==============================] - 9s 27ms/step - loss: 0.8560 - accuracy: 0.7076 - val_loss: 2.2193 - val_accuracy: 0.4395\n",
            "Epoch 45/100\n",
            "333/333 [==============================] - 9s 27ms/step - loss: 0.8533 - accuracy: 0.7092 - val_loss: 1.3722 - val_accuracy: 0.5621\n",
            "Epoch 46/100\n",
            "333/333 [==============================] - 9s 27ms/step - loss: 0.8053 - accuracy: 0.7212 - val_loss: 1.1060 - val_accuracy: 0.6357\n",
            "Epoch 47/100\n",
            "333/333 [==============================] - 9s 27ms/step - loss: 0.7944 - accuracy: 0.7293 - val_loss: 4.1816 - val_accuracy: 0.3279\n",
            "Epoch 48/100\n",
            "333/333 [==============================] - 9s 27ms/step - loss: 0.9789 - accuracy: 0.6783 - val_loss: 5.2253 - val_accuracy: 0.2472\n",
            "Epoch 49/100\n",
            "333/333 [==============================] - 9s 27ms/step - loss: 0.8250 - accuracy: 0.7209 - val_loss: 1.2978 - val_accuracy: 0.5612\n",
            "Epoch 50/100\n",
            "333/333 [==============================] - 9s 27ms/step - loss: 0.7482 - accuracy: 0.7449 - val_loss: 1.1118 - val_accuracy: 0.6575\n",
            "Epoch 51/100\n",
            "333/333 [==============================] - 9s 27ms/step - loss: 0.7099 - accuracy: 0.7560 - val_loss: 6.7325 - val_accuracy: 0.2387\n",
            "Epoch 52/100\n",
            "333/333 [==============================] - 9s 27ms/step - loss: 0.7910 - accuracy: 0.7344 - val_loss: 0.8747 - val_accuracy: 0.7149\n",
            "Epoch 53/100\n",
            "333/333 [==============================] - 9s 27ms/step - loss: 0.6814 - accuracy: 0.7688 - val_loss: 4.7675 - val_accuracy: 0.2776\n",
            "Epoch 54/100\n",
            "333/333 [==============================] - 9s 26ms/step - loss: 0.8770 - accuracy: 0.7125 - val_loss: 1.3393 - val_accuracy: 0.5916\n",
            "Epoch 55/100\n",
            "333/333 [==============================] - 9s 27ms/step - loss: 0.6691 - accuracy: 0.7717 - val_loss: 0.8345 - val_accuracy: 0.7264\n",
            "Epoch 56/100\n",
            "333/333 [==============================] - 9s 27ms/step - loss: 0.6293 - accuracy: 0.7848 - val_loss: 0.8699 - val_accuracy: 0.7143\n",
            "Epoch 57/100\n",
            "333/333 [==============================] - 9s 27ms/step - loss: 0.6120 - accuracy: 0.7897 - val_loss: 4.3865 - val_accuracy: 0.3176\n",
            "Epoch 58/100\n",
            "333/333 [==============================] - 9s 26ms/step - loss: 0.6570 - accuracy: 0.7808 - val_loss: 1.0230 - val_accuracy: 0.6764\n",
            "Epoch 59/100\n",
            "333/333 [==============================] - 9s 27ms/step - loss: 0.5705 - accuracy: 0.8057 - val_loss: 4.2219 - val_accuracy: 0.3621\n",
            "Epoch 60/100\n",
            "333/333 [==============================] - 9s 27ms/step - loss: 0.5769 - accuracy: 0.8038 - val_loss: 0.8965 - val_accuracy: 0.7203\n",
            "Epoch 61/100\n",
            "333/333 [==============================] - 9s 27ms/step - loss: 0.5279 - accuracy: 0.8185 - val_loss: 1.4501 - val_accuracy: 0.6184\n",
            "Epoch 62/100\n",
            "333/333 [==============================] - 9s 27ms/step - loss: 0.5219 - accuracy: 0.8208 - val_loss: 0.9854 - val_accuracy: 0.7133\n",
            "Epoch 63/100\n",
            "333/333 [==============================] - 9s 27ms/step - loss: 0.4954 - accuracy: 0.8286 - val_loss: 0.9650 - val_accuracy: 0.7143\n",
            "Epoch 64/100\n",
            "333/333 [==============================] - 9s 27ms/step - loss: 0.4738 - accuracy: 0.8365 - val_loss: 1.4187 - val_accuracy: 0.6548\n",
            "Epoch 65/100\n",
            "333/333 [==============================] - 9s 27ms/step - loss: 0.4620 - accuracy: 0.8412 - val_loss: 1.1623 - val_accuracy: 0.6889\n",
            "Epoch 66/100\n",
            "333/333 [==============================] - 9s 27ms/step - loss: 0.4435 - accuracy: 0.8479 - val_loss: 0.9252 - val_accuracy: 0.7311\n",
            "Epoch 67/100\n",
            "333/333 [==============================] - 9s 27ms/step - loss: 0.4227 - accuracy: 0.8539 - val_loss: 1.0557 - val_accuracy: 0.7291\n",
            "Epoch 68/100\n",
            "333/333 [==============================] - 9s 27ms/step - loss: 0.4102 - accuracy: 0.8577 - val_loss: 2.8938 - val_accuracy: 0.5497\n",
            "Epoch 69/100\n",
            "333/333 [==============================] - 9s 27ms/step - loss: 0.4147 - accuracy: 0.8601 - val_loss: 1.5656 - val_accuracy: 0.6252\n",
            "Epoch 70/100\n",
            "333/333 [==============================] - 9s 27ms/step - loss: 0.3886 - accuracy: 0.8682 - val_loss: 0.9673 - val_accuracy: 0.7328\n",
            "Epoch 71/100\n",
            "333/333 [==============================] - 9s 27ms/step - loss: 0.3639 - accuracy: 0.8751 - val_loss: 2.5043 - val_accuracy: 0.5837\n",
            "Epoch 72/100\n",
            "333/333 [==============================] - 9s 27ms/step - loss: 0.3749 - accuracy: 0.8745 - val_loss: 1.0736 - val_accuracy: 0.7276\n",
            "Epoch 73/100\n",
            "333/333 [==============================] - 9s 27ms/step - loss: 0.3357 - accuracy: 0.8842 - val_loss: 1.0915 - val_accuracy: 0.7147\n",
            "Epoch 74/100\n",
            "333/333 [==============================] - 9s 27ms/step - loss: 0.3260 - accuracy: 0.8886 - val_loss: 0.9494 - val_accuracy: 0.7475\n",
            "Epoch 75/100\n",
            "333/333 [==============================] - 9s 27ms/step - loss: 0.3102 - accuracy: 0.8953 - val_loss: 1.9824 - val_accuracy: 0.6147\n",
            "Epoch 76/100\n",
            "333/333 [==============================] - 9s 27ms/step - loss: 0.3267 - accuracy: 0.8905 - val_loss: 2.6049 - val_accuracy: 0.5975\n",
            "Epoch 77/100\n",
            "333/333 [==============================] - 9s 27ms/step - loss: 0.3331 - accuracy: 0.8899 - val_loss: 2.9416 - val_accuracy: 0.5852\n",
            "Epoch 78/100\n",
            "333/333 [==============================] - 9s 27ms/step - loss: 0.3317 - accuracy: 0.8919 - val_loss: 1.3383 - val_accuracy: 0.7111\n",
            "Epoch 79/100\n",
            "333/333 [==============================] - 9s 27ms/step - loss: 0.2736 - accuracy: 0.9067 - val_loss: 1.2297 - val_accuracy: 0.7025\n",
            "Epoch 80/100\n",
            "333/333 [==============================] - 9s 27ms/step - loss: 0.2720 - accuracy: 0.9063 - val_loss: 1.0481 - val_accuracy: 0.7527\n",
            "Epoch 81/100\n",
            "333/333 [==============================] - 9s 27ms/step - loss: 0.2493 - accuracy: 0.9147 - val_loss: 5.9198 - val_accuracy: 0.4384\n",
            "Epoch 82/100\n",
            "333/333 [==============================] - 9s 27ms/step - loss: 0.7829 - accuracy: 0.7736 - val_loss: 1.0212 - val_accuracy: 0.7248\n",
            "Epoch 83/100\n",
            "333/333 [==============================] - 9s 27ms/step - loss: 0.3220 - accuracy: 0.8939 - val_loss: 1.1242 - val_accuracy: 0.7067\n",
            "Epoch 84/100\n",
            "333/333 [==============================] - 9s 27ms/step - loss: 0.2760 - accuracy: 0.9093 - val_loss: 2.5076 - val_accuracy: 0.5869\n",
            "Epoch 85/100\n",
            "333/333 [==============================] - 9s 27ms/step - loss: 0.2894 - accuracy: 0.9056 - val_loss: 1.5852 - val_accuracy: 0.6920\n",
            "Epoch 86/100\n",
            "333/333 [==============================] - 9s 27ms/step - loss: 0.2456 - accuracy: 0.9192 - val_loss: 1.7533 - val_accuracy: 0.6823\n",
            "Epoch 87/100\n",
            "333/333 [==============================] - 9s 27ms/step - loss: 0.2345 - accuracy: 0.9219 - val_loss: 1.2156 - val_accuracy: 0.7457\n",
            "Epoch 88/100\n",
            "333/333 [==============================] - 9s 27ms/step - loss: 0.2173 - accuracy: 0.9271 - val_loss: 2.5383 - val_accuracy: 0.4129\n",
            "Epoch 89/100\n",
            "333/333 [==============================] - 9s 27ms/step - loss: 0.4759 - accuracy: 0.8477 - val_loss: 1.2261 - val_accuracy: 0.7395\n",
            "Epoch 90/100\n",
            "333/333 [==============================] - 9s 27ms/step - loss: 0.2262 - accuracy: 0.9264 - val_loss: 1.1984 - val_accuracy: 0.7455\n",
            "Epoch 91/100\n",
            "333/333 [==============================] - 9s 27ms/step - loss: 0.1973 - accuracy: 0.9352 - val_loss: 1.1322 - val_accuracy: 0.7552\n",
            "Epoch 92/100\n",
            "333/333 [==============================] - 9s 27ms/step - loss: 0.1911 - accuracy: 0.9391 - val_loss: 1.1434 - val_accuracy: 0.7513\n",
            "Epoch 93/100\n",
            "333/333 [==============================] - 9s 27ms/step - loss: 0.1757 - accuracy: 0.9426 - val_loss: 1.1686 - val_accuracy: 0.7576\n",
            "Epoch 94/100\n",
            "333/333 [==============================] - 9s 27ms/step - loss: 0.1705 - accuracy: 0.9448 - val_loss: 1.2696 - val_accuracy: 0.7363\n",
            "Epoch 95/100\n",
            "333/333 [==============================] - 9s 27ms/step - loss: 0.1603 - accuracy: 0.9494 - val_loss: 1.5026 - val_accuracy: 0.7292\n",
            "Epoch 96/100\n",
            "333/333 [==============================] - 9s 27ms/step - loss: 0.1585 - accuracy: 0.9485 - val_loss: 1.1808 - val_accuracy: 0.7568\n",
            "Epoch 97/100\n",
            "333/333 [==============================] - 9s 27ms/step - loss: 0.1522 - accuracy: 0.9509 - val_loss: 1.2718 - val_accuracy: 0.7572\n",
            "Epoch 98/100\n",
            "333/333 [==============================] - 9s 27ms/step - loss: 0.1523 - accuracy: 0.9505 - val_loss: 1.3100 - val_accuracy: 0.7497\n",
            "Epoch 99/100\n",
            "333/333 [==============================] - 9s 27ms/step - loss: 0.1513 - accuracy: 0.9505 - val_loss: 1.3329 - val_accuracy: 0.7495\n",
            "Epoch 100/100\n",
            "333/333 [==============================] - 9s 27ms/step - loss: 0.1375 - accuracy: 0.9568 - val_loss: 4.5427 - val_accuracy: 0.5844\n"
          ],
          "name": "stdout"
        }
      ]
    },
    {
      "cell_type": "code",
      "metadata": {
        "colab": {
          "base_uri": "https://localhost:8080/",
          "height": 324
        },
        "id": "IXenJMDS_TbC",
        "outputId": "896a6f88-fed6-43f0-f443-b8537e7f4bd6"
      },
      "source": [
        "pd.DataFrame(histo.history).plot(figsize=(8, 5))\n",
        "plt.grid(True)\n",
        "plt.gca().set_ylim(0, 10)\n",
        "plt.show()"
      ],
      "execution_count": null,
      "outputs": [
        {
          "output_type": "display_data",
          "data": {
            "image/png": "[encoded data removed]",
            "text/plain": [
              "<Figure size 576x360 with 1 Axes>"
            ]
          },
          "metadata": {
            "tags": [],
            "needs_background": "light"
          }
        }
      ]
    },
    {
      "cell_type": "code",
      "metadata": {
        "colab": {
          "base_uri": "https://localhost:8080/"
        },
        "id": "HDk6HHXeRZMw",
        "outputId": "1a79bc24-c5d7-4614-b381-6b3855cd7b87"
      },
      "source": [
        "test_loss, test_acc = model.evaluate(test_sets)"
      ],
      "execution_count": null,
      "outputs": [
        {
          "output_type": "stream",
          "text": [
            "79/79 [==============================] - 2s 11ms/step - loss: 4.6496 - accuracy: 0.5808\n"
          ],
          "name": "stdout"
        }
      ]
    }
  ]
}