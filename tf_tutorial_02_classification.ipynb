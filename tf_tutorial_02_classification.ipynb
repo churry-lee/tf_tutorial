{
  "nbformat": 4,
  "nbformat_minor": 0,
  "metadata": {
    "colab": {
      "name": "tf_tutorial_02_classification.ipynb",
      "provenance": [],
      "collapsed_sections": [],
      "authorship_tag": "ABX9TyMV4Hf3/QGtbs6pPTSvufJE",
      "include_colab_link": true
    },
    "kernelspec": {
      "name": "python3",
      "display_name": "Python 3.8.10 64-bit"
    },
    "language_info": {
      "name": "python",
      "version": "3.8.10"
    },
    "interpreter": {
      "hash": "0adcc2737ebf6a4a119f135174df96668767fca1ef1112612db5ecadf2b6d608"
    }
  },
  "cells": [
    {
      "cell_type": "markdown",
      "metadata": {
        "id": "view-in-github",
        "colab_type": "text"
      },
      "source": [
        "<a href=\"https://colab.research.google.com/github/churry75/tf_tutorial/blob/master/tf_tutorial_02_classification.ipynb\" target=\"_parent\"><img src=\"https://colab.research.google.com/assets/colab-badge.svg\" alt=\"Open In Colab\"/></a>"
      ]
    },
    {
      "cell_type": "code",
      "metadata": {
        "id": "YKSSCc4Hfl6r"
      },
      "source": [
        "import tensorflow as tf\n",
        "from tensorflow import keras\n",
        "\n",
        "import numpy as np\n",
        "import matplotlib.pyplot as plt"
      ],
      "execution_count": null,
      "outputs": []
    },
    {
      "cell_type": "markdown",
      "metadata": {
        "id": "kPJQ4KWRuUbq"
      },
      "source": [
        "# 패션 MNIST 불러오기"
      ]
    },
    {
      "cell_type": "code",
      "metadata": {
        "id": "_E59WVj8uaWW",
        "colab": {
          "base_uri": "https://localhost:8080/"
        },
        "outputId": "0e7fe267-4f9c-4513-f44b-d4083416f10c"
      },
      "source": [
        "fashion_mnist = keras.datasets.fashion_mnist\n",
        "(train_full_images, train_full_labels), (test_images, test_labels) = fashion_mnist.load_data()"
      ],
      "execution_count": null,
      "outputs": [
        {
          "output_type": "stream",
          "text": [
            "Downloading data from https://storage.googleapis.com/tensorflow/tf-keras-datasets/train-labels-idx1-ubyte.gz\n",
            "32768/29515 [=================================] - 0s 0us/step\n",
            "Downloading data from https://storage.googleapis.com/tensorflow/tf-keras-datasets/train-images-idx3-ubyte.gz\n",
            "26427392/26421880 [==============================] - 0s 0us/step\n",
            "Downloading data from https://storage.googleapis.com/tensorflow/tf-keras-datasets/t10k-labels-idx1-ubyte.gz\n",
            "8192/5148 [===============================================] - 0s 0us/step\n",
            "Downloading data from https://storage.googleapis.com/tensorflow/tf-keras-datasets/t10k-images-idx3-ubyte.gz\n",
            "4423680/4422102 [==============================] - 0s 0us/step\n"
          ],
          "name": "stdout"
        }
      ]
    },
    {
      "cell_type": "markdown",
      "metadata": {
        "id": "fK2zJDIlupAI"
      },
      "source": [
        "1. 데이터 셋에 클래스 이름이 정의되어 있지 않기 때문에 0 ~ 9의 레이블에 맞춰서 클래스 이름 선언"
      ]
    },
    {
      "cell_type": "code",
      "metadata": {
        "id": "FCtbcxX0uzne"
      },
      "source": [
        "class_names = ['T-shirt/top', 'Trouser', 'Pullover', 'Dress', 'Coat',\n",
        "               'Sandal', 'Shirt', 'Sneaker', 'Bag', 'Ankle boot']"
      ],
      "execution_count": null,
      "outputs": []
    },
    {
      "cell_type": "markdown",
      "metadata": {
        "id": "FOLKBpcnvQ5O"
      },
      "source": [
        "2. 데이터 확인"
      ]
    },
    {
      "cell_type": "code",
      "metadata": {
        "colab": {
          "base_uri": "https://localhost:8080/"
        },
        "id": "vGZvsKfcvWA1",
        "outputId": "bd794821-7e9c-45c7-8cd7-3d329d900063"
      },
      "source": [
        "train_full_images.shape"
      ],
      "execution_count": null,
      "outputs": [
        {
          "output_type": "execute_result",
          "data": {
            "text/plain": [
              "(60000, 28, 28)"
            ]
          },
          "metadata": {
            "tags": []
          },
          "execution_count": 4
        }
      ]
    },
    {
      "cell_type": "code",
      "metadata": {
        "colab": {
          "base_uri": "https://localhost:8080/"
        },
        "id": "Z4rwAGdnvX2w",
        "outputId": "ec1b0188-160b-4549-da13-2b41e8ac48a3"
      },
      "source": [
        "train_full_labels.shape"
      ],
      "execution_count": null,
      "outputs": [
        {
          "output_type": "execute_result",
          "data": {
            "text/plain": [
              "(60000,)"
            ]
          },
          "metadata": {
            "tags": []
          },
          "execution_count": 5
        }
      ]
    },
    {
      "cell_type": "code",
      "metadata": {
        "colab": {
          "base_uri": "https://localhost:8080/"
        },
        "id": "fbodlzfivbpR",
        "outputId": "b790b92e-bd35-45fd-f8f4-3b21db2213ed"
      },
      "source": [
        "test_images.shape"
      ],
      "execution_count": null,
      "outputs": [
        {
          "output_type": "execute_result",
          "data": {
            "text/plain": [
              "(10000, 28, 28)"
            ]
          },
          "metadata": {
            "tags": []
          },
          "execution_count": 6
        }
      ]
    },
    {
      "cell_type": "code",
      "metadata": {
        "colab": {
          "base_uri": "https://localhost:8080/",
          "height": 265
        },
        "id": "apyReQwIvo8i",
        "outputId": "efa9dc93-d509-43ec-d5aa-fa7a3167e8e5"
      },
      "source": [
        "plt.figure()\n",
        "plt.imshow(train_full_images[1])\n",
        "plt.colorbar()\n",
        "plt.grid(False)\n",
        "plt.show()"
      ],
      "execution_count": null,
      "outputs": [
        {
          "output_type": "display_data",
          "data": {
            "image/png": "[encoded data removed]",
            "text/plain": [
              "<Figure size 432x288 with 2 Axes>"
            ]
          },
          "metadata": {
            "tags": [],
            "needs_background": "light"
          }
        }
      ]
    },
    {
      "cell_type": "markdown",
      "metadata": {
        "id": "8pAKS7Nbvg9w"
      },
      "source": [
        "3. 데이터 전처리\n",
        "    - 훈련 전 데이터 전처리 단계\n",
        "    - 이미지의 값을 0 ~ 1 사이로 \n",
        "    - 전체 train 데이터에서 vaild 데이터 분리 및 정규화"
      ]
    },
    {
      "cell_type": "code",
      "metadata": {
        "id": "gBN2sjjp2Orb"
      },
      "source": [
        "valid_images, train_images = train_full_images[:5000] / 255.0, train_full_images[5000:] / 255.0\n",
        "valid_labels, train_labels = train_full_labels[:5000], train_full_labels[5000:]\n",
        "test_images = test_images / 255.0"
      ],
      "execution_count": null,
      "outputs": []
    },
    {
      "cell_type": "code",
      "metadata": {
        "colab": {
          "base_uri": "https://localhost:8080/"
        },
        "id": "iH_rpeCt8IED",
        "outputId": "66127668-e148-4feb-9adf-72546a93a27f"
      },
      "source": [
        "valid_images.shape"
      ],
      "execution_count": null,
      "outputs": [
        {
          "output_type": "execute_result",
          "data": {
            "text/plain": [
              "(5000, 28, 28)"
            ]
          },
          "metadata": {
            "tags": []
          },
          "execution_count": 9
        }
      ]
    },
    {
      "cell_type": "code",
      "metadata": {
        "id": "ksCMglFA8RqP",
        "colab": {
          "base_uri": "https://localhost:8080/"
        },
        "outputId": "bc8f869c-2084-4be6-b382-ca1ec6ffade4"
      },
      "source": [
        "train_images.shape"
      ],
      "execution_count": null,
      "outputs": [
        {
          "output_type": "execute_result",
          "data": {
            "text/plain": [
              "(55000, 28, 28)"
            ]
          },
          "metadata": {
            "tags": []
          },
          "execution_count": 10
        }
      ]
    },
    {
      "cell_type": "code",
      "metadata": {
        "colab": {
          "base_uri": "https://localhost:8080/",
          "height": 589
        },
        "id": "NFhkAYYDv9S7",
        "outputId": "cbc4637f-61e4-45e1-efd5-e9b724a2c172"
      },
      "source": [
        "plt.figure(figsize=(10,10))\n",
        "for i in range(25):\n",
        "    plt.subplot(5,5,i+1)\n",
        "    plt.xticks([])\n",
        "    plt.yticks([])\n",
        "    plt.grid(False)\n",
        "    plt.imshow(train_images[i], cmap=plt.cm.binary)\n",
        "    plt.xlabel(class_names[train_labels[i]])\n",
        "plt.show()"
      ],
      "execution_count": null,
      "outputs": [
        {
          "output_type": "display_data",
          "data": {
            "image/png": "[encoded data removed]",
            "text/plain": [
              "<Figure size 720x720 with 25 Axes>"
            ]
          },
          "metadata": {
            "tags": []
          }
        }
      ]
    },
    {
      "cell_type": "markdown",
      "metadata": {
        "id": "H84pfqDyxTDC"
      },
      "source": [
        "# 모델 설정\n",
        "## Sequential API 사용\n",
        "- 가장 간단한 케라스의 신경망 모델"
      ]
    },
    {
      "cell_type": "code",
      "metadata": {
        "id": "z4GGZFMhwgIU"
      },
      "source": [
        "model = keras.models.Sequential()\n",
        "model.add(keras.layers.Flatten(input_shape=[28, 28]))\n",
        "model.add(keras.layers.Dense(300, activation='relu'))\n",
        "model.add(keras.layers.Dense(100, activation='relu'))\n",
        "model.add(keras.layers.Dense(10, activation='softmax'))"
      ],
      "execution_count": null,
      "outputs": []
    },
    {
      "cell_type": "markdown",
      "metadata": {
        "id": "rov224kZn6cQ"
      },
      "source": [
        "- Flatten: 2차원 배열의 이미지를 28 * 28 = 784 픽셀의 1차원 이미지로 변환\n",
        "    - (input).reshape(-1, 28*28)을 계산\n",
        "    - 전처리 수행 작업\n",
        "    - batch_size를 제외한 샘플의 이미지만을 입력\n",
        "- Dense(완전 연결층) 은닉층 구성\n",
        "    - 활성화 함수: _Relu_\n",
        "    - 뉴런 개수\n",
        "        - 은닉층_1: 300개\n",
        "        - 은닉층_2: 100개\n",
        "- Dense 출력층 구성\n",
        "    - 뉴런 개수: 10개\n",
        "    - 활성화 함수: _Softmax_\n",
        "        - why? 클래스들이 배타적 이므로...\n",
        "\n",
        "> `activation='relu'` == `activation = keras.activation.relu`\n",
        "활성화 함수에 대한 전체 리스트는 [Link](http://keras.io/activations) 참고"
      ]
    },
    {
      "cell_type": "markdown",
      "metadata": {
        "id": "T0_AwBqzojho"
      },
      "source": [
        "## 모델 층 구성 정보 확인"
      ]
    },
    {
      "cell_type": "code",
      "metadata": {
        "colab": {
          "base_uri": "https://localhost:8080/"
        },
        "id": "zA3x-n2WxDVj",
        "outputId": "aba3ea7d-4f98-4ddd-b6b8-016218d7004e"
      },
      "source": [
        "model.summary()"
      ],
      "execution_count": null,
      "outputs": [
        {
          "output_type": "stream",
          "text": [
            "Model: \"sequential\"\n",
            "_________________________________________________________________\n",
            "Layer (type)                 Output Shape              Param #   \n",
            "=================================================================\n",
            "flatten (Flatten)            (None, 784)               0         \n",
            "_________________________________________________________________\n",
            "dense (Dense)                (None, 300)               235500    \n",
            "_________________________________________________________________\n",
            "dense_1 (Dense)              (None, 100)               30100     \n",
            "_________________________________________________________________\n",
            "dense_2 (Dense)              (None, 10)                1010      \n",
            "=================================================================\n",
            "Total params: 266,610\n",
            "Trainable params: 266,610\n",
            "Non-trainable params: 0\n",
            "_________________________________________________________________\n"
          ],
          "name": "stdout"
        }
      ]
    },
    {
      "cell_type": "code",
      "metadata": {
        "colab": {
          "base_uri": "https://localhost:8080/"
        },
        "id": "NkMBBiPgyIiY",
        "outputId": "2619ee35-4533-45d1-e5bc-fcbd798a8fc6"
      },
      "source": [
        "model.layers"
      ],
      "execution_count": null,
      "outputs": [
        {
          "output_type": "execute_result",
          "data": {
            "text/plain": [
              "[<tensorflow.python.keras.layers.core.Flatten at 0x7f103d72d690>,\n",
              " <tensorflow.python.keras.layers.core.Dense at 0x7f103e8c9510>,\n",
              " <tensorflow.python.keras.layers.core.Dense at 0x7f1039a1e590>,\n",
              " <tensorflow.python.keras.layers.core.Dense at 0x7f1039976390>]"
            ]
          },
          "metadata": {
            "tags": []
          },
          "execution_count": 14
        }
      ]
    },
    {
      "cell_type": "code",
      "metadata": {
        "colab": {
          "base_uri": "https://localhost:8080/"
        },
        "id": "xLNh_NhLyfB5",
        "outputId": "345fd9b2-c2e9-413f-b69e-e84e67e1c682"
      },
      "source": [
        "type(model.layers)"
      ],
      "execution_count": null,
      "outputs": [
        {
          "output_type": "execute_result",
          "data": {
            "text/plain": [
              "list"
            ]
          },
          "metadata": {
            "tags": []
          },
          "execution_count": 15
        }
      ]
    },
    {
      "cell_type": "code",
      "metadata": {
        "colab": {
          "base_uri": "https://localhost:8080/",
          "height": 38
        },
        "id": "QB5WmrXvySG9",
        "outputId": "2cb07698-e41e-4727-941d-71f73a854e67"
      },
      "source": [
        "hidden1 = model.layers[1]\n",
        "hidden1.name"
      ],
      "execution_count": null,
      "outputs": [
        {
          "output_type": "execute_result",
          "data": {
            "application/vnd.google.colaboratory.intrinsic+json": {
              "type": "string"
            },
            "text/plain": [
              "'dense'"
            ]
          },
          "metadata": {
            "tags": []
          },
          "execution_count": 16
        }
      ]
    },
    {
      "cell_type": "markdown",
      "metadata": {
        "id": "VmeZ-JT7vgAU"
      },
      "source": [
        "### 층의 파라미터 확인 방법\n",
        "- `get_weight()` 사용"
      ]
    },
    {
      "cell_type": "code",
      "metadata": {
        "colab": {
          "base_uri": "https://localhost:8080/"
        },
        "id": "tSqYqbCWvt26",
        "outputId": "f4d5ef24-4600-4f10-bc3d-1a6cbca567c7"
      },
      "source": [
        "weights, biases = hidden1.get_weights()\n",
        "weights"
      ],
      "execution_count": null,
      "outputs": [
        {
          "output_type": "execute_result",
          "data": {
            "text/plain": [
              "array([[ 0.03770764, -0.05693615, -0.04917307, ..., -0.05639156,\n",
              "         0.0594293 ,  0.03320393],\n",
              "       [ 0.03421903, -0.01009894,  0.03445695, ..., -0.05623742,\n",
              "        -0.02886158,  0.05174698],\n",
              "       [ 0.02896158,  0.04800321, -0.0506296 , ..., -0.06521712,\n",
              "        -0.02440413,  0.03367826],\n",
              "       ...,\n",
              "       [ 0.04398489, -0.06262626,  0.00150014, ...,  0.02040758,\n",
              "        -0.07016663, -0.01243699],\n",
              "       [-0.06560042,  0.03983253,  0.07334235, ..., -0.05007394,\n",
              "        -0.01552234,  0.04555964],\n",
              "       [ 0.02411408, -0.0115964 , -0.04629562, ...,  0.01302569,\n",
              "        -0.03757626,  0.06807001]], dtype=float32)"
            ]
          },
          "metadata": {
            "tags": []
          },
          "execution_count": 17
        }
      ]
    },
    {
      "cell_type": "code",
      "metadata": {
        "colab": {
          "base_uri": "https://localhost:8080/"
        },
        "id": "RLMdw1d7wU-y",
        "outputId": "79740a1c-3abb-4de3-b05c-438190525b27"
      },
      "source": [
        "weights.shape"
      ],
      "execution_count": null,
      "outputs": [
        {
          "output_type": "execute_result",
          "data": {
            "text/plain": [
              "(784, 300)"
            ]
          },
          "metadata": {
            "tags": []
          },
          "execution_count": 18
        }
      ]
    },
    {
      "cell_type": "code",
      "metadata": {
        "colab": {
          "base_uri": "https://localhost:8080/"
        },
        "id": "7UROHHxOwXFk",
        "outputId": "2ed179ca-fdac-4684-d9ab-61d648c37e55"
      },
      "source": [
        "biases"
      ],
      "execution_count": null,
      "outputs": [
        {
          "output_type": "execute_result",
          "data": {
            "text/plain": [
              "array([0., 0., 0., 0., 0., 0., 0., 0., 0., 0., 0., 0., 0., 0., 0., 0., 0.,\n",
              "       0., 0., 0., 0., 0., 0., 0., 0., 0., 0., 0., 0., 0., 0., 0., 0., 0.,\n",
              "       0., 0., 0., 0., 0., 0., 0., 0., 0., 0., 0., 0., 0., 0., 0., 0., 0.,\n",
              "       0., 0., 0., 0., 0., 0., 0., 0., 0., 0., 0., 0., 0., 0., 0., 0., 0.,\n",
              "       0., 0., 0., 0., 0., 0., 0., 0., 0., 0., 0., 0., 0., 0., 0., 0., 0.,\n",
              "       0., 0., 0., 0., 0., 0., 0., 0., 0., 0., 0., 0., 0., 0., 0., 0., 0.,\n",
              "       0., 0., 0., 0., 0., 0., 0., 0., 0., 0., 0., 0., 0., 0., 0., 0., 0.,\n",
              "       0., 0., 0., 0., 0., 0., 0., 0., 0., 0., 0., 0., 0., 0., 0., 0., 0.,\n",
              "       0., 0., 0., 0., 0., 0., 0., 0., 0., 0., 0., 0., 0., 0., 0., 0., 0.,\n",
              "       0., 0., 0., 0., 0., 0., 0., 0., 0., 0., 0., 0., 0., 0., 0., 0., 0.,\n",
              "       0., 0., 0., 0., 0., 0., 0., 0., 0., 0., 0., 0., 0., 0., 0., 0., 0.,\n",
              "       0., 0., 0., 0., 0., 0., 0., 0., 0., 0., 0., 0., 0., 0., 0., 0., 0.,\n",
              "       0., 0., 0., 0., 0., 0., 0., 0., 0., 0., 0., 0., 0., 0., 0., 0., 0.,\n",
              "       0., 0., 0., 0., 0., 0., 0., 0., 0., 0., 0., 0., 0., 0., 0., 0., 0.,\n",
              "       0., 0., 0., 0., 0., 0., 0., 0., 0., 0., 0., 0., 0., 0., 0., 0., 0.,\n",
              "       0., 0., 0., 0., 0., 0., 0., 0., 0., 0., 0., 0., 0., 0., 0., 0., 0.,\n",
              "       0., 0., 0., 0., 0., 0., 0., 0., 0., 0., 0., 0., 0., 0., 0., 0., 0.,\n",
              "       0., 0., 0., 0., 0., 0., 0., 0., 0., 0., 0.], dtype=float32)"
            ]
          },
          "metadata": {
            "tags": []
          },
          "execution_count": 19
        }
      ]
    },
    {
      "cell_type": "code",
      "metadata": {
        "colab": {
          "base_uri": "https://localhost:8080/"
        },
        "id": "UbEE9g9awaw9",
        "outputId": "aa70fa7d-f060-4ecf-bb91-17f8dc3276d6"
      },
      "source": [
        "biases.shape"
      ],
      "execution_count": null,
      "outputs": [
        {
          "output_type": "execute_result",
          "data": {
            "text/plain": [
              "(300,)"
            ]
          },
          "metadata": {
            "tags": []
          },
          "execution_count": 20
        }
      ]
    },
    {
      "cell_type": "markdown",
      "metadata": {
        "id": "BvqPoduOwtgs"
      },
      "source": [
        "- 가중치 행렬의 크기(784, )는 입력에 크기(28*28)에 달려있음\n",
        "- Dense 층은\n",
        "    - 연결 가중치(weights or kernel)를 무작위로 초기화\n",
        "    - 편향(bias)는 0으로 초기화\n",
        "    - 다른 초기화 방법을 사용하고 싶으면\n",
        "        - `kernel_initializer`와 `bias_initializer` 매개변수 설정할 수 있음\n",
        "        - 매개변수 리스트는 [link](https://keras.io/initializers)를 참고"
      ]
    },
    {
      "cell_type": "markdown",
      "metadata": {
        "id": "8uKaKCIsxQFl"
      },
      "source": [
        "## 모델 컴파일\n",
        "- 손실 함수: 훈련하는 동안 모델의 오차를 측정\n",
        "- Optimaizer: 데이터와 손실 함수를 바탕으로 모델의 업데이트 방향 결정\n",
        "- 지표(Metrics): 훈련 단계와 테스트 단계를 모니터링 하기 위해 사용"
      ]
    },
    {
      "cell_type": "code",
      "metadata": {
        "id": "qVuHp6BBx7Ri"
      },
      "source": [
        "model.compile(optimizer=keras.optimizers.SGD(learning_rate=0.01),\n",
        "              loss=keras.losses.sparse_categorical_crossentropy,\n",
        "              metrics=[keras.metrics.sparse_categorical_accuracy]\n",
        "              )"
      ],
      "execution_count": null,
      "outputs": []
    },
    {
      "cell_type": "markdown",
      "metadata": {
        "id": "xWPndDktt6nz"
      },
      "source": [
        "- `optimizer=keras.optimizers.SGD()` == `optimizer='sgd'`\n",
        "    - SGD, Stochastic Gradient Descent, 확률적 경사 하강법\n",
        "    - 역전파 알고리즘을 수행하여, 하이퍼파라미터 학습\n",
        "    - SGD는 default 값으로 learning_rate=0.01을 사용\n",
        "- `loss=keras.losses.sparse_categorical_crossentropy` == `loss='sparse_categorical_crossentropy`\n",
        "    - 레이블이 정수 하나로 이루어져 있고, 클래스가 배타적이므로 손실함수로 `sparse_categorical_crossentropy`를 사용함\n",
        "    - 만양 샘플마다 클래별로 타깃 확률을 가지고 있다면(e.g. one-hot 벡터), `categorical_crossentropy` 손실함수를 사용해야함\n",
        "- `metrics=[keras.metrics.sparse_categorical_accuracy` == `metrics=['accuracy']`\n"
      ]
    },
    {
      "cell_type": "markdown",
      "metadata": {
        "id": "XI9I4l9O0lMS"
      },
      "source": [
        "## 모델 훈련\n",
        "- 훈련 데이터를 모델에 로드, train_images, train_labels\n",
        "- 훈련이 진행되는 동안 모델이 이미지와 레이블을 맵핑\n",
        "- vaildation data를 이용하여 훈련 평가 병행하여 진행"
      ]
    },
    {
      "cell_type": "code",
      "metadata": {
        "colab": {
          "base_uri": "https://localhost:8080/"
        },
        "id": "gC0dGbUE3l43",
        "outputId": "aba72d9c-c870-4398-f67b-cc90d0d84af1"
      },
      "source": [
        "histo = model.fit(train_images, train_labels, epochs=30,\n",
        "          validation_data=(valid_images, valid_labels))"
      ],
      "execution_count": null,
      "outputs": [
        {
          "output_type": "stream",
          "text": [
            "Epoch 1/30\n",
            "1719/1719 [==============================] - 8s 4ms/step - loss: 0.9918 - sparse_categorical_accuracy: 0.6847 - val_loss: 0.5131 - val_sparse_categorical_accuracy: 0.8298\n",
            "Epoch 2/30\n",
            "1719/1719 [==============================] - 7s 4ms/step - loss: 0.5088 - sparse_categorical_accuracy: 0.8212 - val_loss: 0.4509 - val_sparse_categorical_accuracy: 0.8484\n",
            "Epoch 3/30\n",
            "1719/1719 [==============================] - 7s 4ms/step - loss: 0.4480 - sparse_categorical_accuracy: 0.8419 - val_loss: 0.4215 - val_sparse_categorical_accuracy: 0.8584\n",
            "Epoch 4/30\n",
            "1719/1719 [==============================] - 7s 4ms/step - loss: 0.4210 - sparse_categorical_accuracy: 0.8522 - val_loss: 0.4054 - val_sparse_categorical_accuracy: 0.8598\n",
            "Epoch 5/30\n",
            "1719/1719 [==============================] - 7s 4ms/step - loss: 0.3996 - sparse_categorical_accuracy: 0.8599 - val_loss: 0.3795 - val_sparse_categorical_accuracy: 0.8708\n",
            "Epoch 6/30\n",
            "1719/1719 [==============================] - 7s 4ms/step - loss: 0.3847 - sparse_categorical_accuracy: 0.8634 - val_loss: 0.3786 - val_sparse_categorical_accuracy: 0.8712\n",
            "Epoch 7/30\n",
            "1719/1719 [==============================] - 7s 4ms/step - loss: 0.3701 - sparse_categorical_accuracy: 0.8693 - val_loss: 0.3730 - val_sparse_categorical_accuracy: 0.8670\n",
            "Epoch 8/30\n",
            "1719/1719 [==============================] - 8s 4ms/step - loss: 0.3563 - sparse_categorical_accuracy: 0.8740 - val_loss: 0.3597 - val_sparse_categorical_accuracy: 0.8762\n",
            "Epoch 9/30\n",
            "1719/1719 [==============================] - 7s 4ms/step - loss: 0.3439 - sparse_categorical_accuracy: 0.8771 - val_loss: 0.3540 - val_sparse_categorical_accuracy: 0.8776\n",
            "Epoch 10/30\n",
            "1719/1719 [==============================] - 7s 4ms/step - loss: 0.3346 - sparse_categorical_accuracy: 0.8797 - val_loss: 0.3698 - val_sparse_categorical_accuracy: 0.8696\n",
            "Epoch 11/30\n",
            "1719/1719 [==============================] - 7s 4ms/step - loss: 0.3264 - sparse_categorical_accuracy: 0.8835 - val_loss: 0.3434 - val_sparse_categorical_accuracy: 0.8810\n",
            "Epoch 12/30\n",
            "1719/1719 [==============================] - 7s 4ms/step - loss: 0.3157 - sparse_categorical_accuracy: 0.8884 - val_loss: 0.3362 - val_sparse_categorical_accuracy: 0.8778\n",
            "Epoch 13/30\n",
            "1719/1719 [==============================] - 7s 4ms/step - loss: 0.3121 - sparse_categorical_accuracy: 0.8888 - val_loss: 0.3337 - val_sparse_categorical_accuracy: 0.8774\n",
            "Epoch 14/30\n",
            "1719/1719 [==============================] - 7s 4ms/step - loss: 0.3055 - sparse_categorical_accuracy: 0.8913 - val_loss: 0.3229 - val_sparse_categorical_accuracy: 0.8838\n",
            "Epoch 15/30\n",
            "1719/1719 [==============================] - 7s 4ms/step - loss: 0.2970 - sparse_categorical_accuracy: 0.8925 - val_loss: 0.3317 - val_sparse_categorical_accuracy: 0.8776\n",
            "Epoch 16/30\n",
            "1719/1719 [==============================] - 7s 4ms/step - loss: 0.2913 - sparse_categorical_accuracy: 0.8953 - val_loss: 0.3344 - val_sparse_categorical_accuracy: 0.8820\n",
            "Epoch 17/30\n",
            "1719/1719 [==============================] - 7s 4ms/step - loss: 0.2884 - sparse_categorical_accuracy: 0.8955 - val_loss: 0.3229 - val_sparse_categorical_accuracy: 0.8850\n",
            "Epoch 18/30\n",
            "1719/1719 [==============================] - 7s 4ms/step - loss: 0.2749 - sparse_categorical_accuracy: 0.9022 - val_loss: 0.3171 - val_sparse_categorical_accuracy: 0.8870\n",
            "Epoch 19/30\n",
            "1719/1719 [==============================] - 7s 4ms/step - loss: 0.2705 - sparse_categorical_accuracy: 0.9023 - val_loss: 0.3285 - val_sparse_categorical_accuracy: 0.8736\n",
            "Epoch 20/30\n",
            "1719/1719 [==============================] - 6s 4ms/step - loss: 0.2651 - sparse_categorical_accuracy: 0.9039 - val_loss: 0.3144 - val_sparse_categorical_accuracy: 0.8886\n",
            "Epoch 21/30\n",
            "1719/1719 [==============================] - 6s 4ms/step - loss: 0.2642 - sparse_categorical_accuracy: 0.9065 - val_loss: 0.3250 - val_sparse_categorical_accuracy: 0.8852\n",
            "Epoch 22/30\n",
            "1719/1719 [==============================] - 6s 4ms/step - loss: 0.2609 - sparse_categorical_accuracy: 0.9054 - val_loss: 0.3141 - val_sparse_categorical_accuracy: 0.8862\n",
            "Epoch 23/30\n",
            "1719/1719 [==============================] - 6s 3ms/step - loss: 0.2516 - sparse_categorical_accuracy: 0.9083 - val_loss: 0.3151 - val_sparse_categorical_accuracy: 0.8872\n",
            "Epoch 24/30\n",
            "1719/1719 [==============================] - 6s 4ms/step - loss: 0.2523 - sparse_categorical_accuracy: 0.9099 - val_loss: 0.2982 - val_sparse_categorical_accuracy: 0.8950\n",
            "Epoch 25/30\n",
            "1719/1719 [==============================] - 6s 4ms/step - loss: 0.2442 - sparse_categorical_accuracy: 0.9122 - val_loss: 0.2998 - val_sparse_categorical_accuracy: 0.8898\n",
            "Epoch 26/30\n",
            "1719/1719 [==============================] - 6s 4ms/step - loss: 0.2428 - sparse_categorical_accuracy: 0.9122 - val_loss: 0.3110 - val_sparse_categorical_accuracy: 0.8910\n",
            "Epoch 27/30\n",
            "1719/1719 [==============================] - 6s 4ms/step - loss: 0.2358 - sparse_categorical_accuracy: 0.9144 - val_loss: 0.3073 - val_sparse_categorical_accuracy: 0.8876\n",
            "Epoch 28/30\n",
            "1719/1719 [==============================] - 6s 4ms/step - loss: 0.2345 - sparse_categorical_accuracy: 0.9159 - val_loss: 0.3137 - val_sparse_categorical_accuracy: 0.8862\n",
            "Epoch 29/30\n",
            "1719/1719 [==============================] - 7s 4ms/step - loss: 0.2252 - sparse_categorical_accuracy: 0.9194 - val_loss: 0.3129 - val_sparse_categorical_accuracy: 0.8874\n",
            "Epoch 30/30\n",
            "1719/1719 [==============================] - 6s 4ms/step - loss: 0.2199 - sparse_categorical_accuracy: 0.9206 - val_loss: 0.3013 - val_sparse_categorical_accuracy: 0.8914\n"
          ],
          "name": "stdout"
        }
      ]
    },
    {
      "cell_type": "markdown",
      "metadata": {
        "id": "crZ6M-z03wH5"
      },
      "source": [
        "- 시각화 도구를 이용하여 손실함수와 정확도 확인"
      ]
    },
    {
      "cell_type": "code",
      "metadata": {
        "id": "ZGqoGNBT6JwM"
      },
      "source": [
        "import pandas as pd"
      ],
      "execution_count": null,
      "outputs": []
    },
    {
      "cell_type": "code",
      "metadata": {
        "colab": {
          "base_uri": "https://localhost:8080/",
          "height": 324
        },
        "id": "ya1JkJDK6MJT",
        "outputId": "b0c20ddb-1661-445a-af53-44c39aac35a2"
      },
      "source": [
        "pd.DataFrame(histo.history).plot(figsize=(8,5))\n",
        "plt.grid(True)\n",
        "plt.gca().set_ylim(0,1)\n",
        "plt.show()"
      ],
      "execution_count": null,
      "outputs": [
        {
          "output_type": "display_data",
          "data": {
            "image/png": "[encoded data removed]",
            "text/plain": [
              "<Figure size 576x360 with 1 Axes>"
            ]
          },
          "metadata": {
            "tags": [],
            "needs_background": "light"
          }
        }
      ]
    },
    {
      "cell_type": "markdown",
      "metadata": {
        "id": "odrL2DYO6kMy"
      },
      "source": [
        "### 학습 결과가 만족스럽지 못하다면?\n",
        "1. 학습률 튜닝\n",
        "2. 옵티마이저 변경\n",
        "3. 층 개수, 뉴런 개수 활성화 함수 등의 모델의 하이퍼파라미터 튜닝"
      ]
    },
    {
      "cell_type": "markdown",
      "metadata": {
        "id": "mJ_Q96a305h-"
      },
      "source": [
        "## 모델 평가\n",
        "- 모델을 상용 환경으로 배포하기 전에 테스트 세트로 모델을 평가하여 일반화 오차 추정\n",
        "- `evaluate()` 메서드 사용"
      ]
    },
    {
      "cell_type": "code",
      "metadata": {
        "colab": {
          "base_uri": "https://localhost:8080/"
        },
        "id": "0a-j3zDB1NqC",
        "outputId": "6f29777e-3e1c-4480-97c7-14389a2c6f96"
      },
      "source": [
        "model.evaluate(test_images, test_labels)"
      ],
      "execution_count": null,
      "outputs": [
        {
          "output_type": "stream",
          "text": [
            "313/313 [==============================] - 1s 2ms/step - loss: 0.3371 - sparse_categorical_accuracy: 0.8822\n"
          ],
          "name": "stdout"
        },
        {
          "output_type": "execute_result",
          "data": {
            "text/plain": [
              "[0.3371058702468872, 0.8822000026702881]"
            ]
          },
          "metadata": {
            "tags": []
          },
          "execution_count": 29
        }
      ]
    },
    {
      "cell_type": "markdown",
      "metadata": {
        "id": "jHDQezaj1TZ3"
      },
      "source": [
        "## 예측 만들기\n",
        "- `predict()` 메서드를 사용하여, 새로운 샘플에 대해 예측을 만들 수 있다.\n",
        "> 다른 새로운 샘플이 없으므로, 여기서는 테스트 이미지로 사용"
      ]
    },
    {
      "cell_type": "code",
      "metadata": {
        "colab": {
          "base_uri": "https://localhost:8080/"
        },
        "id": "zm8sV9n21rnH",
        "outputId": "9eb63bce-c8cc-42d7-b58e-46ddad860b37"
      },
      "source": [
        "new_image = test_images[:3]\n",
        "model.predict(new_image).round(2)"
      ],
      "execution_count": null,
      "outputs": [
        {
          "output_type": "execute_result",
          "data": {
            "text/plain": [
              "array([[0.  , 0.  , 0.  , 0.  , 0.  , 0.  , 0.  , 0.01, 0.  , 0.98],\n",
              "       [0.  , 0.  , 0.98, 0.  , 0.02, 0.  , 0.  , 0.  , 0.  , 0.  ],\n",
              "       [0.  , 1.  , 0.  , 0.  , 0.  , 0.  , 0.  , 0.  , 0.  , 0.  ]],\n",
              "      dtype=float32)"
            ]
          },
          "metadata": {
            "tags": []
          },
          "execution_count": 32
        }
      ]
    },
    {
      "cell_type": "code",
      "metadata": {
        "colab": {
          "base_uri": "https://localhost:8080/"
        },
        "id": "8U6o34P72EZx",
        "outputId": "e8b49021-9bb2-4c3e-8267-52c9a75fe229"
      },
      "source": [
        "new_labels = model.predict_classes(new_image)\n",
        "new_labels"
      ],
      "execution_count": null,
      "outputs": [
        {
          "output_type": "stream",
          "text": [
            "/usr/local/lib/python3.7/dist-packages/tensorflow/python/keras/engine/sequential.py:450: UserWarning: `model.predict_classes()` is deprecated and will be removed after 2021-01-01. Please use instead:* `np.argmax(model.predict(x), axis=-1)`,   if your model does multi-class classification   (e.g. if it uses a `softmax` last-layer activation).* `(model.predict(x) > 0.5).astype(\"int32\")`,   if your model does binary classification   (e.g. if it uses a `sigmoid` last-layer activation).\n",
            "  warnings.warn('`model.predict_classes()` is deprecated and '\n"
          ],
          "name": "stderr"
        },
        {
          "output_type": "execute_result",
          "data": {
            "text/plain": [
              "array([9, 2, 1])"
            ]
          },
          "metadata": {
            "tags": []
          },
          "execution_count": 33
        }
      ]
    },
    {
      "cell_type": "code",
      "metadata": {
        "colab": {
          "base_uri": "https://localhost:8080/"
        },
        "id": "JN8LMIWe2Q3G",
        "outputId": "17c99fb2-ddb2-4165-935e-a869f29bec83"
      },
      "source": [
        "new_pred = np.argmax(model.predict(new_image), axis=-1)\n",
        "new_pred"
      ],
      "execution_count": null,
      "outputs": [
        {
          "output_type": "execute_result",
          "data": {
            "text/plain": [
              "array([9, 2, 1])"
            ]
          },
          "metadata": {
            "tags": []
          },
          "execution_count": 39
        }
      ]
    },
    {
      "cell_type": "code",
      "metadata": {
        "colab": {
          "base_uri": "https://localhost:8080/"
        },
        "id": "YHEmASDV436J",
        "outputId": "c72dcd46-f822-430c-de23-3a5e1a8ea141"
      },
      "source": [
        "np.array(class_names)[new_pred]"
      ],
      "execution_count": null,
      "outputs": [
        {
          "output_type": "execute_result",
          "data": {
            "text/plain": [
              "array(['Ankle boot', 'Pullover', 'Trouser'], dtype='<U11')"
            ]
          },
          "metadata": {
            "tags": []
          },
          "execution_count": 40
        }
      ]
    }
  ]
}